{
 "cells": [
  {
   "cell_type": "markdown",
   "id": "817f364b",
   "metadata": {},
   "source": [
    "### Calculating the confidence intervals (CI) from FYP - (3) Drift\n",
    "\n",
    "NOTE: The code for the CI was not written by me but by my supervisor Tin-Yu Hui."
   ]
  },
  {
   "cell_type": "code",
   "execution_count": 24,
   "id": "23849047",
   "metadata": {
    "vscode": {
     "languageId": "r"
    }
   },
   "outputs": [],
   "source": [
    "require(compiler)\n",
    "require(hdf5r)"
   ]
  },
  {
   "cell_type": "code",
   "execution_count": 64,
   "id": "1b1738bc",
   "metadata": {
    "vscode": {
     "languageId": "r"
    }
   },
   "outputs": [],
   "source": [
    "# LOAD THE FIRST POPULATION. 2013 HDF5\n",
    "dat1<-H5File$new('2013_3R_int_10.hdf5', 'r')\n",
    "# LOAD THE SECOND POPULATION. 2015 HDF5\n",
    "dat2<-H5File$new('2015_3R_int_10.hdf5', 'r')\n",
    "# maf>=0.1 FOR THE FIRST TEMPORAL SAMPLE, NO REQUIREMENT FOR THE SECOND"
   ]
  },
  {
   "cell_type": "code",
   "execution_count": 65,
   "id": "65ee4c79",
   "metadata": {
    "vscode": {
     "languageId": "r"
    }
   },
   "outputs": [
    {
     "data": {
      "text/plain": [
       "Class: H5File\n",
       "Filename: C:\\Users\\isabe\\OneDrive - Imperial College London\\Final Year Project\\2013_3R_int_10.hdf5\n",
       "Access type: H5F_ACC_RDONLY\n",
       "Listing:\n",
       "     name    obj_type   dataset.dims dataset.type_class\n",
       "      POS H5I_DATASET          13580        H5T_INTEGER\n",
       " genotype H5I_DATASET 2 x 73 x 13580        H5T_INTEGER"
      ]
     },
     "metadata": {},
     "output_type": "display_data"
    },
    {
     "data": {
      "text/plain": [
       "Class: H5File\n",
       "Filename: C:\\Users\\isabe\\OneDrive - Imperial College London\\Final Year Project\\2015_3R_int_10.hdf5\n",
       "Access type: H5F_ACC_RDONLY\n",
       "Listing:\n",
       "     name    obj_type    dataset.dims dataset.type_class\n",
       "      POS H5I_DATASET           13580        H5T_INTEGER\n",
       " genotype H5I_DATASET 2 x 104 x 13580        H5T_INTEGER"
      ]
     },
     "metadata": {},
     "output_type": "display_data"
    }
   ],
   "source": [
    "dat1\n",
    "dat2"
   ]
  },
  {
   "cell_type": "code",
   "execution_count": 66,
   "id": "ff810099",
   "metadata": {
    "vscode": {
     "languageId": "r"
    }
   },
   "outputs": [
    {
     "data": {
      "text/html": [
       "<ol class=list-inline>\n",
       "\t<li>2</li>\n",
       "\t<li>73</li>\n",
       "\t<li>13580</li>\n",
       "</ol>\n"
      ],
      "text/latex": [
       "\\begin{enumerate*}\n",
       "\\item 2\n",
       "\\item 73\n",
       "\\item 13580\n",
       "\\end{enumerate*}\n"
      ],
      "text/markdown": [
       "1. 2\n",
       "2. 73\n",
       "3. 13580\n",
       "\n",
       "\n"
      ],
      "text/plain": [
       "[1]     2    73 13580"
      ]
     },
     "metadata": {},
     "output_type": "display_data"
    },
    {
     "data": {
      "text/html": [
       "<ol class=list-inline>\n",
       "\t<li>1</li>\n",
       "\t<li>0</li>\n",
       "\t<li>2</li>\n",
       "\t<li>3</li>\n",
       "</ol>\n"
      ],
      "text/latex": [
       "\\begin{enumerate*}\n",
       "\\item 1\n",
       "\\item 0\n",
       "\\item 2\n",
       "\\item 3\n",
       "\\end{enumerate*}\n"
      ],
      "text/markdown": [
       "1. 1\n",
       "2. 0\n",
       "3. 2\n",
       "4. 3\n",
       "\n",
       "\n"
      ],
      "text/plain": [
       "[1] 1 0 2 3"
      ]
     },
     "metadata": {},
     "output_type": "display_data"
    },
    {
     "data": {
      "text/html": [
       "<ol class=list-inline>\n",
       "\t<li>2</li>\n",
       "\t<li>104</li>\n",
       "\t<li>13580</li>\n",
       "</ol>\n"
      ],
      "text/latex": [
       "\\begin{enumerate*}\n",
       "\\item 2\n",
       "\\item 104\n",
       "\\item 13580\n",
       "\\end{enumerate*}\n"
      ],
      "text/markdown": [
       "1. 2\n",
       "2. 104\n",
       "3. 13580\n",
       "\n",
       "\n"
      ],
      "text/plain": [
       "[1]     2   104 13580"
      ]
     },
     "metadata": {},
     "output_type": "display_data"
    },
    {
     "data": {
      "text/html": [
       "<ol class=list-inline>\n",
       "\t<li>0</li>\n",
       "\t<li>1</li>\n",
       "\t<li>2</li>\n",
       "\t<li>3</li>\n",
       "</ol>\n"
      ],
      "text/latex": [
       "\\begin{enumerate*}\n",
       "\\item 0\n",
       "\\item 1\n",
       "\\item 2\n",
       "\\item 3\n",
       "\\end{enumerate*}\n"
      ],
      "text/markdown": [
       "1. 0\n",
       "2. 1\n",
       "3. 2\n",
       "4. 3\n",
       "\n",
       "\n"
      ],
      "text/plain": [
       "[1] 0 1 2 3"
      ]
     },
     "metadata": {},
     "output_type": "display_data"
    }
   ],
   "source": [
    "# READ genotype AS R ARRAY, 3D\n",
    "genotype1<-dat1[['genotype']][,,]\n",
    "dim(genotype1)\n",
    "unique(as.numeric(genotype1))\n",
    "# DO THE SAME FOR 2015 HDF5\n",
    "genotype2<-dat2[['genotype']][,,]\n",
    "dim(genotype2)\n",
    "unique(as.numeric(genotype2))"
   ]
  },
  {
   "cell_type": "code",
   "execution_count": 67,
   "id": "b37f37c4",
   "metadata": {
    "vscode": {
     "languageId": "r"
    }
   },
   "outputs": [],
   "source": [
    "POS<-dat1[['POS']][]"
   ]
  },
  {
   "cell_type": "code",
   "execution_count": 68,
   "id": "1cdb54f8",
   "metadata": {
    "vscode": {
     "languageId": "r"
    }
   },
   "outputs": [],
   "source": [
    "# FUNCTION TO RETURN THE FOUR ALLELE COUNTS. PER LOCUS\n",
    "allele.count<-function(GT)\n",
    "{\n",
    "    a1<-GT[1,]\n",
    "    a2<-GT[2,]\n",
    "    a<-c(a1, a2)\n",
    "    return(c(sum(a=='0'), sum(a=='1'), sum(a=='2'), sum(a=='3')))\n",
    "}\n",
    "\n",
    "# FUNCTION TO RETURN NUMBER OF ALLELES. PER LOCUS\n",
    "allelism<-function(allele_count)\n",
    "{\n",
    "    return(sum(allele_count>0))\n",
    "}\n",
    "\n",
    "# FUNCTION TO CONVERT COUNT TO FREQUENCY, PER LOCUS\n",
    "allele.frequency<-function(allele_count)\n",
    "{\n",
    "    y<-allele_count[1]+allele_count[2]+allele_count[3]+allele_count[4]\n",
    "    return(allele_count/y)\n",
    "}\n",
    "\n",
    "# FUNCTION TO RETURN WHICH LARGEST FREQ? PER LOCUS\n",
    "# 1 RETURN THE LARGEST, 2 RETURN MAF, ETC\n",
    "cal.frequency<-function(allele_frequency, which=1)\n",
    "{\n",
    "    return(allele_frequency[order(allele_frequency, decreasing=T)[which]])\n",
    "}\n",
    "\n",
    "# FUNCTION TO RETURN THE WHICH LARGEST ALLELE (0, 1, 2, 3?) PER LOCUS\n",
    "# 1 RETURN THE LARGEST\n",
    "find.allele<-function(allele_count, which=1)\n",
    "{\n",
    "    return(order(allele_count, decreasing=T)[which]-1)\n",
    "}\n",
    "\n",
    "# FUNCTION TO CONVERT MULTIALLELIC LOCI INTO BIALLELIC (GROUP REMAINING THREE AS ALT)\n",
    "# RETURN NUMERIC. 0 (REF HOMOZYGOTE), 1 (HETEROZYGOTE), 2, MISSING IS NA\n",
    "to.biallelic<-function(GT, ref='0')\n",
    "{\n",
    "    a1<-GT[1,]\n",
    "    a2<-GT[2,]\n",
    "    b1<-1-(a1==ref)\n",
    "    b2<-1-(a2==ref)\n",
    "    return(b1+b2)\n",
    "}"
   ]
  },
  {
   "cell_type": "code",
   "execution_count": 69,
   "id": "f6b95f5c",
   "metadata": {
    "vscode": {
     "languageId": "r"
    }
   },
   "outputs": [
    {
     "data": {
      "text/html": [
       "<ol class=list-inline>\n",
       "\t<li>13580</li>\n",
       "\t<li>4</li>\n",
       "</ol>\n"
      ],
      "text/latex": [
       "\\begin{enumerate*}\n",
       "\\item 13580\n",
       "\\item 4\n",
       "\\end{enumerate*}\n"
      ],
      "text/markdown": [
       "1. 13580\n",
       "2. 4\n",
       "\n",
       "\n"
      ],
      "text/plain": [
       "[1] 13580     4"
      ]
     },
     "metadata": {},
     "output_type": "display_data"
    },
    {
     "data": {
      "text/html": [
       "<ol class=list-inline>\n",
       "\t<li>47</li>\n",
       "\t<li>99</li>\n",
       "\t<li>0</li>\n",
       "\t<li>0</li>\n",
       "</ol>\n"
      ],
      "text/latex": [
       "\\begin{enumerate*}\n",
       "\\item 47\n",
       "\\item 99\n",
       "\\item 0\n",
       "\\item 0\n",
       "\\end{enumerate*}\n"
      ],
      "text/markdown": [
       "1. 47\n",
       "2. 99\n",
       "3. 0\n",
       "4. 0\n",
       "\n",
       "\n"
      ],
      "text/plain": [
       "[1] 47 99  0  0"
      ]
     },
     "metadata": {},
     "output_type": "display_data"
    },
    {
     "data": {
      "text/html": [
       "<ol class=list-inline>\n",
       "\t<li>13580</li>\n",
       "\t<li>4</li>\n",
       "</ol>\n"
      ],
      "text/latex": [
       "\\begin{enumerate*}\n",
       "\\item 13580\n",
       "\\item 4\n",
       "\\end{enumerate*}\n"
      ],
      "text/markdown": [
       "1. 13580\n",
       "2. 4\n",
       "\n",
       "\n"
      ],
      "text/plain": [
       "[1] 13580     4"
      ]
     },
     "metadata": {},
     "output_type": "display_data"
    },
    {
     "data": {
      "text/html": [
       "<ol class=list-inline>\n",
       "\t<li>0.321917808219178</li>\n",
       "\t<li>0.678082191780822</li>\n",
       "\t<li>0</li>\n",
       "\t<li>0</li>\n",
       "</ol>\n"
      ],
      "text/latex": [
       "\\begin{enumerate*}\n",
       "\\item 0.321917808219178\n",
       "\\item 0.678082191780822\n",
       "\\item 0\n",
       "\\item 0\n",
       "\\end{enumerate*}\n"
      ],
      "text/markdown": [
       "1. 0.321917808219178\n",
       "2. 0.678082191780822\n",
       "3. 0\n",
       "4. 0\n",
       "\n",
       "\n"
      ],
      "text/plain": [
       "[1] 0.3219178 0.6780822 0.0000000 0.0000000"
      ]
     },
     "metadata": {},
     "output_type": "display_data"
    },
    {
     "data": {
      "text/html": [
       "13580"
      ],
      "text/latex": [
       "13580"
      ],
      "text/markdown": [
       "13580"
      ],
      "text/plain": [
       "[1] 13580"
      ]
     },
     "metadata": {},
     "output_type": "display_data"
    }
   ],
   "source": [
    "# FIND ALLELE COUNT\n",
    "allele_count1<-t(apply(genotype1, 3, allele.count))\n",
    "dim(allele_count1)\n",
    "allele_count1[1,]\n",
    "# TO ALLELE FREQ\n",
    "af1<-t(apply(allele_count1, 1, allele.frequency))\n",
    "dim(af1)\n",
    "af1[1,]\n",
    "# FIND MAJOR ALeLE FREQ AND ITS SUMMARY\n",
    "major_f1<-apply(af1, 1, cal.frequency, which=1)\n",
    "length(major_f1)\n",
    "# FIND THE MAJOR ALLELE \n",
    "major_allele1<-apply(allele_count1, 1, find.allele, which=1)"
   ]
  },
  {
   "cell_type": "code",
   "execution_count": 71,
   "id": "cb96a2da",
   "metadata": {
    "vscode": {
     "languageId": "r"
    }
   },
   "outputs": [
    {
     "data": {
      "text/html": [
       "<ol class=list-inline>\n",
       "\t<li>13580</li>\n",
       "\t<li>73</li>\n",
       "</ol>\n"
      ],
      "text/latex": [
       "\\begin{enumerate*}\n",
       "\\item 13580\n",
       "\\item 73\n",
       "\\end{enumerate*}\n"
      ],
      "text/markdown": [
       "1. 13580\n",
       "2. 73\n",
       "\n",
       "\n"
      ],
      "text/plain": [
       "[1] 13580    73"
      ]
     },
     "metadata": {},
     "output_type": "display_data"
    },
    {
     "data": {
      "text/html": [
       "<ol class=list-inline>\n",
       "\t<li>13580</li>\n",
       "\t<li>104</li>\n",
       "</ol>\n"
      ],
      "text/latex": [
       "\\begin{enumerate*}\n",
       "\\item 13580\n",
       "\\item 104\n",
       "\\end{enumerate*}\n"
      ],
      "text/markdown": [
       "1. 13580\n",
       "2. 104\n",
       "\n",
       "\n"
      ],
      "text/plain": [
       "[1] 13580   104"
      ]
     },
     "metadata": {},
     "output_type": "display_data"
    },
    {
     "data": {
      "text/html": [
       "<ol class=list-inline>\n",
       "\t<li>0</li>\n",
       "\t<li>1</li>\n",
       "\t<li>2</li>\n",
       "</ol>\n"
      ],
      "text/latex": [
       "\\begin{enumerate*}\n",
       "\\item 0\n",
       "\\item 1\n",
       "\\item 2\n",
       "\\end{enumerate*}\n"
      ],
      "text/markdown": [
       "1. 0\n",
       "2. 1\n",
       "3. 2\n",
       "\n",
       "\n"
      ],
      "text/plain": [
       "[1] 0 1 2"
      ]
     },
     "metadata": {},
     "output_type": "display_data"
    },
    {
     "data": {
      "text/html": [
       "<ol class=list-inline>\n",
       "\t<li>1</li>\n",
       "\t<li>0</li>\n",
       "\t<li>2</li>\n",
       "</ol>\n"
      ],
      "text/latex": [
       "\\begin{enumerate*}\n",
       "\\item 1\n",
       "\\item 0\n",
       "\\item 2\n",
       "\\end{enumerate*}\n"
      ],
      "text/markdown": [
       "1. 1\n",
       "2. 0\n",
       "3. 2\n",
       "\n",
       "\n"
      ],
      "text/plain": [
       "[1] 1 0 2"
      ]
     },
     "metadata": {},
     "output_type": "display_data"
    }
   ],
   "source": [
    "# CONVERT TO GENOTYPE MATRIX (WITH 0, 1, 2 ONLY, 0 IS THE MAJOR ALLELE)\n",
    "g1<-matrix(nc=dim(genotype1)[2], nr=dim(genotype1)[3])\n",
    "g2<-matrix(nc=dim(genotype2)[2], nr=dim(genotype2)[3])\n",
    "for (i in 1:nrow(g1))\n",
    "{\n",
    "    g1[i,]<-to.biallelic(genotype1[,,i], ref=major_allele1[i])\n",
    "    g2[i,]<-to.biallelic(genotype2[,,i], ref=major_allele1[i])\n",
    "}\n",
    "dim(g1)\n",
    "dim(g2)\n",
    "unique(as.numeric(g1))\n",
    "unique(as.numeric(g2))"
   ]
  },
  {
   "cell_type": "code",
   "execution_count": 72,
   "id": "9e35a479",
   "metadata": {
    "vscode": {
     "languageId": "r"
    }
   },
   "outputs": [
    {
     "data": {
      "text/html": [
       "73"
      ],
      "text/latex": [
       "73"
      ],
      "text/markdown": [
       "73"
      ],
      "text/plain": [
       "[1] 73"
      ]
     },
     "metadata": {},
     "output_type": "display_data"
    },
    {
     "data": {
      "text/html": [
       "104"
      ],
      "text/latex": [
       "104"
      ],
      "text/markdown": [
       "104"
      ],
      "text/plain": [
       "[1] 104"
      ]
     },
     "metadata": {},
     "output_type": "display_data"
    },
    {
     "data": {
      "text/html": [
       "13580"
      ],
      "text/latex": [
       "13580"
      ],
      "text/markdown": [
       "13580"
      ],
      "text/plain": [
       "[1] 13580"
      ]
     },
     "metadata": {},
     "output_type": "display_data"
    }
   ],
   "source": [
    "# THE TWO SAMPLE SIZES\n",
    "s1<-ncol(g1)\n",
    "s2<-ncol(g2)\n",
    "s1\n",
    "s2\n",
    "# NUMBER OF LOCI \n",
    "K<-nrow(g1)\n",
    "K"
   ]
  },
  {
   "cell_type": "code",
   "execution_count": 73,
   "id": "807820c6",
   "metadata": {
    "vscode": {
     "languageId": "r"
    }
   },
   "outputs": [
    {
     "data": {
      "text/html": [
       "0.0112564541599081"
      ],
      "text/latex": [
       "0.0112564541599081"
      ],
      "text/markdown": [
       "0.0112564541599081"
      ],
      "text/plain": [
       "[1] 0.01125645"
      ]
     },
     "metadata": {},
     "output_type": "display_data"
    },
    {
     "data": {
      "text/html": [
       "0.0116570073761855"
      ],
      "text/latex": [
       "0.0116570073761855"
      ],
      "text/markdown": [
       "0.0116570073761855"
      ],
      "text/plain": [
       "[1] 0.01165701"
      ]
     },
     "metadata": {},
     "output_type": "display_data"
    },
    {
     "data": {
      "text/html": [
       "-0.00040055321627739"
      ],
      "text/latex": [
       "-0.00040055321627739"
      ],
      "text/markdown": [
       "-0.00040055321627739"
      ],
      "text/plain": [
       "[1] -0.0004005532"
      ]
     },
     "metadata": {},
     "output_type": "display_data"
    }
   ],
   "source": [
    "# RECALCULATE THE TWO ALLELE FREQ AGAIN\n",
    "f1<-apply(g1, 1, sum)/(2*s1)\n",
    "f2<-apply(g2, 1, sum)/(2*s2)\n",
    "\n",
    "# TEMPORAL Fc\n",
    "Fa<-mean((f1-f2)^2/(f1*(1-f1)))\n",
    "Fa\n",
    "\n",
    "# SIZE OF SAMPLING ERROR \n",
    "0.5/s1+0.5/s2\n",
    "\n",
    "# MINUS SAMPLING ERROR\n",
    "Fa-0.5/s1-0.5/s2"
   ]
  },
  {
   "cell_type": "markdown",
   "id": "1c68daa2",
   "metadata": {},
   "source": [
    "RESULTS:\n",
    "- Sampling error same for all: 0.0116570073761855\n",
    "\n",
    "- fa_X_int: 0.0118885280123931\n",
    "- fa_X_int_se: 0.000231520636207599\n",
    "\n",
    "- fa_X_4: 0.0111445581858069\n",
    "- fa_X_4_se: -0.000512449190378569\n",
    "\n",
    "- fa_3R_4: 0.0112449825807431\n",
    "- fa_3R_4_se: -0.00041202479544232\n",
    "\n",
    "- fa_3R_int: 0.0112564541599081\n",
    "- fa_3R_int_se: -0.00040055321627739\n",
    "\n"
   ]
  },
  {
   "cell_type": "code",
   "execution_count": 74,
   "id": "e481d1fd",
   "metadata": {
    "vscode": {
     "languageId": "r"
    }
   },
   "outputs": [
    {
     "data": {
      "text/html": [
       "-24965.4717366564"
      ],
      "text/latex": [
       "-24965.4717366564"
      ],
      "text/markdown": [
       "-24965.4717366564"
      ],
      "text/plain": [
       "[1] -24965.47"
      ]
     },
     "metadata": {},
     "output_type": "display_data"
    }
   ],
   "source": [
    "# Ne ESTIMATE, 20 GENERATIONS APART?\n",
    "t<-20\n",
    "N<-t/(2*(Fa-0.5/s1-0.5/s2))\n",
    "N"
   ]
  },
  {
   "cell_type": "code",
   "execution_count": 75,
   "id": "23f89bbf",
   "metadata": {
    "vscode": {
     "languageId": "r"
    }
   },
   "outputs": [
    {
     "name": "stdout",
     "output_type": "stream",
     "text": [
      "Using 4 cores. \n"
     ]
    },
    {
     "data": {
      "text/html": [
       "<table>\n",
       "<thead><tr><th></th><th scope=col>used</th><th scope=col>(Mb)</th><th scope=col>gc trigger</th><th scope=col>(Mb)</th><th scope=col>max used</th><th scope=col>(Mb)</th></tr></thead>\n",
       "<tbody>\n",
       "\t<tr><th scope=row>Ncells</th><td>   738320 </td><td>  39.5    </td><td>  1207595 </td><td>  64.5    </td><td>   1207595</td><td>  64.5    </td></tr>\n",
       "\t<tr><th scope=row>Vcells</th><td>190253866 </td><td>1451.6    </td><td>856821642 </td><td>6537.1    </td><td>1020119242</td><td>7782.9    </td></tr>\n",
       "</tbody>\n",
       "</table>\n"
      ],
      "text/latex": [
       "\\begin{tabular}{r|llllll}\n",
       "  & used & (Mb) & gc trigger & (Mb) & max used & (Mb)\\\\\n",
       "\\hline\n",
       "\tNcells &    738320  &   39.5     &   1207595  &   64.5     &    1207595 &   64.5    \\\\\n",
       "\tVcells & 190253866  & 1451.6     & 856821642  & 6537.1     & 1020119242 & 7782.9    \\\\\n",
       "\\end{tabular}\n"
      ],
      "text/markdown": [
       "\n",
       "| <!--/--> | used | (Mb) | gc trigger | (Mb) | max used | (Mb) |\n",
       "|---|---|---|---|---|---|---|\n",
       "| Ncells |    738320  |   39.5     |   1207595  |   64.5     |    1207595 |   64.5     |\n",
       "| Vcells | 190253866  | 1451.6     | 856821642  | 6537.1     | 1020119242 | 7782.9     |\n",
       "\n"
      ],
      "text/plain": [
       "       used      (Mb)   gc trigger (Mb)   max used   (Mb)  \n",
       "Ncells    738320   39.5   1207595    64.5    1207595   64.5\n",
       "Vcells 190253866 1451.6 856821642  6537.1 1020119242 7782.9"
      ]
     },
     "metadata": {},
     "output_type": "display_data"
    }
   ],
   "source": [
    "# EXPLICITLY TELL R THAT g1 IS A MATRIX OF INTEGERS\n",
    "mode(g1)<-'integer'\n",
    "# CALCULATE R MATRIX AND EIGENVALUES FOR Fa\n",
    "# ONLY CHANGE THE 39033 TO YOUR Ne ESTIMATE. IF THE ESTIMATE IS NEGATIVE, JUST SAY 1e6 (ONE MILLION)\n",
    "dyn.load(\"C:/Users/isabe/OneDrive - Imperial College London/r_matrix.dll\")\n",
    "R <- .Call('cal_corr_matrix_unphased', t(g1), as.integer(POS), 0.032, # Change recombination rate for X (0.011) and 3R (0.032)\n",
    "           as.integer(1e6), \n",
    "           as.integer(s1), as.integer(s2), as.integer(t), 4)\n",
    "dyn.unload(\"C:/Users/isabe/OneDrive - Imperial College London/r_matrix.dll\")\n",
    "e <- eigen(R, only.values=TRUE)\n",
    "gc()"
   ]
  },
  {
   "cell_type": "code",
   "execution_count": 76,
   "id": "281ec625",
   "metadata": {
    "vscode": {
     "languageId": "r"
    }
   },
   "outputs": [],
   "source": [
    "# C.I. WITH Fa\n",
    "gen_Q2 <- function(eigenvalues)\n",
    "{\n",
    "  working_eigenvalues <- eigenvalues[eigenvalues>0]\n",
    "  working_eigenvalues <- working_eigenvalues*sum(eigenvalues)/sum(working_eigenvalues)\n",
    "  dyn.load(\"C:/Users/isabe/OneDrive - Imperial College London/r_matrix.dll\")\n",
    "  y <- .Call('generate_Q2', working_eigenvalues, 50000)\n",
    "  dyn.unload(\"C:/Users/isabe/OneDrive - Imperial College London/r_matrix.dll\")\n",
    "  return(y)\n",
    "}\n",
    "# EMPIRICAL Q2 DISTRIBUTION. YOU WILL GET A SLIGHTLY DIFFERENT Q2 BECAUSE OF RANDOMNESS\n",
    "Q2<-gen_Q2(e$values)"
   ]
  },
  {
   "cell_type": "code",
   "execution_count": 77,
   "id": "1f798bfc",
   "metadata": {
    "vscode": {
     "languageId": "r"
    }
   },
   "outputs": [
    {
     "data": {
      "image/png": "[encoded data removed]",
      "text/plain": [
       "Plot with title \"Histogram of Q2\""
      ]
     },
     "metadata": {},
     "output_type": "display_data"
    }
   ],
   "source": [
    "hist(Q2)"
   ]
  },
  {
   "cell_type": "code",
   "execution_count": 78,
   "id": "aebae50a",
   "metadata": {
    "vscode": {
     "languageId": "r"
    }
   },
   "outputs": [
    {
     "data": {
      "text/html": [
       "<dl class=dl-horizontal>\n",
       "\t<dt>97.5%</dt>\n",
       "\t\t<dd>0.0104779779238563</dd>\n",
       "\t<dt>2</dt>\n",
       "\t\t<dd>0.0112564541599081</dd>\n",
       "\t<dt>2.5%</dt>\n",
       "\t\t<dd>0.0120624294159431</dd>\n",
       "</dl>\n"
      ],
      "text/latex": [
       "\\begin{description*}\n",
       "\\item[97.5\\textbackslash{}\\%] 0.0104779779238563\n",
       "\\item[2] 0.0112564541599081\n",
       "\\item[2.5\\textbackslash{}\\%] 0.0120624294159431\n",
       "\\end{description*}\n"
      ],
      "text/markdown": [
       "97.5%\n",
       ":   0.01047797792385632\n",
       ":   0.01125645415990812.5%\n",
       ":   0.0120624294159431\n",
       "\n"
      ],
      "text/plain": [
       "     97.5%                  2.5% \n",
       "0.01047798 0.01125645 0.01206243 "
      ]
     },
     "metadata": {},
     "output_type": "display_data"
    }
   ],
   "source": [
    "# LOWER CI FOR Fa\n",
    "F_lower<-K*Fa/quantile(Q2, 0.975)\n",
    "# UPPER CI FOR Fa\n",
    "F_upper<-K*Fa/quantile(Q2, 0.025)\n",
    "c(F_lower, Fa, F_upper)"
   ]
  },
  {
   "cell_type": "markdown",
   "id": "e75087b2",
   "metadata": {},
   "source": [
    "Results:\n",
    "- X_int\n",
    "    - 97.5% 0.0106355463067176\n",
    "    - 2 0.0118885280123931\n",
    "    - 2.5% 0.0132592031789685\n",
    "    \n",
    "- X_4\n",
    "    - 97.5% 0.00956512448725907\n",
    "    - 2 0.0111445581858069\n",
    "    - 2.5% 0.0130109408072938\n",
    "    \n",
    "- 3R_4\n",
    "    - 97.5% 0.0102342291518286\n",
    "    - 2 0.0112449825807431\n",
    "    - 2.5% 0.0123396956240277\n",
    "    \n",
    "- 3R_int\n",
    "    - 97.5% 0.0104779779238563\n",
    "    - 2 0.0112564541599081\n",
    "    - 2.5% 0.012062429415943\n",
    "  "
   ]
  },
  {
   "cell_type": "code",
   "execution_count": 79,
   "id": "e1a923c3",
   "metadata": {
    "vscode": {
     "languageId": "r"
    }
   },
   "outputs": [
    {
     "data": {
      "text/html": [
       "<strong>2.5%:</strong> 24665.6546002707"
      ],
      "text/latex": [
       "\\textbf{2.5\\textbackslash{}\\%:} 24665.6546002707"
      ],
      "text/markdown": [
       "**2.5%:** 24665.6546002707"
      ],
      "text/plain": [
       "    2.5% \n",
       "24665.65 "
      ]
     },
     "metadata": {},
     "output_type": "display_data"
    },
    {
     "data": {
      "text/html": [
       "<strong>97.5%:</strong> -8481.55233123725"
      ],
      "text/latex": [
       "\\textbf{97.5\\textbackslash{}\\%:} -8481.55233123725"
      ],
      "text/markdown": [
       "**97.5%:** -8481.55233123725"
      ],
      "text/plain": [
       "    97.5% \n",
       "-8481.552 "
      ]
     },
     "metadata": {},
     "output_type": "display_data"
    },
    {
     "data": {
      "text/html": [
       "<dl class=dl-horizontal>\n",
       "\t<dt>2.5%</dt>\n",
       "\t\t<dd>24665.6546002707</dd>\n",
       "\t<dt>2</dt>\n",
       "\t\t<dd>-24965.4717366564</dd>\n",
       "\t<dt>97.5%</dt>\n",
       "\t\t<dd>-8481.55233123725</dd>\n",
       "</dl>\n"
      ],
      "text/latex": [
       "\\begin{description*}\n",
       "\\item[2.5\\textbackslash{}\\%] 24665.6546002707\n",
       "\\item[2] -24965.4717366564\n",
       "\\item[97.5\\textbackslash{}\\%] -8481.55233123725\n",
       "\\end{description*}\n"
      ],
      "text/markdown": [
       "2.5%\n",
       ":   24665.65460027072\n",
       ":   -24965.471736656497.5%\n",
       ":   -8481.55233123725\n",
       "\n"
      ],
      "text/plain": [
       "      2.5%                 97.5% \n",
       " 24665.655 -24965.472  -8481.552 "
      ]
     },
     "metadata": {},
     "output_type": "display_data"
    }
   ],
   "source": [
    "# LOWER CI FOR Ne, FROM THE UPPER CI F\n",
    "N_lower<-t/(2*(F_upper-0.5/s1-0.5/s2))\n",
    "N_lower\n",
    "\n",
    "N_upper<-t/(2*(F_lower-0.5/s1-0.5/s2))\n",
    "N_upper\n",
    "\n",
    "c(N_lower, N, N_upper) # Negative means infinity"
   ]
  },
  {
   "cell_type": "markdown",
   "id": "d4602b72",
   "metadata": {},
   "source": [
    "Results:\n",
    "- X_int\n",
    "    - 2.5% 6241.43440060828\n",
    "    - 2 43192.6940241872\n",
    "    - 97.5% -9789.89831223785\n",
    "    \n",
    "- X_4\n",
    "   - 2.5% 7385.88749656176\n",
    "   - 2 -19514.1297669191\n",
    "   - 97.5% -4780.38233064389\n",
    "   \n",
    "- 3R_4\n",
    "    - 2.5% 14647.9744328492\n",
    "    - 2 -24270.3839929457\n",
    "    - 97.5% -7028.50228433905\n",
    "    \n",
    "- 3R_int\n",
    "    - 2.5% 24665.6546002707\n",
    "    - 2 -24965.4717366564\n",
    "    - 97.5% -8481.55233123725"
   ]
  },
  {
   "cell_type": "code",
   "execution_count": 80,
   "id": "9287b836",
   "metadata": {
    "vscode": {
     "languageId": "r"
    }
   },
   "outputs": [
    {
     "data": {
      "image/png": "[encoded data removed]",
      "text/plain": [
       "Plot with title \"Histogram of rchisq(50000, df = K)\""
      ]
     },
     "metadata": {},
     "output_type": "display_data"
    }
   ],
   "source": [
    "# COMPARISON, CHI-SQUARE WITH K DEGREES OF FREEDOM\n",
    "# IT IS MUCH NARROWER THAN THE ONE ABOVE\n",
    "hist(rchisq(50000, df=K))"
   ]
  },
  {
   "cell_type": "code",
   "execution_count": 82,
   "id": "10b84685",
   "metadata": {
    "vscode": {
     "languageId": "r"
    }
   },
   "outputs": [
    {
     "data": {
      "text/html": [
       "<dl>\n",
       "\t<dt>$platform</dt>\n",
       "\t\t<dd>'x86_64-w64-mingw32'</dd>\n",
       "\t<dt>$arch</dt>\n",
       "\t\t<dd>'x86_64'</dd>\n",
       "\t<dt>$os</dt>\n",
       "\t\t<dd>'mingw32'</dd>\n",
       "\t<dt>$system</dt>\n",
       "\t\t<dd>'x86_64, mingw32'</dd>\n",
       "\t<dt>$status</dt>\n",
       "\t\t<dd>''</dd>\n",
       "\t<dt>$major</dt>\n",
       "\t\t<dd>'3'</dd>\n",
       "\t<dt>$minor</dt>\n",
       "\t\t<dd>'6.1'</dd>\n",
       "\t<dt>$year</dt>\n",
       "\t\t<dd>'2019'</dd>\n",
       "\t<dt>$month</dt>\n",
       "\t\t<dd>'07'</dd>\n",
       "\t<dt>$day</dt>\n",
       "\t\t<dd>'05'</dd>\n",
       "\t<dt>$`svn rev`</dt>\n",
       "\t\t<dd>'76782'</dd>\n",
       "\t<dt>$language</dt>\n",
       "\t\t<dd>'R'</dd>\n",
       "\t<dt>$version.string</dt>\n",
       "\t\t<dd>'R version 3.6.1 (2019-07-05)'</dd>\n",
       "\t<dt>$nickname</dt>\n",
       "\t\t<dd>'Action of the Toes'</dd>\n",
       "</dl>\n"
      ],
      "text/latex": [
       "\\begin{description}\n",
       "\\item[\\$platform] 'x86\\_64-w64-mingw32'\n",
       "\\item[\\$arch] 'x86\\_64'\n",
       "\\item[\\$os] 'mingw32'\n",
       "\\item[\\$system] 'x86\\_64, mingw32'\n",
       "\\item[\\$status] ''\n",
       "\\item[\\$major] '3'\n",
       "\\item[\\$minor] '6.1'\n",
       "\\item[\\$year] '2019'\n",
       "\\item[\\$month] '07'\n",
       "\\item[\\$day] '05'\n",
       "\\item[\\$`svn rev`] '76782'\n",
       "\\item[\\$language] 'R'\n",
       "\\item[\\$version.string] 'R version 3.6.1 (2019-07-05)'\n",
       "\\item[\\$nickname] 'Action of the Toes'\n",
       "\\end{description}\n"
      ],
      "text/markdown": [
       "$platform\n",
       ":   'x86_64-w64-mingw32'\n",
       "$arch\n",
       ":   'x86_64'\n",
       "$os\n",
       ":   'mingw32'\n",
       "$system\n",
       ":   'x86_64, mingw32'\n",
       "$status\n",
       ":   ''\n",
       "$major\n",
       ":   '3'\n",
       "$minor\n",
       ":   '6.1'\n",
       "$year\n",
       ":   '2019'\n",
       "$month\n",
       ":   '07'\n",
       "$day\n",
       ":   '05'\n",
       "$`svn rev`\n",
       ":   '76782'\n",
       "$language\n",
       ":   'R'\n",
       "$version.string\n",
       ":   'R version 3.6.1 (2019-07-05)'\n",
       "$nickname\n",
       ":   'Action of the Toes'\n",
       "\n",
       "\n"
      ],
      "text/plain": [
       "$platform\n",
       "[1] \"x86_64-w64-mingw32\"\n",
       "\n",
       "$arch\n",
       "[1] \"x86_64\"\n",
       "\n",
       "$os\n",
       "[1] \"mingw32\"\n",
       "\n",
       "$system\n",
       "[1] \"x86_64, mingw32\"\n",
       "\n",
       "$status\n",
       "[1] \"\"\n",
       "\n",
       "$major\n",
       "[1] \"3\"\n",
       "\n",
       "$minor\n",
       "[1] \"6.1\"\n",
       "\n",
       "$year\n",
       "[1] \"2019\"\n",
       "\n",
       "$month\n",
       "[1] \"07\"\n",
       "\n",
       "$day\n",
       "[1] \"05\"\n",
       "\n",
       "$`svn rev`\n",
       "[1] \"76782\"\n",
       "\n",
       "$language\n",
       "[1] \"R\"\n",
       "\n",
       "$version.string\n",
       "[1] \"R version 3.6.1 (2019-07-05)\"\n",
       "\n",
       "$nickname\n",
       "[1] \"Action of the Toes\"\n"
      ]
     },
     "metadata": {},
     "output_type": "display_data"
    }
   ],
   "source": [
    "R.Version()\n",
    "# 3.6.1"
   ]
  }
 ],
 "metadata": {
  "kernelspec": {
   "display_name": "R",
   "language": "R",
   "name": "ir"
  },
  "language_info": {
   "codemirror_mode": "r",
   "file_extension": ".r",
   "mimetype": "text/x-r-source",
   "name": "R",
   "pygments_lexer": "r",
   "version": "3.6.1"
  }
 },
 "nbformat": 4,
 "nbformat_minor": 5
}
