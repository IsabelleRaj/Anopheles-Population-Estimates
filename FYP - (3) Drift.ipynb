{
 "cells": [
  {
   "cell_type": "markdown",
   "id": "69e78a6c",
   "metadata": {},
   "source": [
    "# Estimating effective population size from the temporal change in allele frequences (TCAF)\n",
    "\n",
    "### Isabelle Rajendiran"
   ]
  },
  {
   "cell_type": "markdown",
   "id": "daac84eb",
   "metadata": {},
   "source": [
    "### 0. Importing packages"
   ]
  },
  {
   "cell_type": "code",
   "execution_count": 7,
   "id": "6736f6c0",
   "metadata": {},
   "outputs": [
    {
     "name": "stdout",
     "output_type": "stream",
     "text": [
      "scikit-allel 1.3.5\n"
     ]
    }
   ],
   "source": [
    "# INSTALLING AND IMPORTING PACKAGES\n",
    "\n",
    "#!pip install scikit-allel\n",
    "#!pip install -q malariagen_data\n",
    "\n",
    "import pandas as pd\n",
    "import numpy as np\n",
    "import dask\n",
    "import dask.array as da\n",
    "from dask.diagnostics.progress import ProgressBar\n",
    "# silence some warnings\n",
    "dask.config.set(**{'array.slicing.split_large_chunks': False})\n",
    "import allel; print('scikit-allel', allel.__version__)\n",
    "import malariagen_data\n",
    "import pickle as pickle\n",
    "import matplotlib.pyplot as plt"
   ]
  },
  {
   "cell_type": "code",
   "execution_count": 8,
   "id": "062ec63c",
   "metadata": {},
   "outputs": [
    {
     "data": {
      "application/javascript": "(function(root) {\n  function now() {\n    return new Date();\n  }\n\n  const force = true;\n\n  if (typeof root._bokeh_onload_callbacks === \"undefined\" || force === true) {\n    root._bokeh_onload_callbacks = [];\n    root._bokeh_is_loading = undefined;\n  }\n\nconst JS_MIME_TYPE = 'application/javascript';\n  const HTML_MIME_TYPE = 'text/html';\n  const EXEC_MIME_TYPE = 'application/vnd.bokehjs_exec.v0+json';\n  const CLASS_NAME = 'output_bokeh rendered_html';\n\n  /**\n   * Render data to the DOM node\n   */\n  function render(props, node) {\n    const script = document.createElement(\"script\");\n    node.appendChild(script);\n  }\n\n  /**\n   * Handle when an output is cleared or removed\n   */\n  function handleClearOutput(event, handle) {\n    const cell = handle.cell;\n\n    const id = cell.output_area._bokeh_element_id;\n    const server_id = cell.output_area._bokeh_server_id;\n    // Clean up Bokeh references\n    if (id != null && id in Bokeh.index) {\n      Bokeh.index[id].model.document.clear();\n      delete Bokeh.index[id];\n    }\n\n    if (server_id !== undefined) {\n      // Clean up Bokeh references\n      const cmd_clean = \"from bokeh.io.state import curstate; print(curstate().uuid_to_server['\" + server_id + \"'].get_sessions()[0].document.roots[0]._id)\";\n      cell.notebook.kernel.execute(cmd_clean, {\n        iopub: {\n          output: function(msg) {\n            const id = msg.content.text.trim();\n            if (id in Bokeh.index) {\n              Bokeh.index[id].model.document.clear();\n              delete Bokeh.index[id];\n            }\n          }\n        }\n      });\n      // Destroy server and session\n      const cmd_destroy = \"import bokeh.io.notebook as ion; ion.destroy_server('\" + server_id + \"')\";\n      cell.notebook.kernel.execute(cmd_destroy);\n    }\n  }\n\n  /**\n   * Handle when a new output is added\n   */\n  function handleAddOutput(event, handle) {\n    const output_area = handle.output_area;\n    const output = handle.output;\n\n    // limit handleAddOutput to display_data with EXEC_MIME_TYPE content only\n    if ((output.output_type != \"display_data\") || (!Object.prototype.hasOwnProperty.call(output.data, EXEC_MIME_TYPE))) {\n      return\n    }\n\n    const toinsert = output_area.element.find(\".\" + CLASS_NAME.split(' ')[0]);\n\n    if (output.metadata[EXEC_MIME_TYPE][\"id\"] !== undefined) {\n      toinsert[toinsert.length - 1].firstChild.textContent = output.data[JS_MIME_TYPE];\n      // store reference to embed id on output_area\n      output_area._bokeh_element_id = output.metadata[EXEC_MIME_TYPE][\"id\"];\n    }\n    if (output.metadata[EXEC_MIME_TYPE][\"server_id\"] !== undefined) {\n      const bk_div = document.createElement(\"div\");\n      bk_div.innerHTML = output.data[HTML_MIME_TYPE];\n      const script_attrs = bk_div.children[0].attributes;\n      for (let i = 0; i < script_attrs.length; i++) {\n        toinsert[toinsert.length - 1].firstChild.setAttribute(script_attrs[i].name, script_attrs[i].value);\n        toinsert[toinsert.length - 1].firstChild.textContent = bk_div.children[0].textContent\n      }\n      // store reference to server id on output_area\n      output_area._bokeh_server_id = output.metadata[EXEC_MIME_TYPE][\"server_id\"];\n    }\n  }\n\n  function register_renderer(events, OutputArea) {\n\n    function append_mime(data, metadata, element) {\n      // create a DOM node to render to\n      const toinsert = this.create_output_subarea(\n        metadata,\n        CLASS_NAME,\n        EXEC_MIME_TYPE\n      );\n      this.keyboard_manager.register_events(toinsert);\n      // Render to node\n      const props = {data: data, metadata: metadata[EXEC_MIME_TYPE]};\n      render(props, toinsert[toinsert.length - 1]);\n      element.append(toinsert);\n      return toinsert\n    }\n\n    /* Handle when an output is cleared or removed */\n    events.on('clear_output.CodeCell', handleClearOutput);\n    events.on('delete.Cell', handleClearOutput);\n\n    /* Handle when a new output is added */\n    events.on('output_added.OutputArea', handleAddOutput);\n\n    /**\n     * Register the mime type and append_mime function with output_area\n     */\n    OutputArea.prototype.register_mime_type(EXEC_MIME_TYPE, append_mime, {\n      /* Is output safe? */\n      safe: true,\n      /* Index of renderer in `output_area.display_order` */\n      index: 0\n    });\n  }\n\n  // register the mime type if in Jupyter Notebook environment and previously unregistered\n  if (root.Jupyter !== undefined) {\n    const events = require('base/js/events');\n    const OutputArea = require('notebook/js/outputarea').OutputArea;\n\n    if (OutputArea.prototype.mime_types().indexOf(EXEC_MIME_TYPE) == -1) {\n      register_renderer(events, OutputArea);\n    }\n  }\n  if (typeof (root._bokeh_timeout) === \"undefined\" || force === true) {\n    root._bokeh_timeout = Date.now() + 5000;\n    root._bokeh_failed_load = false;\n  }\n\n  const NB_LOAD_WARNING = {'data': {'text/html':\n     \"<div style='background-color: #fdd'>\\n\"+\n     \"<p>\\n\"+\n     \"BokehJS does not appear to have successfully loaded. If loading BokehJS from CDN, this \\n\"+\n     \"may be due to a slow or bad network connection. Possible fixes:\\n\"+\n     \"</p>\\n\"+\n     \"<ul>\\n\"+\n     \"<li>re-rerun `output_notebook()` to attempt to load from CDN again, or</li>\\n\"+\n     \"<li>use INLINE resources instead, as so:</li>\\n\"+\n     \"</ul>\\n\"+\n     \"<code>\\n\"+\n     \"from bokeh.resources import INLINE\\n\"+\n     \"output_notebook(resources=INLINE)\\n\"+\n     \"</code>\\n\"+\n     \"</div>\"}};\n\n  function display_loaded() {\n    const el = document.getElementById(null);\n    if (el != null) {\n      el.textContent = \"BokehJS is loading...\";\n    }\n    if (root.Bokeh !== undefined) {\n      if (el != null) {\n        el.textContent = \"BokehJS \" + root.Bokeh.version + \" successfully loaded.\";\n      }\n    } else if (Date.now() < root._bokeh_timeout) {\n      setTimeout(display_loaded, 100)\n    }\n  }\n\n  function run_callbacks() {\n    try {\n      root._bokeh_onload_callbacks.forEach(function(callback) {\n        if (callback != null)\n          callback();\n      });\n    } finally {\n      delete root._bokeh_onload_callbacks\n    }\n    console.debug(\"Bokeh: all callbacks have finished\");\n  }\n\n  function load_libs(css_urls, js_urls, callback) {\n    if (css_urls == null) css_urls = [];\n    if (js_urls == null) js_urls = [];\n\n    root._bokeh_onload_callbacks.push(callback);\n    if (root._bokeh_is_loading > 0) {\n      console.debug(\"Bokeh: BokehJS is being loaded, scheduling callback at\", now());\n      return null;\n    }\n    if (js_urls == null || js_urls.length === 0) {\n      run_callbacks();\n      return null;\n    }\n    console.debug(\"Bokeh: BokehJS not loaded, scheduling load and callback at\", now());\n    root._bokeh_is_loading = css_urls.length + js_urls.length;\n\n    function on_load() {\n      root._bokeh_is_loading--;\n      if (root._bokeh_is_loading === 0) {\n        console.debug(\"Bokeh: all BokehJS libraries/stylesheets loaded\");\n        run_callbacks()\n      }\n    }\n\n    function on_error(url) {\n      console.error(\"failed to load \" + url);\n    }\n\n    for (let i = 0; i < css_urls.length; i++) {\n      const url = css_urls[i];\n      const element = document.createElement(\"link\");\n      element.onload = on_load;\n      element.onerror = on_error.bind(null, url);\n      element.rel = \"stylesheet\";\n      element.type = \"text/css\";\n      element.href = url;\n      console.debug(\"Bokeh: injecting link tag for BokehJS stylesheet: \", url);\n      document.body.appendChild(element);\n    }\n\n    for (let i = 0; i < js_urls.length; i++) {\n      const url = js_urls[i];\n      const element = document.createElement('script');\n      element.onload = on_load;\n      element.onerror = on_error.bind(null, url);\n      element.async = false;\n      element.src = url;\n      console.debug(\"Bokeh: injecting script tag for BokehJS library: \", url);\n      document.head.appendChild(element);\n    }\n  };\n\n  function inject_raw_css(css) {\n    const element = document.createElement(\"style\");\n    element.appendChild(document.createTextNode(css));\n    document.body.appendChild(element);\n  }\n\n  const js_urls = [\"https://cdn.bokeh.org/bokeh/release/bokeh-2.4.3.min.js\", \"https://cdn.bokeh.org/bokeh/release/bokeh-gl-2.4.3.min.js\", \"https://cdn.bokeh.org/bokeh/release/bokeh-widgets-2.4.3.min.js\", \"https://cdn.bokeh.org/bokeh/release/bokeh-tables-2.4.3.min.js\", \"https://cdn.bokeh.org/bokeh/release/bokeh-mathjax-2.4.3.min.js\"];\n  const css_urls = [];\n\n  const inline_js = [    function(Bokeh) {\n      Bokeh.set_log_level(\"info\");\n    },\nfunction(Bokeh) {\n    }\n  ];\n\n  function run_inline_js() {\n    if (root.Bokeh !== undefined || force === true) {\n          for (let i = 0; i < inline_js.length; i++) {\n      inline_js[i].call(root, root.Bokeh);\n    }\n} else if (Date.now() < root._bokeh_timeout) {\n      setTimeout(run_inline_js, 100);\n    } else if (!root._bokeh_failed_load) {\n      console.log(\"Bokeh: BokehJS failed to load within specified timeout.\");\n      root._bokeh_failed_load = true;\n    } else if (force !== true) {\n      const cell = $(document.getElementById(null)).parents('.cell').data().cell;\n      cell.output_area.append_execute_result(NB_LOAD_WARNING)\n    }\n  }\n\n  if (root._bokeh_is_loading === 0) {\n    console.debug(\"Bokeh: BokehJS loaded, going straight to plotting\");\n    run_inline_js();\n  } else {\n    load_libs(css_urls, js_urls, function() {\n      console.debug(\"Bokeh: BokehJS plotting callback run at\", now());\n      run_inline_js();\n    });\n  }\n}(window));",
      "application/vnd.bokehjs_load.v0+json": ""
     },
     "metadata": {},
     "output_type": "display_data"
    },
    {
     "data": {
      "text/html": [
       "\n",
       "            <table class=\"malariagen-ag3\">\n",
       "                <thead>\n",
       "                    <tr>\n",
       "                        <th style=\"text-align: left\" colspan=\"2\">MalariaGEN Ag3 API client</th>\n",
       "                    </tr>\n",
       "                    <tr><td colspan=\"2\" style=\"text-align: left\">\n",
       "                        Please note that data are subject to terms of use,\n",
       "                        for more information see <a href=\"https://www.malariagen.net/data\">\n",
       "                        the MalariaGEN website</a> or contact data@malariagen.net.\n",
       "                        See also the <a href=\"https://malariagen.github.io/vector-data/ag3/api.html\">Ag3 API docs</a>.\n",
       "                    </td></tr>\n",
       "                </thead>\n",
       "                <tbody>\n",
       "                    <tr>\n",
       "                        <th style=\"text-align: left\">\n",
       "                            Storage URL\n",
       "                        </th>\n",
       "                        <td>gs://vo_agam_release/</td>\n",
       "                    </tr>\n",
       "                    <tr>\n",
       "                        <th style=\"text-align: left\">\n",
       "                            Data releases available\n",
       "                        </th>\n",
       "                        <td>3.0, 3.1, 3.2, 3.3, 3.4, 3.5, 3.6, 3.7, 3.8</td>\n",
       "                    </tr>\n",
       "                    <tr>\n",
       "                        <th style=\"text-align: left\">\n",
       "                            Results cache\n",
       "                        </th>\n",
       "                        <td>None</td>\n",
       "                    </tr>\n",
       "                    <tr>\n",
       "                        <th style=\"text-align: left\">\n",
       "                            Cohorts analysis\n",
       "                        </th>\n",
       "                        <td>20230223</td>\n",
       "                    </tr>\n",
       "                    <tr>\n",
       "                        <th style=\"text-align: left\">\n",
       "                            Species analysis\n",
       "                        </th>\n",
       "                        <td>aim_20220528</td>\n",
       "                    </tr>\n",
       "                    <tr>\n",
       "                        <th style=\"text-align: left\">\n",
       "                            Site filters analysis\n",
       "                        </th>\n",
       "                        <td>dt_20200416</td>\n",
       "                    </tr>\n",
       "                    <tr>\n",
       "                        <th style=\"text-align: left\">\n",
       "                            Software version\n",
       "                        </th>\n",
       "                        <td>malariagen_data 7.3.1</td>\n",
       "                    </tr>\n",
       "                    <tr>\n",
       "                        <th style=\"text-align: left\">\n",
       "                            Client location\n",
       "                        </th>\n",
       "                        <td>England, GB</td>\n",
       "                    </tr>\n",
       "                </tbody>\n",
       "            </table>\n",
       "        "
      ],
      "text/plain": [
       "<MalariaGEN Ag3 API client>\n",
       "Storage URL             : gs://vo_agam_release/\n",
       "Data releases available : 3.0, 3.1, 3.2, 3.3, 3.4, 3.5, 3.6, 3.7, 3.8\n",
       "Results cache           : None\n",
       "Cohorts analysis        : 20230223\n",
       "Species analysis        : aim_20220528\n",
       "Site filters analysis   : dt_20200416\n",
       "Software version        : malariagen_data 7.3.1\n",
       "Client location         : England, GB\n",
       "---\n",
       "Please note that data are subject to terms of use,\n",
       "for more information see https://www.malariagen.net/data\n",
       "or contact data@malariagen.net. For API documentation see \n",
       "https://malariagen.github.io/vector-data/ag3/api.html"
      ]
     },
     "execution_count": 8,
     "metadata": {},
     "output_type": "execute_result"
    }
   ],
   "source": [
    "# IMPORT API\n",
    "# AG3 DATA ACCESS FROM GOOGLE CLOUD\n",
    "\n",
    "ag3 = malariagen_data.Ag3(pre='True') # Pre=True is needed to include all data from 3.0 release/phase (3.0-3.8)\n",
    "ag3"
   ]
  },
  {
   "cell_type": "markdown",
   "id": "741e698c",
   "metadata": {},
   "source": [
    "### 1.0 Filtering SNPs"
   ]
  },
  {
   "cell_type": "markdown",
   "id": "66a35224",
   "metadata": {},
   "source": [
    "The aim is to download the SNPs for Niono, Mali 2013 and 2015 and filter for the intergenic and 4-fold (the force of selection is low on these SNPs) and biallelic SNPs.\n",
    "\n",
    "Niono 2013 has 73 samples, and 104 for 2015"
   ]
  },
  {
   "cell_type": "markdown",
   "id": "105b982c",
   "metadata": {},
   "source": [
    "#### 1.1 Obtaining the metadata"
   ]
  },
  {
   "cell_type": "code",
   "execution_count": null,
   "id": "cd1b2e34",
   "metadata": {},
   "outputs": [],
   "source": [
    "# LOADING THE METADATA\n",
    "\n",
    "# Display only the top 10 rows\n",
    "pd.set_option('display.max_rows', 10)\n",
    "\n",
    "# Selecting for Niono 2013\n",
    "Mali_Niono_2013_metadata = ag3.sample_metadata(sample_sets=['1177-VO-ML-LEHMANN-VMF00004','1177-VO-ML-LEHMANN-VMF00015','1191-VO-MULTI-OLOUGHLIN-VMF00106', 'AG1000G-GN-B','AG1000G-ML-A' ],\n",
    "                                   sample_query = \"(country == 'Mali') and (taxon == 'coluzzii') and (year == 2013) and (location == 'Sokourani (Niono)')\").set_index(\"sample_id\")\n",
    "\n",
    "print(len(Mali_Niono_2013_metadata)) # Has 73 rows which matches expected number of samples\n",
    "      \n",
    "# Selecting for Niono 2015\n",
    "      \n",
    "Mali_Niono_2015_metadata = ag3.sample_metadata(sample_sets=['1177-VO-ML-LEHMANN-VMF00004','1177-VO-ML-LEHMANN-VMF00015','1191-VO-MULTI-OLOUGHLIN-VMF00106', 'AG1000G-GN-B','AG1000G-ML-A' ],\n",
    "                                   sample_query = \"(country == 'Mali') and (taxon == 'coluzzii') and (year == 2015) and (location == 'Sokourani (Niono)')\").set_index(\"sample_id\")\n",
    "\n",
    "print(len(Mali_Niono_2015_metadata)) # Has 104 rows which matches expected number of samples\n"
   ]
  },
  {
   "cell_type": "markdown",
   "id": "625ad0cd",
   "metadata": {},
   "source": [
    "#### 1.2 Downloading the SNPs"
   ]
  },
  {
   "cell_type": "markdown",
   "id": "d9ed4c63",
   "metadata": {},
   "source": [
    "The snp_calls() function also allows the user to select for site_class e.g., intergenic, the region of interest e.g., 3R chromosome, and apply a quality filter (site_mask). Here, the \"gamb_colu\" filter is used as it's the best for coluzzii species to obtain reliable SNPs."
   ]
  },
  {
   "cell_type": "code",
   "execution_count": null,
   "id": "47c8caa6",
   "metadata": {},
   "outputs": [],
   "source": [
    "# OBTAINING THE INTERGENIC AND 4-FOLD SNPS FOR THE 3R AND X REGION FOR 2013\n",
    "\n",
    "# Selecting the relevant samples\n",
    "sample_query = \"(country == 'Mali') and (taxon == 'coluzzii') and (year == 2013) and (location == 'Sokourani (Niono)')\"\n",
    "\n",
    "# Conducting snp_calls for the desired samples\n",
    "snps_2013_3R_int = ag3.snp_calls(region= \"3R\", sample_sets=['1177-VO-ML-LEHMANN-VMF00004','1177-VO-ML-LEHMANN-VMF00015','1191-VO-MULTI-OLOUGHLIN-VMF00106', 'AG1000G-GN-B','AG1000G-ML-A' ],\n",
    "                                     sample_query=sample_query, site_mask=\"gamb_colu\", site_class=\"INTERGENIC\")\n",
    "\n",
    "snps_2013_3R_4 = ag3.snp_calls(region= \"3R\", sample_sets=['1177-VO-ML-LEHMANN-VMF00004','1177-VO-ML-LEHMANN-VMF00015','1191-VO-MULTI-OLOUGHLIN-VMF00106', 'AG1000G-GN-B','AG1000G-ML-A' ],\n",
    "                                     sample_query=sample_query, site_mask=\"gamb_colu\", site_class=\"CDS_DEG_4\")\n",
    "\n",
    "snps_2013_X_int = ag3.snp_calls(region= \"X\", sample_sets=['1177-VO-ML-LEHMANN-VMF00004','1177-VO-ML-LEHMANN-VMF00015','1191-VO-MULTI-OLOUGHLIN-VMF00106', 'AG1000G-GN-B','AG1000G-ML-A' ],\n",
    "                                     sample_query=sample_query, site_mask=\"gamb_colu\", site_class=\"INTERGENIC\")\n",
    "\n",
    "snps_2013_X_4 = ag3.snp_calls(region= \"X\", sample_sets=['1177-VO-ML-LEHMANN-VMF00004','1177-VO-ML-LEHMANN-VMF00015','1191-VO-MULTI-OLOUGHLIN-VMF00106', 'AG1000G-GN-B','AG1000G-ML-A' ],\n",
    "                                     sample_query=sample_query, site_mask=\"gamb_colu\", site_class=\"CDS_DEG_4\")"
   ]
  },
  {
   "cell_type": "code",
   "execution_count": null,
   "id": "26cfa518",
   "metadata": {},
   "outputs": [],
   "source": [
    "# OBTAINING THE INTERGENIC AND 4-FOLD SNPS FOR THE 3R AND X REGION FOR 2015\n",
    "\n",
    "# Selecting the relevant samples\n",
    "sample_query = \"(country == 'Mali') and (taxon == 'coluzzii') and (year == 2015) and (location == 'Sokourani (Niono)')\"\n",
    "\n",
    "# Conducting snp_calls for the desired samples\n",
    "snps_2015_3R_int = ag3.snp_calls(region= \"3R\", sample_sets=['1177-VO-ML-LEHMANN-VMF00004','1177-VO-ML-LEHMANN-VMF00015','1191-VO-MULTI-OLOUGHLIN-VMF00106', 'AG1000G-GN-B','AG1000G-ML-A' ],\n",
    "                                     sample_query=sample_query, site_mask=\"gamb_colu\", site_class=\"INTERGENIC\")\n",
    "\n",
    "snps_2015_3R_4 = ag3.snp_calls(region= \"3R\", sample_sets=['1177-VO-ML-LEHMANN-VMF00004','1177-VO-ML-LEHMANN-VMF00015','1191-VO-MULTI-OLOUGHLIN-VMF00106', 'AG1000G-GN-B','AG1000G-ML-A' ],\n",
    "                                     sample_query=sample_query, site_mask=\"gamb_colu\", site_class=\"CDS_DEG_4\")\n",
    "\n",
    "snps_2015_X_int = ag3.snp_calls(region= \"X\", sample_sets=['1177-VO-ML-LEHMANN-VMF00004','1177-VO-ML-LEHMANN-VMF00015','1191-VO-MULTI-OLOUGHLIN-VMF00106', 'AG1000G-GN-B','AG1000G-ML-A' ],\n",
    "                                     sample_query=sample_query, site_mask=\"gamb_colu\", site_class=\"INTERGENIC\")\n",
    "\n",
    "snps_2015_X_4 = ag3.snp_calls(region= \"X\", sample_sets=['1177-VO-ML-LEHMANN-VMF00004','1177-VO-ML-LEHMANN-VMF00015','1191-VO-MULTI-OLOUGHLIN-VMF00106', 'AG1000G-GN-B','AG1000G-ML-A' ],\n",
    "                                     sample_query=sample_query, site_mask=\"gamb_colu\", site_class=\"CDS_DEG_4\")"
   ]
  },
  {
   "cell_type": "code",
   "execution_count": null,
   "id": "79771f3c",
   "metadata": {},
   "outputs": [],
   "source": [
    "# CHECKING THE NUMBER OF METADATA MATCHES THE NUMBER OF SNPS\n",
    "\n",
    "print(len(Mali_Niono_2013_metadata) == snps_2013_3R_int.dims[\"samples\"])\n",
    "print(len(Mali_Niono_2013_metadata) == snps_2013_3R_4.dims[\"samples\"])\n",
    "print(len(Mali_Niono_2013_metadata) == snps_2013_X_int.dims[\"samples\"])\n",
    "print(len(Mali_Niono_2013_metadata) == snps_2013_X_4.dims[\"samples\"])\n",
    "\n",
    "print(len(Mali_Niono_2015_metadata) == snps_2015_3R_int.dims[\"samples\"])\n",
    "print(len(Mali_Niono_2015_metadata) == snps_2015_3R_4.dims[\"samples\"])\n",
    "print(len(Mali_Niono_2015_metadata) == snps_2015_X_int.dims[\"samples\"])\n",
    "print(len(Mali_Niono_2015_metadata) == snps_2015_X_4.dims[\"samples\"])"
   ]
  },
  {
   "cell_type": "markdown",
   "id": "ccd1feca",
   "metadata": {},
   "source": [
    "#### 1.3 Filtering out missing alleles"
   ]
  },
  {
   "cell_type": "code",
   "execution_count": null,
   "id": "53236cca",
   "metadata": {},
   "outputs": [],
   "source": [
    "# COMPUTE GENOTYPE CALLS FOR THE SNPS\n",
    "\n",
    "# Visulaised using the scikit-allel wrapper class for genotype calls\n",
    "gt_2013_3R_int = allel.GenotypeDaskArray(snps_2013_3R_int[\"call_genotype\"].data)\n",
    "gt_2013_3R_4 = allel.GenotypeDaskArray(snps_2013_3R_4[\"call_genotype\"].data)\n",
    "gt_2013_X_int = allel.GenotypeDaskArray(snps_2013_X_int[\"call_genotype\"].data)\n",
    "gt_2013_X_4 = allel.GenotypeDaskArray(snps_2013_X_4[\"call_genotype\"].data)\n",
    "\n",
    "gt_2015_3R_int = allel.GenotypeDaskArray(snps_2015_3R_int[\"call_genotype\"].data)\n",
    "gt_2015_3R_4 = allel.GenotypeDaskArray(snps_2015_3R_4[\"call_genotype\"].data)\n",
    "gt_2015_X_int = allel.GenotypeDaskArray(snps_2015_X_int[\"call_genotype\"].data)\n",
    "gt_2015_X_4 = allel.GenotypeDaskArray(snps_2015_X_4[\"call_genotype\"].data)"
   ]
  },
  {
   "cell_type": "code",
   "execution_count": 3,
   "id": "d182517a",
   "metadata": {},
   "outputs": [],
   "source": [
    "# REMOVE MISSING GENOTYPES\n",
    "\n",
    "def remove_missing(snps, gt):\n",
    "    # Create a 2D boolean array where TRUE indicates missing genotypes \n",
    "    missing = gt.is_missing() \n",
    "    # Create a 1D boolean array where it is TRUE if any of the genotypes per row is TRUE i.e., missing genotype for even 1 indivdual\n",
    "    missing = np.any(missing, axis=1)\n",
    "    mask = missing.compute()\n",
    "    # Create an index array of the variant positions with no missing genotypes\n",
    "    index = np.where(mask==False)[0] \n",
    "    # Subset the snp dataset to only contain non-missing sites\n",
    "    new_snps = snps.isel(variants=index)\n",
    "    return new_snps"
   ]
  },
  {
   "cell_type": "code",
   "execution_count": null,
   "id": "aa1f8cff",
   "metadata": {},
   "outputs": [],
   "source": [
    "# Filter the snps for non-missing snps only\n",
    "snps_2013_3R_int_no_nan = remove_missing(snps_2013_3R_int, gt_2013_3R_int)\n",
    "snps_2013_3R_4_no_nan = remove_missing(snps_2013_3R_4, gt_2013_3R_4)\n",
    "snps_2013_X_int_no_nan = remove_missing(snps_2013_X_int, gt_2013_X_int)\n",
    "snps_2013_X_4_no_nan = remove_missing(snps_2013_X_4, gt_2013_X_4)\n",
    "\n",
    "snps_2015_3R_int_no_nan = remove_missing(snps_2015_3R_int, gt_2015_3R_int)\n",
    "snps_2015_3R_4_no_nan = remove_missing(snps_2015_3R_4, gt_2015_3R_4)\n",
    "snps_2015_X_int_no_nan = remove_missing(snps_2015_X_int, gt_2015_X_int)\n",
    "snps_2015_X_4_no_nan = remove_missing(snps_2015_X_4, gt_2015_X_4)\n"
   ]
  },
  {
   "cell_type": "code",
   "execution_count": null,
   "id": "6080c922",
   "metadata": {},
   "outputs": [],
   "source": [
    "# EXPORT THE DATASETS USING AS .PKL\n",
    "\n",
    "#with open('snps_2013_3R_int_no_nan_drift.pkl', 'wb') as f:\n",
    "#    pickle.dump(snps_2013_3R_int_no_nan, f)\n",
    "\n",
    "#with open('snps_2013_3R_4_no_nan_drift.pkl', 'wb') as f:\n",
    "#    pickle.dump(snps_2013_3R_4_no_nan, f)\n",
    "\n",
    "#with open('snps_2013_X_int_no_nan_drift.pkl', 'wb') as f:\n",
    "#    pickle.dump(snps_2013_X_int_no_nan, f)\n",
    "    \n",
    "#with open('snps_2013_X_4_no_nan_drift.pkl', 'wb') as f:\n",
    "#    pickle.dump(snps_2013_X_4_no_nan, f)\n",
    "\n",
    "\n",
    "#with open('snps_2015_3R_int_no_nan_drift.pkl', 'wb') as f:\n",
    "#    pickle.dump(snps_2015_3R_int_no_nan, f)\n",
    "\n",
    "#with open('snps_2015_3R_4_no_nan_drift.pkl', 'wb') as f:\n",
    "#    pickle.dump(snps_2015_3R_4_no_nan, f)\n",
    "\n",
    "#with open('snps_2015_X_int_no_nan_drift.pkl', 'wb') as f:\n",
    "#    pickle.dump(snps_2015_X_int_no_nan, f)\n",
    "    \n",
    "#with open('snps_2015_X_4_no_nan_drift.pkl', 'wb') as f:\n",
    "#    pickle.dump(snps_2015_X_4_no_nan, f)"
   ]
  },
  {
   "cell_type": "code",
   "execution_count": 4,
   "id": "13d6a810",
   "metadata": {},
   "outputs": [],
   "source": [
    "# IMPORT\n",
    "\n",
    "with open(\"snps_2013_3R_int_no_nan_drift.pkl\", \"rb\") as f:\n",
    "    snps_2013_3R_int_no_nan = pickle.load(f)\n",
    "\n",
    "with open(\"snps_2013_3R_4_no_nan_drift.pkl\", \"rb\") as f:\n",
    "    snps_2013_3R_4_no_nan = pickle.load(f)\n",
    "\n",
    "with open(\"snps_2013_X_int_no_nan_drift.pkl\", \"rb\") as f:\n",
    "    snps_2013_X_int_no_nan = pickle.load(f)\n",
    "\n",
    "with open(\"snps_2013_X_4_no_nan_drift.pkl\", \"rb\") as f:\n",
    "    snps_2013_X_4_no_nan = pickle.load(f)\n",
    "    \n",
    "    \n",
    "with open(\"snps_2015_3R_int_no_nan_drift.pkl\", \"rb\") as f:\n",
    "    snps_2015_3R_int_no_nan = pickle.load(f)\n",
    "\n",
    "with open(\"snps_2015_3R_4_no_nan_drift.pkl\", \"rb\") as f:\n",
    "    snps_2015_3R_4_no_nan = pickle.load(f)\n",
    "\n",
    "with open(\"snps_2015_X_int_no_nan_drift.pkl\", \"rb\") as f:\n",
    "    snps_2015_X_int_no_nan = pickle.load(f)\n",
    "\n",
    "with open(\"snps_2015_X_4_no_nan_drift.pkl\", \"rb\") as f:\n",
    "    snps_2015_X_4_no_nan = pickle.load(f)\n"
   ]
  },
  {
   "cell_type": "markdown",
   "id": "9130f8e5",
   "metadata": {},
   "source": [
    "#### 2.4 Filtering for biallelic SNPs"
   ]
  },
  {
   "cell_type": "code",
   "execution_count": 5,
   "id": "f859f3bb",
   "metadata": {},
   "outputs": [],
   "source": [
    "# RE-COMPUTE GENOTYPE CALLS\n",
    "\n",
    "snps_2013_3R_int_no_nan_gt = allel.GenotypeDaskArray(snps_2013_3R_int_no_nan[\"call_genotype\"].data)\n",
    "snps_2013_3R_4_no_nan_gt = allel.GenotypeDaskArray(snps_2013_3R_4_no_nan[\"call_genotype\"].data)\n",
    "snps_2013_X_int_no_nan_gt = allel.GenotypeDaskArray(snps_2013_X_int_no_nan[\"call_genotype\"].data)\n",
    "snps_2013_X_4_no_nan_gt = allel.GenotypeDaskArray(snps_2013_X_4_no_nan[\"call_genotype\"].data)\n",
    "\n",
    "snps_2015_3R_int_no_nan_gt = allel.GenotypeDaskArray(snps_2015_3R_int_no_nan[\"call_genotype\"].data)\n",
    "snps_2015_3R_4_no_nan_gt = allel.GenotypeDaskArray(snps_2015_3R_4_no_nan[\"call_genotype\"].data)\n",
    "snps_2015_X_int_no_nan_gt = allel.GenotypeDaskArray(snps_2015_X_int_no_nan[\"call_genotype\"].data)\n",
    "snps_2015_X_4_no_nan_gt = allel.GenotypeDaskArray(snps_2015_X_4_no_nan[\"call_genotype\"].data)"
   ]
  },
  {
   "cell_type": "code",
   "execution_count": 6,
   "id": "f5ebfd62",
   "metadata": {},
   "outputs": [],
   "source": [
    "# COMPUTE ALLELE COUNTS\n",
    "\n",
    "snps_2013_3R_int_no_nan_ac = snps_2013_3R_int_no_nan_gt.count_alleles(max_allele=3).compute()\n",
    "snps_2013_3R_4_no_nan_ac = snps_2013_3R_4_no_nan_gt.count_alleles(max_allele=3).compute()\n",
    "snps_2013_X_int_no_nan_ac = snps_2013_X_int_no_nan_gt.count_alleles(max_allele=3).compute()\n",
    "snps_2013_X_4_no_nan_ac = snps_2013_X_4_no_nan_gt.count_alleles(max_allele=3).compute()\n",
    "\n",
    "snps_2015_3R_int_no_nan_ac = snps_2015_3R_int_no_nan_gt.count_alleles(max_allele=3).compute()\n",
    "snps_2015_3R_4_no_nan_ac = snps_2015_3R_4_no_nan_gt.count_alleles(max_allele=3).compute()\n",
    "snps_2015_X_int_no_nan_ac = snps_2015_X_int_no_nan_gt.count_alleles(max_allele=3).compute()\n",
    "snps_2015_X_4_no_nan_ac = snps_2015_X_4_no_nan_gt.count_alleles(max_allele=3).compute()"
   ]
  },
  {
   "cell_type": "code",
   "execution_count": null,
   "id": "762ef3e6",
   "metadata": {},
   "outputs": [],
   "source": [
    "# EXPORT ALLELE COUNTS\n",
    "\n",
    "#with open('snps_2013_3R_int_no_nan_ac_drift.pkl', 'wb') as f:\n",
    "#    pickle.dump(snps_2013_3R_int_no_nan_ac, f)\n",
    "\n",
    "#with open('snps_2013_3R_4_no_nan_ac_drift.pkl', 'wb') as f:\n",
    "#    pickle.dump(snps_2013_3R_4_no_nan_ac, f)\n",
    "\n",
    "#with open('snps_2013_X_int_no_nan_ac_drift.pkl', 'wb') as f:\n",
    "#    pickle.dump(snps_2013_X_int_no_nan_ac, f)\n",
    "    \n",
    "#with open('snps_2013_X_4_no_nan_ac_drift.pkl', 'wb') as f:\n",
    "#    pickle.dump(snps_2013_X_4_no_nan_ac, f)\n",
    "    \n",
    "\n",
    "#with open('snps_2015_3R_int_no_nan_ac_drift.pkl', 'wb') as f:\n",
    "#    pickle.dump(snps_2015_3R_int_no_nan_ac, f)\n",
    "\n",
    "#with open('snps_2015_3R_4_no_nan_ac_drift.pkl', 'wb') as f:\n",
    "#    pickle.dump(snps_2015_3R_4_no_nan_ac, f)\n",
    "\n",
    "#with open('snps_2015_X_int_no_nan_ac_drift.pkl', 'wb') as f:\n",
    "#    pickle.dump(snps_2015_X_int_no_nan_ac, f)\n",
    "    \n",
    "#with open('snps_2015_X_4_no_nan_ac_drift.pkl', 'wb') as f:\n",
    "#    pickle.dump(snps_2015_X_4_no_nan_ac, f)"
   ]
  },
  {
   "cell_type": "code",
   "execution_count": null,
   "id": "fea2c8e4",
   "metadata": {},
   "outputs": [],
   "source": [
    "# IMPORT - CAN'T RUN THIS CELL (KERNEL KEEPS DYING)\n",
    "\n",
    "with open(\"snps_2013_3R_int_no_nan_ac_drift.pkl\", \"rb\") as f:\n",
    "    snps_2013_3R_int_no_nan_ac = pickle.load(f)\n",
    "\n",
    "with open(\"snps_2013_3R_4_no_nan_ac_drift.pkl\", \"rb\") as f:\n",
    "    snps_2013_3R_4_no_nan_ac = pickle.load(f)\n",
    "\n",
    "with open(\"snps_2013_X_int_no_nan_ac_drift.pkl\", \"rb\") as f:\n",
    "    snps_2013_X_int_no_nan_ac = pickle.load(f)\n",
    "\n",
    "with open(\"snps_2013_X_4_no_nan_ac_drift.pkl\", \"rb\") as f:\n",
    "    snps_2013_X_4_no_nan_ac = pickle.load(f)\n",
    "    \n",
    "    \n",
    "with open(\"snps_2015_3R_int_no_nan_ac_drift.pkl\", \"rb\") as f:\n",
    "    snps_2015_3R_int_no_nan_ac = pickle.load(f)\n",
    "\n",
    "with open(\"snps_2015_3R_4_no_nan_ac_drift.pkl\", \"rb\") as f:\n",
    "    snps_2015_3R_4_no_nan_ac = pickle.load(f)\n",
    "\n",
    "with open(\"snps_2015_X_int_no_nan_ac_drift.pkl\", \"rb\") as f:\n",
    "    snps_2015_X_int_no_nan_ac = pickle.load(f)\n",
    "\n",
    "with open(\"snps_2015_X_4_no_nan_ac_drift.pkl\", \"rb\") as f:\n",
    "    snps_2015_X_4_no_nan_ac = pickle.load(f)\n"
   ]
  },
  {
   "cell_type": "code",
   "execution_count": 7,
   "id": "48e2aedc",
   "metadata": {},
   "outputs": [
    {
     "data": {
      "text/html": [
       "<div class=\"allel allel-DisplayAs2D\"><span>&lt;AlleleCountsArray shape=(10079503, 4) dtype=int32&gt;</span><table><thead><tr><th></th><th style=\"text-align: center\">0</th><th style=\"text-align: center\">1</th><th style=\"text-align: center\">2</th><th style=\"text-align: center\">3</th></tr></thead><tbody><tr><th style=\"text-align: center; background-color: white; border-right: 1px solid black; \">0</th><td style=\"text-align: center\">146</td><td style=\"text-align: center\">  0</td><td style=\"text-align: center\">  0</td><td style=\"text-align: center\">  0</td></tr><tr><th style=\"text-align: center; background-color: white; border-right: 1px solid black; \">1</th><td style=\"text-align: center\">146</td><td style=\"text-align: center\">  0</td><td style=\"text-align: center\">  0</td><td style=\"text-align: center\">  0</td></tr><tr><th style=\"text-align: center; background-color: white; border-right: 1px solid black; \">2</th><td style=\"text-align: center\">146</td><td style=\"text-align: center\">  0</td><td style=\"text-align: center\">  0</td><td style=\"text-align: center\">  0</td></tr><tr><th style=\"text-align: center; background-color: white; border-right: 1px solid black; \">...</th><td style=\"text-align: center\" colspan=\"5\">...</td></tr><tr><th style=\"text-align: center; background-color: white; border-right: 1px solid black; \">10079500</th><td style=\"text-align: center\">146</td><td style=\"text-align: center\">  0</td><td style=\"text-align: center\">  0</td><td style=\"text-align: center\">  0</td></tr><tr><th style=\"text-align: center; background-color: white; border-right: 1px solid black; \">10079501</th><td style=\"text-align: center\">146</td><td style=\"text-align: center\">  0</td><td style=\"text-align: center\">  0</td><td style=\"text-align: center\">  0</td></tr><tr><th style=\"text-align: center; background-color: white; border-right: 1px solid black; \">10079502</th><td style=\"text-align: center\">146</td><td style=\"text-align: center\">  0</td><td style=\"text-align: center\">  0</td><td style=\"text-align: center\">  0</td></tr></tbody></table></div>"
      ],
      "text/plain": [
       "<AlleleCountsArray shape=(10079503, 4) dtype=int32>\n",
       "146   0   0   0\n",
       "146   0   0   0\n",
       "146   0   0   0\n",
       "...\n",
       "146   0   0   0\n",
       "146   0   0   0\n",
       "146   0   0   0"
      ]
     },
     "execution_count": 7,
     "metadata": {},
     "output_type": "execute_result"
    }
   ],
   "source": [
    "snps_2013_3R_int_no_nan_ac"
   ]
  },
  {
   "cell_type": "code",
   "execution_count": 8,
   "id": "5b9edd0f",
   "metadata": {},
   "outputs": [],
   "source": [
    "# COMPUTE THE ALLELE FREQUENCIES\n",
    "\n",
    "snps_2013_3R_int_no_nan_freq = snps_2013_3R_int_no_nan_ac.to_frequencies()\n",
    "snps_2013_3R_4_no_nan_freq = snps_2013_3R_4_no_nan_ac.to_frequencies()\n",
    "snps_2013_X_int_no_nan_freq = snps_2013_X_int_no_nan_ac.to_frequencies()\n",
    "snps_2013_X_4_no_nan_freq = snps_2013_X_4_no_nan_ac.to_frequencies()\n",
    "\n",
    "snps_2015_3R_int_no_nan_freq = snps_2015_3R_int_no_nan_ac.to_frequencies()\n",
    "snps_2015_3R_4_no_nan_freq = snps_2015_3R_4_no_nan_ac.to_frequencies()\n",
    "snps_2015_X_int_no_nan_freq = snps_2015_X_int_no_nan_ac.to_frequencies()\n",
    "snps_2015_X_4_no_nan_freq = snps_2015_X_4_no_nan_ac.to_frequencies()\n"
   ]
  },
  {
   "cell_type": "code",
   "execution_count": 9,
   "id": "13465a98",
   "metadata": {},
   "outputs": [
    {
     "data": {
      "text/plain": [
       "array([False,  True, False, ..., False, False, False])"
      ]
     },
     "execution_count": 9,
     "metadata": {},
     "output_type": "execute_result"
    }
   ],
   "source": [
    "# A BOOLEAN VECTOR INDICATING TRUE WHERE THE VARIANT IS BIALLELIC\n",
    "\n",
    "snps_2013_3R_int_no_nan_ac.is_biallelic()\n",
    "snps_2013_3R_4_no_nan_ac.is_biallelic()\n",
    "snps_2013_X_int_no_nan_ac.is_biallelic()\n",
    "snps_2013_X_4_no_nan_ac.is_biallelic()\n",
    "\n",
    "snps_2015_3R_int_no_nan_ac.is_biallelic()\n",
    "snps_2015_3R_4_no_nan_ac.is_biallelic()\n",
    "snps_2015_X_int_no_nan_ac.is_biallelic()\n",
    "snps_2015_X_4_no_nan_ac.is_biallelic()\n"
   ]
  },
  {
   "cell_type": "markdown",
   "id": "5302bead",
   "metadata": {},
   "source": [
    "#### 2.5 Filtering out rare SNPs"
   ]
  },
  {
   "cell_type": "markdown",
   "id": "9bd19e49",
   "metadata": {},
   "source": [
    "The aim is to filter out SNPs in which their minor allele frequency (MAF) has a frequency less than 10% (0.1) in the 2013 sample and no restrictions on the second."
   ]
  },
  {
   "cell_type": "code",
   "execution_count": 10,
   "id": "3c72f491",
   "metadata": {},
   "outputs": [],
   "source": [
    "# FILTERING THE SNPS WITH A MINOR ALLELE FREQUENCY LESS THAN 5%\n",
    "\n",
    "# Set the minimum allele frequency threshold\n",
    "maf_threshold = 0.1  \n",
    "\n",
    "# Create a boolean mask indicating TRUE for values greater than 0 (accounts for alleles with frequency of 0)\n",
    "nonzero_snps_2013_3R_int_no_nan = snps_2013_3R_int_no_nan_freq > 0\n",
    "nonzero_snps_2013_3R_4_no_nan = snps_2013_3R_4_no_nan_freq > 0\n",
    "nonzero_snps_2013_X_int_no_nan = snps_2013_X_int_no_nan_freq > 0\n",
    "nonzero_snps_2013_X_4_no_nan = snps_2013_X_4_no_nan_freq > 0\n",
    "\n",
    "#nonzero_snps_2015_3R_int_no_nan = snps_2015_3R_int_no_nan_freq > 0\n",
    "#nonzero_snps_2015_3R_4_no_nan = snps_2015_3R_4_no_nan_freq > 0\n",
    "#nonzero_snps_2015_X_int_no_nan = snps_2015_X_int_no_nan_freq > 0\n",
    "#nonzero_snps_2015_X_4_no_nan = snps_2015_X_4_no_nan_freq > 0"
   ]
  },
  {
   "cell_type": "code",
   "execution_count": 11,
   "id": "9dc2a063",
   "metadata": {},
   "outputs": [],
   "source": [
    "# Create another mask for frequencies that are below the threshold (but not including the SNPs for which some allele frequencies are zero)\n",
    "below_non_zero_snps_2013_3R_int_no_nan = (snps_2013_3R_int_no_nan_freq < maf_threshold) & nonzero_snps_2013_3R_int_no_nan\n",
    "below_non_zero_snps_2013_3R_4_no_nan = (snps_2013_3R_4_no_nan_freq < maf_threshold) & nonzero_snps_2013_3R_4_no_nan\n",
    "below_non_zero_snps_2013_X_int_no_nan = (snps_2013_X_int_no_nan_freq < maf_threshold) & nonzero_snps_2013_X_int_no_nan\n",
    "below_non_zero_snps_2013_X_4_no_nan = (snps_2013_X_4_no_nan_freq < maf_threshold) & nonzero_snps_2013_X_4_no_nan\n",
    "\n",
    "#below_non_zero_snps_2015_3R_int_no_nan = (snps_2015_3R_int_no_nan_freq < maf_threshold) & nonzero_snps_2015_3R_int_no_nan\n",
    "#below_non_zero_snps_2015_3R_4_no_nan = (snps_2015_3R_4_no_nan_freq < maf_threshold) & nonzero_snps_2015_3R_4_no_nan\n",
    "#below_non_zero_snps_2015_X_int_no_nan = (snps_2015_X_int_no_nan_freq < maf_threshold) & nonzero_snps_2015_X_int_no_nan\n",
    "#below_non_zero_snps_2015_X_4_no_nan = (snps_2015_X_4_no_nan_freq < maf_threshold) & nonzero_snps_2015_X_4_no_nan"
   ]
  },
  {
   "cell_type": "code",
   "execution_count": 12,
   "id": "a29c1427",
   "metadata": {},
   "outputs": [],
   "source": [
    "# Create a boolean mask indicating which rows (SNPs) meet the criteria \n",
    "filter_mask_2013_3R_int = np.any(below_non_zero_snps_2013_3R_int_no_nan, axis=1) # axis 1 means to apply np.any() to the rows i.e., indivdual sites\n",
    "filter_mask_2013_3R_4 = np.any(below_non_zero_snps_2013_3R_4_no_nan , axis=1)\n",
    "filter_mask_2013_X_int = np.any(below_non_zero_snps_2013_X_int_no_nan, axis=1)\n",
    "filter_mask_2013_X_4 = np.any(below_non_zero_snps_2013_X_4_no_nan, axis=1)\n",
    "\n",
    "#filter_mask_2015_3R_int = np.any(below_non_zero_snps_2015_3R_int_no_nan, axis=1)\n",
    "#filter_mask_2015_3R_4 = np.any(below_non_zero_snps_2015_3R_4_no_nan, axis=1)\n",
    "#filter_mask_2015_X_int = np.any(below_non_zero_snps_2015_X_int_no_nan, axis=1)\n",
    "#filter_mask_2015_X_4 = np.any(below_non_zero_snps_2015_X_4_no_nan, axis=1)"
   ]
  },
  {
   "cell_type": "markdown",
   "id": "b5dcb024",
   "metadata": {},
   "source": [
    "#### 2.6 Combine all boolean masks and subset the dataset"
   ]
  },
  {
   "cell_type": "code",
   "execution_count": 14,
   "id": "9d0c1223",
   "metadata": {},
   "outputs": [],
   "source": [
    "# COMBINE ALL BOOLEAN MASKS TO FILTER\n",
    "\n",
    "mask_2013_3R_int =  snps_2013_3R_int_no_nan_ac.is_biallelic() & ~filter_mask_2013_3R_int \n",
    "mask_2013_3R_4 =  snps_2013_3R_4_no_nan_ac.is_biallelic() & ~filter_mask_2013_3R_4\n",
    "mask_2013_X_int = snps_2013_X_int_no_nan_ac.is_biallelic() & ~filter_mask_2013_X_int \n",
    "mask_2013_X_4 = snps_2013_X_4_no_nan_ac.is_biallelic() & ~filter_mask_2013_X_4 \n",
    "\n",
    "mask_2015_3R_int = snps_2015_3R_int_no_nan_ac.is_biallelic() \n",
    "mask_2015_3R_4 = snps_2015_3R_4_no_nan_ac.is_biallelic() \n",
    "mask_2015_X_int = snps_2015_X_int_no_nan_ac.is_biallelic()\n",
    "mask_2015_X_4 = snps_2015_X_4_no_nan_ac.is_biallelic() \n"
   ]
  },
  {
   "cell_type": "code",
   "execution_count": 15,
   "id": "05a39a0b",
   "metadata": {},
   "outputs": [],
   "source": [
    "# SUBSET THE DATASETS\n",
    "\n",
    "snps_2013_3R_int_filtered = snps_2013_3R_int_no_nan.isel(variants=mask_2013_3R_int)\n",
    "snps_2013_3R_4_filtered = snps_2013_3R_4_no_nan.isel(variants=mask_2013_3R_4)\n",
    "snps_2013_X_int_filtered = snps_2013_X_int_no_nan.isel(variants=mask_2013_X_int)\n",
    "snps_2013_X_4_filtered = snps_2013_X_4_no_nan.isel(variants=mask_2013_X_4)\n",
    "\n",
    "snps_2015_3R_int_filtered = snps_2015_3R_int_no_nan.isel(variants=mask_2015_3R_int)\n",
    "snps_2015_3R_4_filtered = snps_2015_3R_4_no_nan.isel(variants=mask_2015_3R_4)\n",
    "snps_2015_X_int_filtered = snps_2015_X_int_no_nan.isel(variants=mask_2015_X_int)\n",
    "snps_2015_X_4_filtered = snps_2015_X_4_no_nan.isel(variants=mask_2015_X_4)"
   ]
  },
  {
   "cell_type": "code",
   "execution_count": 16,
   "id": "4f2f8509",
   "metadata": {},
   "outputs": [
    {
     "name": "stdout",
     "output_type": "stream",
     "text": [
      "177600\n",
      "1889335\n",
      "20568\n",
      "140915\n",
      "34491\n",
      "524175\n",
      "2142\n",
      "41299\n"
     ]
    }
   ],
   "source": [
    "# PRINT THE REMAINING NUMBER OF SNPS\n",
    "print(len(snps_2013_3R_int_filtered.variants)) \n",
    "print(len(snps_2015_3R_int_filtered.variants)) \n",
    "\n",
    "print(len(snps_2013_3R_4_filtered.variants)) \n",
    "print(len(snps_2015_3R_4_filtered.variants)) \n",
    "\n",
    "print(len(snps_2013_X_int_filtered.variants)) \n",
    "print(len(snps_2015_X_int_filtered.variants)) \n",
    "\n",
    "print(len(snps_2013_X_4_filtered.variants)) \n",
    "print(len(snps_2015_X_4_filtered.variants)) # Quite small ~3900 loci"
   ]
  },
  {
   "cell_type": "markdown",
   "id": "e15378b5",
   "metadata": {},
   "source": [
    "OLD: All maf <5% (Using SNPs which had a MAF >5% at both timepoints)\n",
    "- 305191\n",
    "- 291457\n",
    "- 32140\n",
    "- 31348\n",
    "- 63138\n",
    "- 60571\n",
    "- 3939\n",
    "- 3916\n",
    "\n",
    "Using this new MAF:\n",
    "\n",
    "- 177600\n",
    "- 1889335\n",
    "- 20568\n",
    "- 140915\n",
    "- 34491\n",
    "- 524175\n",
    "- 2142\n",
    "- 41299"
   ]
  },
  {
   "cell_type": "markdown",
   "id": "fd317a61",
   "metadata": {},
   "source": [
    "#### 3.6 Union of the 2013 and 2015 datasets"
   ]
  },
  {
   "cell_type": "markdown",
   "id": "6f34e737",
   "metadata": {},
   "source": [
    "In order to calculate TCAF, we need to the 2013 and 2015 samples to have the same variants i.e., union."
   ]
  },
  {
   "cell_type": "code",
   "execution_count": 17,
   "id": "f56175be",
   "metadata": {},
   "outputs": [
    {
     "data": {
      "text/plain": [
       "array([   678,   1392,  32864, 121945, 123491, 130185, 130266, 147528,\n",
       "       195109, 196609])"
      ]
     },
     "execution_count": 17,
     "metadata": {},
     "output_type": "execute_result"
    }
   ],
   "source": [
    "snps_2013_X_4_filtered.variant_position.values[0:10] # Displays the variant positions"
   ]
  },
  {
   "cell_type": "code",
   "execution_count": 18,
   "id": "1607d144",
   "metadata": {},
   "outputs": [],
   "source": [
    "# EXTRACT THE VARIANT_POSITIONS COMMON IN BOTH DATASETS\n",
    "\n",
    "var_pos_X_4 = np.intersect1d(snps_2013_X_4_filtered.variant_position.values, snps_2015_X_4_filtered.variant_position.values)\n",
    "var_pos_X_int = np.intersect1d(snps_2013_X_int_filtered.variant_position.values, snps_2015_X_int_filtered.variant_position.values)\n",
    "var_pos_3R_4 = np.intersect1d(snps_2013_3R_4_filtered.variant_position.values, snps_2015_3R_4_filtered.variant_position.values)\n",
    "var_pos_3R_int = np.intersect1d(snps_2013_3R_int_filtered.variant_position.values, snps_2015_3R_int_filtered.variant_position.values)"
   ]
  },
  {
   "cell_type": "code",
   "execution_count": 19,
   "id": "e2eccf6e",
   "metadata": {},
   "outputs": [
    {
     "name": "stdout",
     "output_type": "stream",
     "text": [
      "153978\n",
      "18938\n",
      "30362\n",
      "2024\n"
     ]
    }
   ],
   "source": [
    "# PRINT THE REMAINING NUMBER OF SNPS\n",
    "\n",
    "print(len(var_pos_3R_int))\n",
    "print(len(var_pos_3R_4))\n",
    "print(len(var_pos_X_int))\n",
    "print(len(var_pos_X_4))"
   ]
  },
  {
   "cell_type": "code",
   "execution_count": 20,
   "id": "59f36630",
   "metadata": {
    "scrolled": true
   },
   "outputs": [],
   "source": [
    "# CREATE A BOOLEAN MASK INDICATING TRUE FOR VARIANT_POSITIONS FOUND IN BOTH\n",
    "\n",
    "mask_2013_X_4 = np.isin(snps_2013_X_4_filtered.variant_position.values, var_pos_X_4) # TRUE where values in the snps dataset are found in the var_pos_X_4\n",
    "mask_2015_X_4 = np.isin(snps_2015_X_4_filtered.variant_position.values, var_pos_X_4) \n",
    "\n",
    "mask_2013_X_int = np.isin(snps_2013_X_int_filtered.variant_position.values, var_pos_X_int) \n",
    "mask_2015_X_int = np.isin(snps_2015_X_int_filtered.variant_position.values, var_pos_X_int) \n",
    "\n",
    "mask_2013_3R_int = np.isin(snps_2013_3R_int_filtered.variant_position.values, var_pos_3R_int) \n",
    "mask_2015_3R_int = np.isin(snps_2015_3R_int_filtered.variant_position.values, var_pos_3R_int) \n",
    "\n",
    "mask_2013_3R_4 = np.isin(snps_2013_3R_4_filtered.variant_position.values, var_pos_3R_4) \n",
    "mask_2015_3R_4 = np.isin(snps_2015_3R_4_filtered.variant_position.values, var_pos_3R_4) "
   ]
  },
  {
   "cell_type": "code",
   "execution_count": 21,
   "id": "d539a206",
   "metadata": {},
   "outputs": [
    {
     "name": "stdout",
     "output_type": "stream",
     "text": [
      "153978\n",
      "153978\n",
      "18938\n",
      "18938\n",
      "30362\n",
      "30362\n",
      "2024\n",
      "2024\n"
     ]
    }
   ],
   "source": [
    "print(np.count_nonzero(mask_2013_3R_int))\n",
    "print(np.count_nonzero(mask_2015_3R_int))\n",
    "\n",
    "print(np.count_nonzero(mask_2013_3R_4))\n",
    "print(np.count_nonzero(mask_2015_3R_4))\n",
    "\n",
    "print(np.count_nonzero(mask_2013_X_int))\n",
    "print(np.count_nonzero(mask_2015_X_int))\n",
    "\n",
    "print(np.count_nonzero(mask_2013_X_4))\n",
    "print(np.count_nonzero(mask_2015_X_4))\n",
    "\n",
    "# Matches the number of remaining SNPs calculated"
   ]
  },
  {
   "cell_type": "code",
   "execution_count": 22,
   "id": "8bd19d88",
   "metadata": {},
   "outputs": [],
   "source": [
    "# UPDATE THE SNP DATASETS\n",
    "\n",
    "snps_2013_3R_int_complete  = snps_2013_3R_int_filtered.isel(variants = mask_2013_3R_int)\n",
    "snps_2013_3R_4_complete  = snps_2013_3R_4_filtered.isel(variants = mask_2013_3R_4)\n",
    "snps_2013_X_int_complete  = snps_2013_X_int_filtered.isel(variants = mask_2013_X_int)\n",
    "snps_2013_X_4_complete  = snps_2013_X_4_filtered.isel(variants = mask_2013_X_4)\n",
    "\n",
    "snps_2015_3R_int_complete  = snps_2015_3R_int_filtered.isel(variants = mask_2015_3R_int)\n",
    "snps_2015_3R_4_complete  = snps_2015_3R_4_filtered.isel(variants = mask_2015_3R_4)\n",
    "snps_2015_X_int_complete  = snps_2015_X_int_filtered.isel(variants = mask_2015_X_int)\n",
    "snps_2015_X_4_complete  = snps_2015_X_4_filtered.isel(variants = mask_2015_X_4)"
   ]
  },
  {
   "cell_type": "code",
   "execution_count": 23,
   "id": "a780718a",
   "metadata": {},
   "outputs": [
    {
     "name": "stdout",
     "output_type": "stream",
     "text": [
      "[335007 335092 335127 335175 335188 335201 335381 335480 335600 335601]\n",
      "[335007 335092 335127 335175 335188 335201 335381 335480 335600 335601]\n"
     ]
    }
   ],
   "source": [
    "print(snps_2013_3R_int_complete.variant_position.values[0:10])\n",
    "print(snps_2015_3R_int_complete.variant_position.values[0:10])\n",
    "\n",
    "# Matching variant_positions"
   ]
  },
  {
   "cell_type": "markdown",
   "id": "a9e1f4e1",
   "metadata": {},
   "source": [
    "- 153,978\n",
    "- 18,938\n",
    "- 30,362\n",
    "- 2,024"
   ]
  },
  {
   "cell_type": "markdown",
   "id": "87e1d99b",
   "metadata": {},
   "source": [
    "OLD Number of SNPs for each dataset:\n",
    "- 228,484 for 3R and intergenic\n",
    "- 26,270 for 3R and 4-fold\n",
    "- 46,687 for X and intergenic\n",
    "- 3,157 for X and 4-fold"
   ]
  },
  {
   "cell_type": "markdown",
   "id": "1705cb2b",
   "metadata": {},
   "source": [
    "PREVIOSULY Number of SNPs for each dataset:\n",
    "- 272,177 for 3R and intergenic\n",
    "- 26,715 for 3R and 4-fold\n",
    "- 55,385 for X and intergenic \n",
    "- 3,185 for X and 4-fold\n",
    "    "
   ]
  },
  {
   "cell_type": "code",
   "execution_count": 24,
   "id": "df32341c",
   "metadata": {},
   "outputs": [],
   "source": [
    "# EXPORTING THE DATASETS USING PICKLE \n",
    "\n",
    "import pickle as pickle\n",
    "\n",
    "with open('snps_2013_3R_int_complete.pkl', 'wb') as f:\n",
    "    pickle.dump(snps_2013_3R_int_complete, f)\n",
    "\n",
    "with open('snps_2013_3R_4_complete.pkl', 'wb') as f:\n",
    "    pickle.dump(snps_2013_3R_4_complete, f)\n",
    "    \n",
    "with open('snps_2013_X_int_complete.pkl', 'wb') as f:\n",
    "    pickle.dump(snps_2013_X_int_complete, f)\n",
    "\n",
    "with open('snps_2013_X_4_complete.pkl', 'wb') as f:\n",
    "    pickle.dump(snps_2013_X_4_complete, f)\n",
    "    \n",
    "    \n",
    "with open('snps_2015_3R_int_complete.pkl', 'wb') as f:\n",
    "    pickle.dump(snps_2013_3R_int_complete, f)\n",
    "\n",
    "with open('snps_2015_3R_4_complete.pkl', 'wb') as f:\n",
    "    pickle.dump(snps_2013_3R_4_complete, f)\n",
    "    \n",
    "with open('snps_2015_X_int_complete.pkl', 'wb') as f:\n",
    "    pickle.dump(snps_2013_X_int_complete, f)\n",
    "\n",
    "with open('snps_2015_X_4_complete.pkl', 'wb') as f:\n",
    "    pickle.dump(snps_2013_X_4_complete, f)"
   ]
  },
  {
   "cell_type": "code",
   "execution_count": null,
   "id": "532804fa",
   "metadata": {},
   "outputs": [],
   "source": [
    "# IMPORTING THE DATASETS USING PICKLE \n",
    "\n",
    "import pickle as pickle\n",
    "\n",
    "with open('snps_2013_3R_int_complete.pkl', 'rb') as f:\n",
    "    snps_2013_3R_int_complete = pickle.load(f)\n",
    "\n",
    "with open('snps_2013_3R_4_complete.pkl', 'rb') as f:\n",
    "    snps_2013_3R_4_complete = pickle.load(f)\n",
    "    \n",
    "with open('snps_2013_X_int_complete.pkl', 'rb') as f:\n",
    "    snps_2013_X_int_complete = pickle.load(f)\n",
    "\n",
    "with open('snps_2013_X_4_complete.pkl', 'rb') as f:\n",
    "    snps_2013_X_4_complete = pickle.load(f)\n",
    "    \n",
    "    \n",
    "with open('snps_2015_3R_int_complete.pkl', 'rb') as f:\n",
    "    snps_2015_3R_int_complete = pickle.load(f)\n",
    "\n",
    "with open('snps_2015_3R_4_complete.pkl', 'rb') as f:\n",
    "    snps_2015_3R_4_complete = pickle.load(f)\n",
    "    \n",
    "with open('snps_2015_X_int_complete.pkl', 'rb') as f:\n",
    "    snps_2015_X_int_complete = pickle.load(f)\n",
    "\n",
    "with open('snps_2015_X_4_complete.pkl', 'rb') as f:\n",
    "    snps_2015_X_4_complete = pickle.load(f)"
   ]
  },
  {
   "cell_type": "markdown",
   "id": "0514bb0f",
   "metadata": {},
   "source": [
    "#### 3.7 Filtering to avoid linkage disequilibrium (LD)"
   ]
  },
  {
   "cell_type": "markdown",
   "id": "eb6d3071",
   "metadata": {},
   "source": [
    "To avoid LD, I will be picking 1 locus per 1000bp"
   ]
  },
  {
   "cell_type": "code",
   "execution_count": 25,
   "id": "854a6104",
   "metadata": {},
   "outputs": [],
   "source": [
    "# CREATE A FUNCTION TO SUBSET THE DATASETS TO CONTAIN ONLY UNLINKED LOCI - same loci for both years\n",
    "import random\n",
    "\n",
    "def unlinked_snps(snps_2013,snps_2015):\n",
    "    variant_pos = snps_2013.variant_position.values\n",
    "    unlinked_snp_pos = []\n",
    "    for i in range(0, max(variant_pos), 1000):\n",
    "        window_pos = variant_pos[np.where((variant_pos >= i) & (variant_pos < i+1000))]\n",
    "        if len(window_pos) > 0:\n",
    "            unlinked_snp_pos.append(random.choice(window_pos))\n",
    "    mask = np.isin(snps_2013.variant_position.values, unlinked_snp_pos)\n",
    "    new_snp_dataset_2013 =  snps_2013.isel(variants = mask)\n",
    "    new_snp_dataset_2015 =  snps_2015.isel(variants = mask)\n",
    "    \n",
    "    return new_snp_dataset_2013, new_snp_dataset_2015"
   ]
  },
  {
   "cell_type": "code",
   "execution_count": 26,
   "id": "0665eaa0",
   "metadata": {},
   "outputs": [],
   "source": [
    "# RUN THE DATASETS THROUGH THE FUNCTION\n",
    "\n",
    "snps_2013_3R_int_unlinked, snps_2015_3R_int_unlinked = unlinked_snps(snps_2013_3R_int_complete, snps_2015_3R_int_complete)\n",
    "snps_2013_3R_4_unlinked, snps_2015_3R_4_unlinked= unlinked_snps(snps_2013_3R_4_complete,snps_2015_3R_4_complete)\n",
    "snps_2013_X_int_unlinked, snps_2015_X_int_unlinked = unlinked_snps(snps_2013_X_int_complete,snps_2015_X_int_complete)\n",
    "snps_2013_X_4_unlinked,snps_2015_X_4_unlinked = unlinked_snps(snps_2013_X_4_complete,snps_2015_X_4_complete)"
   ]
  },
  {
   "cell_type": "code",
   "execution_count": 27,
   "id": "51ded709",
   "metadata": {
    "scrolled": false
   },
   "outputs": [
    {
     "name": "stdout",
     "output_type": "stream",
     "text": [
      "13580\n",
      "13580\n",
      "5170\n",
      "5170\n",
      "4677\n",
      "4677\n",
      "1238\n",
      "1238\n",
      "[335127 336515 337435 338651 339215 340827 341158 383397 384854 385807]\n",
      "[335127 336515 337435 338651 339215 340827 341158 383397 384854 385807]\n"
     ]
    }
   ],
   "source": [
    "# COUNT THE AMOUNT OF SNPS REMAINING\n",
    "\n",
    "print(len(snps_2013_3R_int_unlinked.variants))\n",
    "print(len(snps_2015_3R_int_unlinked.variants))\n",
    "\n",
    "print(len(snps_2013_3R_4_unlinked.variants))\n",
    "print(len(snps_2015_3R_4_unlinked.variants))\n",
    "\n",
    "print(len(snps_2013_X_int_unlinked.variants))\n",
    "print(len(snps_2015_X_int_unlinked.variants))\n",
    "\n",
    "print(len(snps_2013_X_4_unlinked.variants))\n",
    "print(len(snps_2015_X_4_unlinked.variants))\n",
    "\n",
    "# Check to see if they have matching variant_positions\n",
    "print(snps_2013_3R_int_unlinked.variant_position.values[0:10])\n",
    "print(snps_2015_3R_int_unlinked.variant_position.values[0:10])\n"
   ]
  },
  {
   "cell_type": "markdown",
   "id": "1be6e78f",
   "metadata": {},
   "source": [
    "Number of SNPs used to calculate the F statistics:\n",
    "- 3R_int: 13580\n",
    "- 3R_4: 5170\n",
    "- X_int: 4677\n",
    "- X_4: 1238"
   ]
  },
  {
   "cell_type": "code",
   "execution_count": 28,
   "id": "949802b5",
   "metadata": {},
   "outputs": [],
   "source": [
    "# EXPORT THE SNP DATSETS\n",
    "\n",
    "with open('snps_2013_3R_int_unlinked.pkl', 'wb') as f:\n",
    "    pickle.dump(snps_2013_3R_int_unlinked, f)\n",
    "\n",
    "with open('snps_2013_3R_4_unlinked.pkl', 'wb') as f:\n",
    "    pickle.dump(snps_2013_3R_4_unlinked, f)\n",
    "    \n",
    "with open('snps_2013_X_int_unlinked.pkl', 'wb') as f:\n",
    "    pickle.dump(snps_2013_X_int_unlinked, f)\n",
    "\n",
    "with open('snps_2013_X_4_unlinked.pkl', 'wb') as f:\n",
    "    pickle.dump(snps_2013_X_4_unlinked, f)\n",
    "    \n",
    "    \n",
    "with open('snps_2015_3R_int_unlinked.pkl', 'wb') as f:\n",
    "    pickle.dump(snps_2013_3R_int_unlinked, f)\n",
    "\n",
    "with open('snps_2015_3R_4_unlinked.pkl', 'wb') as f:\n",
    "    pickle.dump(snps_2013_3R_4_unlinked, f)\n",
    "    \n",
    "with open('snps_2015_X_int_unlinked.pkl', 'wb') as f:\n",
    "    pickle.dump(snps_2013_X_int_unlinked, f)\n",
    "\n",
    "with open('snps_2015_X_4_unlinked.pkl', 'wb') as f:\n",
    "    pickle.dump(snps_2013_X_4_unlinked, f)"
   ]
  },
  {
   "cell_type": "code",
   "execution_count": null,
   "id": "1e322a62",
   "metadata": {},
   "outputs": [],
   "source": [
    "# IMPORTING THE DATASETS USING PICKLE \n",
    "\n",
    "import pickle as pickle\n",
    "\n",
    "with open('snps_2013_3R_int_unlinked.pkl', 'rb') as f:\n",
    "    snps_2013_3R_int_unlinked = pickle.load(f)\n",
    "\n",
    "with open('snps_2013_3R_4_unlinked.pkl', 'rb') as f:\n",
    "    snps_2013_3R_4_unlinked = pickle.load(f)\n",
    "    \n",
    "with open('snps_2013_X_int_unlinked.pkl', 'rb') as f:\n",
    "    snps_2013_X_int_unlinked = pickle.load(f)\n",
    "\n",
    "with open('snps_2013_X_4_unlinked.pkl', 'rb') as f:\n",
    "    snps_2013_X_4_unlinked = pickle.load(f)\n",
    "    \n",
    "    \n",
    "with open('snps_2015_3R_int_unlinked.pkl', 'rb') as f:\n",
    "    snps_2013_3R_int_unlinked = pickle.load(f)\n",
    "\n",
    "with open('snps_2015_3R_4_unlinked.pkl', 'rb') as f:\n",
    "    snps_2013_3R_4_unlinked = pickle.load(f)\n",
    "    \n",
    "with open('snps_2015_X_int_unlinked.pkl', 'rb') as f:\n",
    "    snps_2013_X_int_unlinked = pickle.load(f)\n",
    "\n",
    "with open('snps_2015_X_4_unlinked.pkl', 'rb') as f:\n",
    "    snps_2013_X_4_unlinked = pickle.load(f)"
   ]
  },
  {
   "cell_type": "markdown",
   "id": "ddf83927",
   "metadata": {},
   "source": [
    "#### 1.8 Export genotype, positions and sample_id as hdf4 files"
   ]
  },
  {
   "cell_type": "code",
   "execution_count": 30,
   "id": "78d0dd9d",
   "metadata": {},
   "outputs": [],
   "source": [
    "# Run genotype calls below before this cell\n",
    "import h5py\n",
    "\n",
    "with h5py.File('2013_3R_int_10.hdf5', 'w') as f:\n",
    "    f.create_dataset(name = '/POS', data = snps_2013_3R_int_unlinked.variant_position)\n",
    "    f.create_dataset(name = '/genotype', data = gt_2013_3R_int)\n",
    "    \n",
    "with h5py.File('2015_3R_int_10.hdf5', 'w') as f:\n",
    "    f.create_dataset(name = '/POS', data = snps_2015_3R_int_unlinked.variant_position)\n",
    "    f.create_dataset(name = '/genotype', data = gt_2015_3R_int)\n",
    "    \n",
    "with h5py.File('2013_3R_4_10.hdf5', 'w') as f:\n",
    "    f.create_dataset(name = '/POS', data = snps_2013_3R_4_unlinked.variant_position)\n",
    "    f.create_dataset(name = '/genotype', data = gt_2013_3R_4)\n",
    "    \n",
    "with h5py.File('2015_3R_4_10.hdf5', 'w') as f:\n",
    "    f.create_dataset(name = '/POS', data = snps_2015_3R_4_unlinked.variant_position)\n",
    "    f.create_dataset(name = '/genotype', data = gt_2015_3R_4)\n",
    "    \n",
    "with h5py.File('2013_X_4_10.hdf5', 'w') as f:\n",
    "    f.create_dataset(name = '/POS', data = snps_2013_X_4_unlinked.variant_position)\n",
    "    f.create_dataset(name = '/genotype', data = gt_2013_X_4)\n",
    "    \n",
    "with h5py.File('2015_X_4_10.hdf5', 'w') as f:\n",
    "    f.create_dataset(name = '/POS', data = snps_2015_X_4_unlinked.variant_position)\n",
    "    f.create_dataset(name = '/genotype', data = gt_2015_X_4)\n",
    "    \n",
    "with h5py.File('2013_X_int_10.hdf5', 'w') as f:\n",
    "    f.create_dataset(name = '/POS', data = snps_2013_X_int_unlinked.variant_position)\n",
    "    f.create_dataset(name = '/genotype', data = gt_2013_X_int)\n",
    "    \n",
    "with h5py.File('2015_X_int_10.hdf5', 'w') as f:\n",
    "    f.create_dataset(name = '/POS', data = snps_2015_X_int_unlinked.variant_position)\n",
    "    f.create_dataset(name = '/genotype', data = gt_2015_X_int)"
   ]
  },
  {
   "cell_type": "markdown",
   "id": "162b53cf",
   "metadata": {},
   "source": [
    "### 2.0 Calculating the temporal F statistic"
   ]
  },
  {
   "attachments": {
    "image.png": {
     "image/png": "[encoded data removed]"
    }
   },
   "cell_type": "markdown",
   "id": "b63fae0d",
   "metadata": {},
   "source": [
    "Using the new datasets, we need to calculate a measure of genetic drift i.e., F statistic using this equation: (Using major allele frequency)\n",
    "\n",
    "![image.png](attachment:image.png)\n",
    "\n"
   ]
  },
  {
   "cell_type": "markdown",
   "id": "5d674b56",
   "metadata": {},
   "source": [
    "Number of SNPs used to calculate the F statistics:\n",
    "- 3R_int: 13580\n",
    "- 3R_4: 5170\n",
    "- X_int: 4677\n",
    "- X_4: 1238"
   ]
  },
  {
   "cell_type": "code",
   "execution_count": 35,
   "id": "d92d3707",
   "metadata": {},
   "outputs": [],
   "source": [
    "# COMPUTE GENOTYPE CALLS FOR THE SNPS\n",
    "\n",
    "# Visulaised using the scikit-allel wrapper class for genotype calls\n",
    "gt_2013_3R_int = allel.GenotypeDaskArray(snps_2013_3R_int_unlinked[\"call_genotype\"].data)\n",
    "gt_2013_3R_4 = allel.GenotypeDaskArray(snps_2013_3R_4_unlinked[\"call_genotype\"].data)\n",
    "gt_2013_X_int = allel.GenotypeDaskArray(snps_2013_X_int_unlinked[\"call_genotype\"].data)\n",
    "gt_2013_X_4 = allel.GenotypeDaskArray(snps_2013_X_4_unlinked[\"call_genotype\"].data)\n",
    "\n",
    "gt_2015_3R_int = allel.GenotypeDaskArray(snps_2015_3R_int_unlinked[\"call_genotype\"].data)\n",
    "gt_2015_3R_4 = allel.GenotypeDaskArray(snps_2015_3R_4_unlinked[\"call_genotype\"].data)\n",
    "gt_2015_X_int = allel.GenotypeDaskArray(snps_2015_X_int_unlinked[\"call_genotype\"].data)\n",
    "gt_2015_X_4 = allel.GenotypeDaskArray(snps_2015_X_4_unlinked[\"call_genotype\"].data)\n",
    "\n",
    "#gt_2013_3R_int = snps_2013_3R_int_unlinked[\"call_genotype\"].data \n",
    "#gt_2013_3R_4 = snps_2013_3R_4_unlinked[\"call_genotype\"].data\n",
    "#gt_2013_X_int = snps_2013_X_int_unlinked[\"call_genotype\"].data\n",
    "#gt_2013_X_4 = snps_2013_X_4_unlinked[\"call_genotype\"].data\n",
    "\n",
    "#gt_2015_3R_int = snps_2015_3R_int_unlinked[\"call_genotype\"].data\n",
    "#gt_2015_3R_4 = snps_2015_3R_4_unlinked[\"call_genotype\"].data\n",
    "#gt_2015_X_int = snps_2015_X_int_unlinked[\"call_genotype\"].data\n",
    "#gt_2015_X_4 = snps_2015_X_4_unlinked[\"call_genotype\"].data"
   ]
  },
  {
   "cell_type": "code",
   "execution_count": 36,
   "id": "8cbf735d",
   "metadata": {},
   "outputs": [],
   "source": [
    "# COMPUTE ALLELE COUNTS\n",
    "\n",
    "ac_2013_3R_int = gt_2013_3R_int.count_alleles(max_allele=3).compute()\n",
    "ac_2013_3R_4 = gt_2013_3R_4.count_alleles(max_allele=3).compute()\n",
    "ac_2013_X_int = gt_2013_X_int.count_alleles(max_allele=3).compute()\n",
    "ac_2013_X_4 = gt_2013_X_4.count_alleles(max_allele=3).compute()\n",
    "\n",
    "ac_2015_3R_int = gt_2015_3R_int.count_alleles(max_allele=3).compute()\n",
    "ac_2015_3R_4 = gt_2015_3R_4.count_alleles(max_allele=3).compute()\n",
    "ac_2015_X_int = gt_2015_X_int.count_alleles(max_allele=3).compute()\n",
    "ac_2015_X_4 = gt_2015_X_4.count_alleles(max_allele=3).compute()"
   ]
  },
  {
   "cell_type": "code",
   "execution_count": 37,
   "id": "f4ae7687",
   "metadata": {},
   "outputs": [],
   "source": [
    "# COMPUTE ALLELE FREQUENCIES (Xt and X0)\n",
    "\n",
    "freq_2013_3R_int = ac_2013_3R_int.to_frequencies()\n",
    "freq_2013_3R_4 = ac_2013_3R_4.to_frequencies()\n",
    "freq_2013_X_int = ac_2013_X_int.to_frequencies()\n",
    "freq_2013_X_4 = ac_2013_X_4.to_frequencies()\n",
    "\n",
    "freq_2015_3R_int = ac_2015_3R_int.to_frequencies()\n",
    "freq_2015_3R_4 = ac_2015_3R_4.to_frequencies()\n",
    "freq_2015_X_int = ac_2015_X_int.to_frequencies()\n",
    "freq_2015_X_4 = ac_2015_X_4.to_frequencies()"
   ]
  },
  {
   "cell_type": "code",
   "execution_count": 38,
   "id": "0ffc7bc5",
   "metadata": {
    "scrolled": false
   },
   "outputs": [
    {
     "data": {
      "image/png": "[encoded data removed]",
      "text/plain": [
       "<Figure size 640x480 with 1 Axes>"
      ]
     },
     "metadata": {},
     "output_type": "display_data"
    }
   ],
   "source": [
    "# DISPLAY THE DISTRIBUTION OF XT AND X0\n",
    "\n",
    "import matplotlib.pyplot as plt\n",
    "\n",
    "hist_3R_int = []\n",
    "hist_3R_4 = []\n",
    "hist_X_int = []\n",
    "hist_X_4 = []\n",
    "\n",
    "for i in range(len(freq_2013_3R_int)):\n",
    "    hist_3R_int.append(max(freq_2015_3R_int[i])-max(freq_2013_3R_int[i]))\n",
    "    \n",
    "for i in range(len(freq_2013_3R_4)):\n",
    "    hist_3R_4.append(max(freq_2015_3R_4[i])-max(freq_2013_3R_4[i]))\n",
    "\n",
    "for i in range(len(freq_2013_X_int)):\n",
    "    hist_X_int.append(max(freq_2015_X_int[i])-max(freq_2013_X_int[i]))\n",
    "\n",
    "for i in range(len(freq_2013_X_4)):\n",
    "    hist_X_4.append(max(freq_2015_X_4[i])-max(freq_2013_X_4[i]))\n",
    "    \n",
    "plt.hist(hist_3R_int, alpha=0.5, bins=100, color='g', label='3R_int')\n",
    "plt.hist(hist_3R_4, alpha=0.5, bins=100, color='b', label='3R_4')\n",
    "plt.hist(hist_X_int, alpha=0.5, bins=100, color='r', label='X_int')\n",
    "plt.hist(hist_X_4, alpha=0.5, bins=100, color='y', label='X_4')\n",
    "\n",
    "plt.gca().set(title='Frequency Histogram of xit-xi0', ylabel='Frequency')\n",
    "plt.legend()\n",
    "plt.show()\n"
   ]
  },
  {
   "cell_type": "code",
   "execution_count": 39,
   "id": "087fcbb4",
   "metadata": {},
   "outputs": [
    {
     "data": {
      "image/png": "[encoded data removed]",
      "text/plain": [
       "<Figure size 640x480 with 1 Axes>"
      ]
     },
     "metadata": {},
     "output_type": "display_data"
    }
   ],
   "source": [
    "# PLOT XI0 AGAINST XIT\n",
    "\n",
    "x0 = []\n",
    "xt = []\n",
    "\n",
    "for i in range(len(freq_2013_3R_int)):\n",
    "    x0.append(max(freq_2013_3R_int[i]))\n",
    "    xt.append(max(freq_2015_3R_int[i]))\n",
    "    \n",
    "plt.scatter(x = x0, y= xt, s = 2)\n",
    "plt.xlabel(\"X0\")\n",
    "plt.ylabel(\"Xt\")\n",
    "\n",
    "# Plot y=x line\n",
    "x = np.linspace(0.5, 0.945, 100)\n",
    "y = x\n",
    "plt.plot(x, y, label='y = x')\n",
    "\n",
    "plt.show()"
   ]
  },
  {
   "cell_type": "code",
   "execution_count": 52,
   "id": "baa32330",
   "metadata": {},
   "outputs": [],
   "source": [
    "# CREATE A FUNCTION TO CALCULATE THE Fa STATISTIC\n",
    "\n",
    "def f_statistic(freq_x0, freq_xt):\n",
    "    k = len(freq_x0) # Number of SNPs\n",
    "    # Uses the max values along each row i.e., SNP\n",
    "    x0 = np.amax(freq_x0, axis=1) \n",
    "    xt = np.amax(freq_xt, axis=1)\n",
    "\n",
    "    # Sum\n",
    "    f_total = np.sum(((xt-x0)**2)/(x0*(1-x0)))\n",
    "\n",
    "    f = f_total/k  \n",
    "    print(f)  \n",
    "    return f\n",
    "\n",
    "# Old function - takes longer to run\n",
    "def f_statistic_original(freq_x0, freq_xt):\n",
    "    x0 = []\n",
    "    xt = []\n",
    "    k = len(freq_x0)\n",
    "    f_total = 0\n",
    "\n",
    "    for i in range(k):\n",
    "        x0.append(max(freq_x0[i]))\n",
    "        xt.append(max(freq_xt[i]))\n",
    "\n",
    "    for i in range(k):\n",
    "        f_total += ((xt[i]-x0[i])**2)/(x0[i]*(1-x0[i]))\n",
    "\n",
    "    f = f_total/k\n",
    "#    print(f)   \n",
    "    return f\n"
   ]
  },
  {
   "cell_type": "code",
   "execution_count": 53,
   "id": "2cbd9780",
   "metadata": {},
   "outputs": [
    {
     "name": "stdout",
     "output_type": "stream",
     "text": [
      "0.010949059991334947\n",
      "0.010933134981425981\n",
      "0.011507285658401178\n",
      "0.010908145353819999\n"
     ]
    }
   ],
   "source": [
    "# COMPUTE THE Fa-STATISTIC FOR ALL SAMPLES\n",
    "\n",
    "f_3R_int = f_statistic(freq_2013_3R_int, freq_2015_3R_int)\n",
    "f_3R_4 = f_statistic(freq_2013_3R_4, freq_2015_3R_4)\n",
    "f_X_int = f_statistic(freq_2013_X_int, freq_2015_X_int)\n",
    "f_X_4 = f_statistic(freq_2013_X_4, freq_2015_X_4)\n"
   ]
  },
  {
   "cell_type": "markdown",
   "id": "d4219875",
   "metadata": {},
   "source": [
    "New (MAF>10%):\n",
    "- 0.010949059991334947\n",
    "- 0.010933134981425981\n",
    "- 0.011507285658401178\n",
    "- 0.010908145353819999"
   ]
  },
  {
   "cell_type": "markdown",
   "id": "9faec29c",
   "metadata": {},
   "source": [
    "OLD:\n",
    "- 3R_int: 0.01001658723927551\n",
    "- 3R_4: 0.010564109499109296\n",
    "- X_int: 0.01041746932058887\n",
    "- X_4: 0.009599673323236616"
   ]
  },
  {
   "attachments": {
    "image.png": {
     "image/png": "[encoded data removed]"
    }
   },
   "cell_type": "markdown",
   "id": "fc5f7e86",
   "metadata": {},
   "source": [
    "The equation for F-statistic calculated using ratio-of-sums:\n",
    "![image.png](attachment:image.png)"
   ]
  },
  {
   "cell_type": "code",
   "execution_count": 47,
   "id": "214b89bb",
   "metadata": {},
   "outputs": [],
   "source": [
    "# CREATE A FUNCTION TO CALCUALTE Fb-STATISTIC USING RATIO OF SUMS\n",
    "\n",
    "def f_statistic_ratio(freq_x0, freq_xt):\n",
    "    x0 = []\n",
    "    xt = []\n",
    "    k = len(freq_x0)\n",
    "    f_nominator = 0\n",
    "    f_denominator = 0\n",
    "    \n",
    "    for i in range(k):\n",
    "        x0.append(max(freq_x0[i]))\n",
    "        xt.append(max(freq_xt[i]))\n",
    "    \n",
    "    for i in range(k):\n",
    "        f_nominator += (xt[i]-x0[i])**2\n",
    "        f_denominator += x0[i]*(1-x0[i])\n",
    "\n",
    "    fb = f_nominator/f_denominator\n",
    "    print(fb)\n",
    "    \n",
    "    return fb"
   ]
  },
  {
   "cell_type": "code",
   "execution_count": 48,
   "id": "9d73f10a",
   "metadata": {},
   "outputs": [
    {
     "name": "stdout",
     "output_type": "stream",
     "text": [
      "0.010798735911679794\n",
      "0.010764371016122721\n",
      "0.01134086642068804\n",
      "0.011035562597602808\n"
     ]
    }
   ],
   "source": [
    "# COMPUTE THE Fb-STATISTIC FOR ALL SAMPLES\n",
    "\n",
    "fb_3R_int = f_statistic_ratio(freq_2013_3R_int, freq_2015_3R_int)\n",
    "fb_3R_4 = f_statistic_ratio(freq_2013_3R_4, freq_2015_3R_4)\n",
    "fb_X_int = f_statistic_ratio(freq_2013_X_int, freq_2015_X_int)\n",
    "fb_X_4 = f_statistic_ratio(freq_2013_X_4, freq_2015_X_4)\n"
   ]
  },
  {
   "cell_type": "markdown",
   "id": "ff5fcaad",
   "metadata": {},
   "source": [
    "### 3.0 Calculating contemporary Ne"
   ]
  },
  {
   "attachments": {
    "image.png": {
     "image/png": "[encoded data removed]"
    }
   },
   "cell_type": "markdown",
   "id": "52bff73b",
   "metadata": {},
   "source": [
    "Equation to calculate Ne using F-statistic:\n",
    "\n",
    "![image.png](attachment:image.png)"
   ]
  },
  {
   "cell_type": "code",
   "execution_count": 49,
   "id": "0c48723f",
   "metadata": {},
   "outputs": [
    {
     "name": "stdout",
     "output_type": "stream",
     "text": [
      "3R_int: -0.0007079473848505113\n",
      "3R_4: -0.0007238723947594772\n",
      "X_int: -0.00014972171778428016\n",
      "X_4: -0.0007488620223654596\n"
     ]
    }
   ],
   "source": [
    "# CALCULATE Fa AFTER REMOVING SAMPLING ERROR FOR EACH\n",
    "\n",
    "sampling_error_3R_int = f_3R_int - (1/(2*len(snps_2013_3R_int_unlinked.sample_id))) - ((1/(2*len(snps_2015_3R_int_unlinked.sample_id))))\n",
    "sampling_error_3R_4 = f_3R_4 - (1/(2*len(snps_2013_3R_4_unlinked.sample_id))) - ((1/(2*len(snps_2015_3R_4_unlinked.sample_id))))\n",
    "sampling_error_X_int = f_X_int - (1/(2*len(snps_2013_X_int_unlinked.sample_id))) - ((1/(2*len(snps_2015_X_int_unlinked.sample_id))))\n",
    "sampling_error_X_4 = f_X_4 - (1/(2*len(snps_2013_X_4_unlinked.sample_id))) - ((1/(2*len(snps_2015_X_4_unlinked.sample_id))))\n",
    "\n",
    "print(\"3R_int:\", sampling_error_3R_int)\n",
    "print(\"3R_4:\", sampling_error_3R_4)\n",
    "print(\"X_int:\", sampling_error_X_int)\n",
    "print(\"X_4:\", sampling_error_X_4)"
   ]
  },
  {
   "cell_type": "code",
   "execution_count": 50,
   "id": "83661fa6",
   "metadata": {},
   "outputs": [
    {
     "name": "stdout",
     "output_type": "stream",
     "text": [
      "3R_int: -0.0008582714645056638\n",
      "3R_4: -0.000892636360062737\n",
      "X_int: -0.0003161409554974185\n",
      "X_4: -0.0006214447785826503\n"
     ]
    }
   ],
   "source": [
    "# CALCULATE Fb AFTER REMOVING SAMPLING ERROR FOR EACH\n",
    "\n",
    "sampling_error_3R_int = fb_3R_int - (1/(2*len(snps_2013_3R_int_unlinked.sample_id))) - ((1/(2*len(snps_2015_3R_int_unlinked.sample_id))))\n",
    "sampling_error_3R_4 = fb_3R_4 - (1/(2*len(snps_2013_3R_4_unlinked.sample_id))) - ((1/(2*len(snps_2015_3R_4_unlinked.sample_id))))\n",
    "sampling_error_X_int = fb_X_int - (1/(2*len(snps_2013_X_int_unlinked.sample_id))) - ((1/(2*len(snps_2015_X_int_unlinked.sample_id))))\n",
    "sampling_error_X_4 = fb_X_4 - (1/(2*len(snps_2013_X_4_unlinked.sample_id))) - ((1/(2*len(snps_2015_X_4_unlinked.sample_id))))\n",
    "\n",
    "print(\"3R_int:\", sampling_error_3R_int)\n",
    "print(\"3R_4:\", sampling_error_3R_4)\n",
    "print(\"X_int:\", sampling_error_X_int)\n",
    "print(\"X_4:\", sampling_error_X_4)"
   ]
  },
  {
   "cell_type": "code",
   "execution_count": null,
   "id": "146ccd59",
   "metadata": {},
   "outputs": [],
   "source": [
    "# CALCULATE NE\n",
    "\n",
    "# t: 2 years apart (assumed to correspond to t= 20 generations). - Hui et al., 2022\n",
    "\n",
    "print(20/(2*-0.00141)) # best not to report negative Ne"
   ]
  },
  {
   "cell_type": "markdown",
   "id": "0bccbd22",
   "metadata": {},
   "source": [
    "### 4. Randomisation test"
   ]
  },
  {
   "cell_type": "markdown",
   "id": "c35c045d",
   "metadata": {},
   "source": [
    "#### 4.1 Create a function to conduct a randomisation test"
   ]
  },
  {
   "cell_type": "markdown",
   "id": "6bbfbc41",
   "metadata": {},
   "source": [
    "Use a randomisation test to plot a distribution of Fa statistics:\n",
    "\n",
    "1.\tCalculate the raw F from your current subset of data. This is your observed F.\n",
    "\n",
    "2.\tKeep using the same subset, shuffle all individuals, assign them randomly into two populations with the same sample sizes. Recalculate the same F. \n",
    "\n",
    "3.\tRepeat the shuffling for 1000 (say) times, such that 1000 randomised F are obtained. \n",
    "\n",
    "4.\tPlot a histogram of the 1000 randomised F, then compare to your observed F. \n"
   ]
  },
  {
   "cell_type": "code",
   "execution_count": null,
   "id": "af99eeb8",
   "metadata": {},
   "outputs": [],
   "source": [
    "# PRINT THE SAMPLE SIZES OF EACH POPULATION\n",
    "\n",
    "print(len(snps_2013_3R_int_unlinked.sample_id)) #73\n",
    "print(len(snps_2015_3R_int_unlinked.sample_id)) #104"
   ]
  },
  {
   "cell_type": "code",
   "execution_count": null,
   "id": "3177b020",
   "metadata": {},
   "outputs": [],
   "source": [
    "# COMBINE THE GENOTYPE CALLS FROM BOTH 2013 AND 2015 AS 1 \n",
    "gt_2013_3R_int"
   ]
  },
  {
   "cell_type": "code",
   "execution_count": null,
   "id": "35d82d64",
   "metadata": {
    "scrolled": true
   },
   "outputs": [],
   "source": [
    "gt_2015_3R_int "
   ]
  },
  {
   "cell_type": "markdown",
   "id": "9c1e39e8",
   "metadata": {},
   "source": [
    "All genotype calls have the same number of sites e.g., 13858 for 3R/int but different number of individuals for each combination"
   ]
  },
  {
   "cell_type": "code",
   "execution_count": null,
   "id": "630eecb4",
   "metadata": {},
   "outputs": [],
   "source": [
    "gt_3R_int = allel.GenotypeDaskArray(np.concatenate([gt_2013_3R_int, gt_2015_3R_int], axis=1)) #Joins the dask arrays horizontally i.e., adds columns but same number of rows\n",
    "gt_3R_4 = allel.GenotypeDaskArray(np.concatenate([gt_2013_3R_4, gt_2015_3R_4], axis=1))\n",
    "gt_X_int = allel.GenotypeDaskArray(np.concatenate([gt_2013_X_int, gt_2015_X_int], axis=1))\n",
    "gt_X_4 = allel.GenotypeDaskArray(np.concatenate([gt_2013_X_4, gt_2015_X_4], axis=1))"
   ]
  },
  {
   "cell_type": "code",
   "execution_count": null,
   "id": "52246f61",
   "metadata": {
    "scrolled": true
   },
   "outputs": [],
   "source": [
    "gt_3R_int # Has 177 individuals"
   ]
  },
  {
   "cell_type": "code",
   "execution_count": null,
   "id": "b3038239",
   "metadata": {},
   "outputs": [],
   "source": [
    "gt_3R_int.shape[1]"
   ]
  },
  {
   "cell_type": "code",
   "execution_count": null,
   "id": "d19e68c2",
   "metadata": {},
   "outputs": [],
   "source": [
    "# SPLIT THE JOINED DASK ARRAYS INTO TWO - 73 AND 104 INDIVIDUALS IN EACH\n",
    "\n",
    "# Create an array of a random permutation of the column indicies\n",
    "split_indices = np.random.permutation(177) # can use gt_3R_int.shape[1] in the brackets but this will be 177 for all\n",
    "print(split_indices)\n",
    "print(split_indices[0:73])\n",
    "print(split_indices[73:177])"
   ]
  },
  {
   "cell_type": "code",
   "execution_count": null,
   "id": "06c6244e",
   "metadata": {},
   "outputs": [],
   "source": [
    "# SPLIT THE DASK ARRAYS\n",
    "# gt_3R_int[:,0] #rows then columns so this is all rows for the first column\n",
    "\n",
    "gt_3R_int_73 = gt_3R_int[:,split_indices[0:73]]\n",
    "gt_3R_int_104 = gt_3R_int[:,split_indices[73:177]]"
   ]
  },
  {
   "cell_type": "code",
   "execution_count": null,
   "id": "e350f15c",
   "metadata": {},
   "outputs": [],
   "source": [
    "gt_3R_int_73"
   ]
  },
  {
   "cell_type": "code",
   "execution_count": null,
   "id": "0c80a778",
   "metadata": {},
   "outputs": [],
   "source": [
    "def randomisation(combined_gt):\n",
    "    f_statistics = []\n",
    "    # Repeat for 1000 times\n",
    "    for i in range(1000):\n",
    "        # Create an array of a random permutation of the column indicies\n",
    "        split_indices = np.random.permutation(177) # can use gt_3R_int.shape[1] in the brackets but this will be 177 for all\n",
    "        gt_73 = combined_gt[:,split_indices[0:73]]\n",
    "        gt_104 = combined_gt[:,split_indices[73:177]]\n",
    "        # Compute allele counts\n",
    "        ac_73  = gt_73 .count_alleles(max_allele=3).compute()\n",
    "        ac_104 = gt_104.count_alleles(max_allele=3).compute()\n",
    "        # Compute allele frequencies\n",
    "        freq_73 = ac_73.to_frequencies()\n",
    "        freq_104 = ac_104.to_frequencies()\n",
    "        # Calculate and append fa statistic using function\n",
    "        f_statistics.append(f_statistic(freq_2013_3R_int, freq_2015_3R_int))\n",
    "    return f_statistics  "
   ]
  },
  {
   "cell_type": "code",
   "execution_count": null,
   "id": "23348f67",
   "metadata": {},
   "outputs": [],
   "source": [
    "random_f_3R_int = randomisation(gt_3R_int)\n",
    "print(\"Done gt_3R_int\")\n",
    "random_f_3R_4 = randomisation(gt_3R_4)\n",
    "print(\"Done gt_3R_4\")\n",
    "random_f_X_int = randomisation(gt_X_int)\n",
    "print(\"Done gt_X_int\")\n",
    "random_f_X_4 = randomisation(gt_X_4)\n",
    "print(\"Done gt_X_4\")"
   ]
  },
  {
   "cell_type": "code",
   "execution_count": null,
   "id": "bf880ffb",
   "metadata": {},
   "outputs": [],
   "source": [
    "# EXPORT THE RESULTS \n",
    "\n",
    "#with open('random_f_3R_int.pkl', 'wb') as f:\n",
    "#    pickle.dump(random_f_3R_int, f)\n",
    "    \n",
    "#with open('random_f_3R_4.pkl', 'wb') as f:\n",
    "#    pickle.dump(random_f_3R_4, f)\n",
    "    \n",
    "#with open('random_f_X_int.pkl', 'wb') as f:\n",
    "#    pickle.dump(random_f_X_int, f)\n",
    "    \n",
    "#with open('random_f_X_4.pkl', 'wb') as f:\n",
    "#    pickle.dump(random_f_X_4, f)"
   ]
  },
  {
   "cell_type": "code",
   "execution_count": null,
   "id": "a67ab9b0",
   "metadata": {},
   "outputs": [],
   "source": [
    "# IMPORT THE RESULTS \n",
    "\n",
    "with open('random_f_3R_int.pkl', 'rb') as f:\n",
    "    random_f_3R_int = pickle.load(f)\n",
    "    \n",
    "with open('random_f_3R_4.pkl', 'rb') as f:\n",
    "    random_f_3R_4 = pickle.load(f)\n",
    "    \n",
    "with open('random_f_X_int.pkl', 'rb') as f:\n",
    "    random_f_X_int = pickle.load(f)\n",
    "    \n",
    "with open('random_f_X_4.pkl', 'rb') as f:\n",
    "    random_f_X_4 = pickle.load(f)"
   ]
  },
  {
   "cell_type": "code",
   "execution_count": null,
   "id": "05ecce87",
   "metadata": {
    "scrolled": false
   },
   "outputs": [],
   "source": [
    "random_f_3R_int"
   ]
  },
  {
   "cell_type": "code",
   "execution_count": null,
   "id": "d66f2fbd",
   "metadata": {},
   "outputs": [],
   "source": [
    "random_f_3R_int_no_inf = random_f_3R_int.copy()"
   ]
  },
  {
   "cell_type": "code",
   "execution_count": null,
   "id": "d2ef4bb4",
   "metadata": {},
   "outputs": [],
   "source": [
    "random_f_3R_int_no_inf"
   ]
  },
  {
   "cell_type": "code",
   "execution_count": null,
   "id": "86a3d478",
   "metadata": {},
   "outputs": [],
   "source": [
    "max(random_f_3R_int) #3R_int max is infinity but others are not"
   ]
  },
  {
   "cell_type": "code",
   "execution_count": null,
   "id": "864f09d5",
   "metadata": {},
   "outputs": [],
   "source": [
    "random_f_3R_int_no_inf.remove(np.inf)\n",
    "random_f_3R_int_no_inf"
   ]
  },
  {
   "cell_type": "markdown",
   "id": "10a91111",
   "metadata": {},
   "source": [
    "NOTE: The randomisation test functions took too long to run 1000 times on here. Alternatively, pre-written code in R found on FYP - (3.1) randomisation_F_R was used instead to obtain the null Fa."
   ]
  },
  {
   "cell_type": "markdown",
   "id": "8af10c43",
   "metadata": {},
   "source": [
    "#### 4.2 Plot histograms of the randomisation results"
   ]
  },
  {
   "cell_type": "code",
   "execution_count": null,
   "id": "30c9fcd7",
   "metadata": {
    "scrolled": false
   },
   "outputs": [],
   "source": [
    "fig, axes = plt.subplots(nrows=2, ncols=2, figsize=(10, 8))\n",
    "\n",
    "# Original F values\n",
    "observed_F = [0.01001658723927551, 0.010564109499109296, 0.01041746932058887, 0.009599673323236616]\n",
    "\n",
    "# Plot the histograms\n",
    "axes[0, 0].hist(random_f_3R_int_no_inf, bins=40, color='blue', alpha=0.5)\n",
    "axes[0, 0].axvline(x=observed_F[0] ,color='black', linestyle='--', linewidth=1)\n",
    "axes[0, 0].set_title('3R_int')\n",
    "\n",
    "axes[0, 1].hist(random_f_3R_4, bins=40, color='red', alpha=0.5)\n",
    "axes[0, 1].axvline(x=observed_F[1] ,color='black', linestyle='--', linewidth=1)\n",
    "axes[0, 1].set_title('3R_4')\n",
    "\n",
    "axes[1, 0].hist(random_f_X_int, bins=40, color='green', alpha=0.5)\n",
    "axes[1, 0].axvline(x=observed_F[2] ,color='black', linestyle='--', linewidth=1)\n",
    "axes[1, 0].set_title('X_int')\n",
    "\n",
    "axes[1, 1].hist(random_f_X_4, bins=40, color='purple', alpha=0.5)\n",
    "axes[1, 1].axvline(x=observed_F[3] ,color='black', linestyle='--', linewidth=1)\n",
    "axes[1, 1].set_title('X_4')\n",
    "\n",
    "plt.show()"
   ]
  },
  {
   "cell_type": "markdown",
   "id": "016d1073",
   "metadata": {},
   "source": [
    "New (MAF>10%) calculated in Python:\n",
    "- 0.010949059991334947\n",
    "- 0.010933134981425981\n",
    "- 0.011507285658401178\n",
    "- 0.010908145353819999"
   ]
  },
  {
   "cell_type": "markdown",
   "id": "908a4815",
   "metadata": {},
   "source": [
    "I'm not sure why but Fa calculated in R and above is slightly different."
   ]
  },
  {
   "cell_type": "markdown",
   "id": "851ea001",
   "metadata": {},
   "source": [
    "#### 4.3 Re-plot randomisation test (using the F-statistics calculated in R)"
   ]
  },
  {
   "cell_type": "markdown",
   "id": "b9d13335",
   "metadata": {},
   "source": [
    "Fa:\n",
    "- X_4: 0.0111445581858069\n",
    "- X_int: 0.0118885280123931 (positive Fa after sampling! But, within the distribution?)\n",
    "- 3R_int: 0.0112564541599081 (Fa outside of null_Fa distribution and has inf values in null_Fa)\n",
    "- 3R_4: 0.0112449825807431"
   ]
  },
  {
   "cell_type": "code",
   "execution_count": 9,
   "id": "146d9821",
   "metadata": {},
   "outputs": [],
   "source": [
    "# IMPORT FILES\n",
    "\n",
    "null_Fa_3R_int = np.loadtxt('null_Fa_3R_int_10.txt') #Has inf values\n",
    "null_Fa_3R_4 = np.loadtxt('null_Fa_3R_4_10.txt')\n",
    "null_Fa_X_4 = np.loadtxt('null_Fa_X_4_10.txt')\n",
    "null_Fa_X_int = np.loadtxt('null_Fa_X_int_10.txt') "
   ]
  },
  {
   "cell_type": "code",
   "execution_count": 10,
   "id": "916bfa6a",
   "metadata": {},
   "outputs": [],
   "source": [
    "# REMOVE INFINITY VALUES FROM THE NULL FA\n",
    "\n",
    "# Why is there inf values when the allele frequencies are finite?\n",
    "\n",
    "# Make a copy of the list\n",
    "null_Fa_3R_int_no_inf = null_Fa_3R_int.copy().tolist()\n",
    "null_Fa_3R_4_no_inf = null_Fa_3R_4.copy().tolist()\n",
    "null_Fa_X_int_no_inf = null_Fa_X_int.copy().tolist()\n",
    "null_Fa_X_4_no_inf = null_Fa_X_4.copy().tolist()"
   ]
  },
  {
   "cell_type": "code",
   "execution_count": 11,
   "id": "cfeb9775",
   "metadata": {},
   "outputs": [],
   "source": [
    "# Remove inf from the copied lists\n",
    "\n",
    "null_Fa_3R_int_no_inf = [value for value in null_Fa_3R_int_no_inf if value != np.inf]\n",
    "null_Fa_3R_4_no_inf = [value for value in null_Fa_3R_4_no_inf if value != np.inf]\n",
    "null_Fa_X_int_no_inf = [value for value in null_Fa_X_int_no_inf if value != np.inf]\n",
    "null_Fa_X_4_no_inf = [value for value in null_Fa_X_4_no_inf if value != np.inf]"
   ]
  },
  {
   "cell_type": "code",
   "execution_count": 12,
   "id": "94482739",
   "metadata": {},
   "outputs": [
    {
     "data": {
      "text/plain": [
       "0.0127749861299823"
      ]
     },
     "execution_count": 12,
     "metadata": {},
     "output_type": "execute_result"
    }
   ],
   "source": [
    "max(null_Fa_3R_int_no_inf)"
   ]
  },
  {
   "cell_type": "code",
   "execution_count": 13,
   "id": "c75b11ed",
   "metadata": {
    "scrolled": false
   },
   "outputs": [
    {
     "data": {
      "image/png": "[encoded data removed]",
      "text/plain": [
       "<Figure size 1200x800 with 4 Axes>"
      ]
     },
     "metadata": {},
     "output_type": "display_data"
    }
   ],
   "source": [
    "# OBSERVED Fa\n",
    "\n",
    "Fa_3R_4 = 0.0112449825807431  \n",
    "Fa_3R_int = 0.0112564541599081 \n",
    "Fa_X_int = 0.0118885280123931 \n",
    "Fa_X_4 = 0.0111445581858069\n",
    "\n",
    "\n",
    "# Plot the histograms\n",
    "fig, axes = plt.subplots(nrows=2, ncols=2, figsize=(12, 8))\n",
    "\n",
    "axes[0, 0].hist(null_Fa_3R_int_no_inf, bins=40, color='#66CC99', alpha=0.5)\n",
    "axes[0, 0].axvline(x=Fa_3R_int, color='red', linestyle='--', linewidth=1.5, label = \"Observed Fa\")\n",
    "axes[0, 0].set_title('Intergenic SNPs in 3R',fontsize=10)\n",
    "\n",
    "axes[0, 1].hist(null_Fa_3R_4_no_inf, bins=40, color='#006633', alpha=0.5)\n",
    "axes[0, 1].axvline(x=Fa_3R_4, color='red', linestyle='--', linewidth=1.5, label = \"Observed Fa\")\n",
    "axes[0, 1].set_title('4-CDS SNPs in 3R',fontsize=10)\n",
    "\n",
    "axes[1, 0].hist(null_Fa_X_int_no_inf, bins=40, color='#CC99FF', alpha=0.5)\n",
    "axes[1, 0].axvline(x=Fa_X_int, color='red', linestyle='--', linewidth=1.5 ,label = \"Observed Fa\")\n",
    "axes[1, 0].set_title('Intergenic SNPs in X',fontsize=10)\n",
    "\n",
    "axes[1, 1].hist(null_Fa_X_4_no_inf, bins=40, color='#660099', alpha=0.5)\n",
    "axes[1, 1].axvline(x=Fa_X_4, color='red', linestyle='--', linewidth=1.5, label = \"Observed Fa\")\n",
    "axes[1, 1].set_title('4-CDS SNPs in X',fontsize=10)\n",
    "\n",
    "\n",
    "axes[0,0].set_ylabel(\"Frequency\")\n",
    "axes[1,0].set_ylabel(\"Frequency\")\n",
    "axes[1,1].set_ylabel(\"Frequency\")\n",
    "axes[0,1].set_ylabel(\"Frequency\")\n",
    "\n",
    "axes[0,0].set_xlabel(\"Null Fa\")\n",
    "axes[1,0].set_xlabel(\"Null Fa\")\n",
    "axes[1,1].set_xlabel(\"Null Fa\")\n",
    "axes[0,1].set_xlabel(\"Null Fa\")\n",
    "\n",
    "#axes[0,0].legend()  # I think rather than legend, it migth be better to include text (vertically on line)\n",
    "#axes[0,1].legend()\n",
    "#axes[1,1].legend()\n",
    "#axes[1,0].legend()\n",
    "\n",
    "# Add text\n",
    "axes[0,0].text(0.01128, 33 , 'Observed Fa', rotation='vertical', color = \"red\")\n",
    "axes[0,1].text(0.01128, 37 , 'Observed Fa', rotation='vertical', color = \"red\")\n",
    "axes[1,0].text(0.01195, 26 , 'Observed Fa', rotation='vertical', color = \"red\")\n",
    "axes[1,1].text(0.0112, 39 , 'Observed Fa', rotation='vertical', color = \"red\")\n",
    "\n",
    "plt.tight_layout()\n",
    "\n",
    "# Save the figure as png\n",
    "#plt.savefig('randomisation_F_10.png')\n",
    "\n",
    "plt.show()"
   ]
  },
  {
   "attachments": {
    "image.png": {
     "image/png": "[encoded data removed]"
    }
   },
   "cell_type": "markdown",
   "id": "9192c97a",
   "metadata": {},
   "source": [
    "Equation to calculate Ne using F-statistic:\n",
    "\n",
    "![image.png](attachment:image.png)"
   ]
  },
  {
   "cell_type": "code",
   "execution_count": 40,
   "id": "e3864b54",
   "metadata": {},
   "outputs": [
    {
     "name": "stdout",
     "output_type": "stream",
     "text": [
      "3R_int: -0.000401\n",
      "3R_4: -0.000412\n",
      "X_int: 0.000232\n",
      "X_4: -0.000512\n"
     ]
    }
   ],
   "source": [
    "# CALCULATE Fa AFTER REMOVING SAMPLING ERROR FOR EACH\n",
    "\n",
    "sampling_error_3R_int = Fa_3R_int - (1/(2*73)) - ((1/(2*104)))\n",
    "sampling_error_3R_4 = Fa_3R_4 - (1/(2*73)) - ((1/(2*104)))\n",
    "sampling_error_X_int = Fa_X_int - (1/(2*73)) - ((1/(2*104)))\n",
    "sampling_error_X_4 = Fa_X_4 - (1/(2*73)) - ((1/(2*104)))\n",
    "\n",
    "print(\"3R_int:\", format(sampling_error_3R_int, '.6f'))\n",
    "print(\"3R_4:\", format(sampling_error_3R_4, '.6f'))\n",
    "print(\"X_int:\", format(sampling_error_X_int, '.6f'))\n",
    "print(\"X_4:\", format(sampling_error_X_4, '.6f'))"
   ]
  },
  {
   "cell_type": "code",
   "execution_count": 36,
   "id": "60fbcd98",
   "metadata": {},
   "outputs": [
    {
     "name": "stdout",
     "output_type": "stream",
     "text": [
      "43192.69402417944\n"
     ]
    }
   ],
   "source": [
    "# CALCULATE NE\n",
    "# t: 2 years apart (assumed to correspond to t= 20 generations). - Hui et al., 2022\n",
    "\n",
    "print(20/(2*sampling_error_X_int))  # 43192.69402417944\n"
   ]
  },
  {
   "cell_type": "markdown",
   "id": "4b48db6c",
   "metadata": {},
   "source": [
    "### 5.Confidence interval"
   ]
  },
  {
   "cell_type": "markdown",
   "id": "f0e1cb9d",
   "metadata": {},
   "source": [
    "NOTE: The code for the CI was not written by me but by my supervisor Tin-Yu Hui. It can be found in FYP - (3.2) CI_F (with Fa)."
   ]
  },
  {
   "cell_type": "markdown",
   "id": "18e6d942",
   "metadata": {},
   "source": [
    "Fa:\n",
    "- X_4: 0.0111445581858069\n",
    "- X_int: 0.0118885280123931 (positive Fa after sampling! But, within the distribution?)\n",
    "- 3R_int: 0.0112564541599081 (Fa outside of null_Fa distribution and has inf values in null_Fa)\n",
    "- 3R_4: 0.0112449825807431"
   ]
  },
  {
   "cell_type": "code",
   "execution_count": 37,
   "id": "fe866e3d",
   "metadata": {},
   "outputs": [
    {
     "name": "stdout",
     "output_type": "stream",
     "text": [
      "X_4: 0.011145\n",
      "X_int: 0.011889\n",
      "3R_int: 0.011256\n",
      "3R_4: 0.011245\n"
     ]
    }
   ],
   "source": [
    "# Raw Fa\n",
    "print(\"X_4:\", format(0.0111445581858069, '.6f'))\n",
    "print(\"X_int:\", format(0.0118885280123931 , '.6f'))\n",
    "print(\"3R_int:\", format(0.0112564541599081 , '.6f'))\n",
    "print(\"3R_4:\", format(0.0112449825807431 , '.6f'))"
   ]
  },
  {
   "cell_type": "code",
   "execution_count": 43,
   "id": "e78cf1e5",
   "metadata": {},
   "outputs": [
    {
     "name": "stdout",
     "output_type": "stream",
     "text": [
      "X_4: -0.000512\n",
      "X_int: 0.000232\n",
      "3R_int: -0.000401\n",
      "3R_4: -0.000412\n"
     ]
    }
   ],
   "source": [
    "# Fa after sampling error\n",
    "print(\"X_4:\", format(sampling_error_X_4, '.6f'))\n",
    "print(\"X_int:\", format(sampling_error_X_int, '.6f'))\n",
    "print(\"3R_int:\", format(sampling_error_3R_int, '.6f'))\n",
    "print(\"3R_4:\", format(sampling_error_3R_4, '.6f'))"
   ]
  },
  {
   "cell_type": "code",
   "execution_count": 44,
   "id": "a5039b75",
   "metadata": {},
   "outputs": [
    {
     "name": "stdout",
     "output_type": "stream",
     "text": [
      "3.9.13\n"
     ]
    }
   ],
   "source": [
    "from platform import python_version\n",
    "\n",
    "print(python_version())\n",
    "\n",
    "# 3.9.13"
   ]
  }
 ],
 "metadata": {
  "kernelspec": {
   "display_name": "Python 3 (ipykernel)",
   "language": "python",
   "name": "python3"
  },
  "language_info": {
   "codemirror_mode": {
    "name": "ipython",
    "version": 3
   },
   "file_extension": ".py",
   "mimetype": "text/x-python",
   "name": "python",
   "nbconvert_exporter": "python",
   "pygments_lexer": "ipython3",
   "version": "3.9.13"
  }
 },
 "nbformat": 4,
 "nbformat_minor": 5
}
