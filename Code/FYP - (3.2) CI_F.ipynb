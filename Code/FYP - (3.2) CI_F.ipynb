{
 "cells": [
  {
   "cell_type": "markdown",
   "id": "817f364b",
   "metadata": {},
   "source": [
    "Same as the randomisation notebook. "
   ]
  },
  {
   "cell_type": "code",
   "execution_count": 1,
   "id": "23849047",
   "metadata": {},
   "outputs": [
    {
     "name": "stderr",
     "output_type": "stream",
     "text": [
      "Loading required package: compiler\n",
      "Loading required package: hdf5r\n",
      "Warning message:\n",
      "\"package 'hdf5r' was built under R version 3.6.3\""
     ]
    }
   ],
   "source": [
    "require(compiler)\n",
    "require(hdf5r)"
   ]
  },
  {
   "cell_type": "code",
   "execution_count": 2,
   "id": "1b1738bc",
   "metadata": {},
   "outputs": [],
   "source": [
    "# LOAD THE FIRST POPULATION. 2013 HDF5\n",
    "dat1<-H5File$new('2013_X_int_10.hdf5', 'r')\n",
    "# LOAD THE SECOND POPULATION. 2015 HDF5\n",
    "dat2<-H5File$new('2015_X_int_10.hdf5', 'r')\n",
    "# maf>=0.1 FOR THE FIRST TEMPORAL SAMPLE, NO REQUIREMENT FOR THE SECOND"
   ]
  },
  {
   "cell_type": "code",
   "execution_count": 3,
   "id": "65ee4c79",
   "metadata": {},
   "outputs": [
    {
     "data": {
      "text/plain": [
       "Class: H5File\n",
       "Filename: C:\\Users\\isabe\\OneDrive - Imperial College London\\Final Year Project\\2013_X_int_10.hdf5\n",
       "Access type: H5F_ACC_RDONLY\n",
       "Listing:\n",
       "     name    obj_type  dataset.dims dataset.type_class\n",
       "      POS H5I_DATASET          4677        H5T_INTEGER\n",
       " genotype H5I_DATASET 2 x 73 x 4677        H5T_INTEGER"
      ]
     },
     "metadata": {},
     "output_type": "display_data"
    },
    {
     "data": {
      "text/plain": [
       "Class: H5File\n",
       "Filename: C:\\Users\\isabe\\OneDrive - Imperial College London\\Final Year Project\\2015_X_int_10.hdf5\n",
       "Access type: H5F_ACC_RDONLY\n",
       "Listing:\n",
       "     name    obj_type   dataset.dims dataset.type_class\n",
       "      POS H5I_DATASET           4677        H5T_INTEGER\n",
       " genotype H5I_DATASET 2 x 104 x 4677        H5T_INTEGER"
      ]
     },
     "metadata": {},
     "output_type": "display_data"
    }
   ],
   "source": [
    "dat1\n",
    "dat2"
   ]
  },
  {
   "cell_type": "code",
   "execution_count": 4,
   "id": "ff810099",
   "metadata": {},
   "outputs": [
    {
     "data": {
      "text/html": [
       "<ol class=list-inline>\n",
       "\t<li>2</li>\n",
       "\t<li>73</li>\n",
       "\t<li>4677</li>\n",
       "</ol>\n"
      ],
      "text/latex": [
       "\\begin{enumerate*}\n",
       "\\item 2\n",
       "\\item 73\n",
       "\\item 4677\n",
       "\\end{enumerate*}\n"
      ],
      "text/markdown": [
       "1. 2\n",
       "2. 73\n",
       "3. 4677\n",
       "\n",
       "\n"
      ],
      "text/plain": [
       "[1]    2   73 4677"
      ]
     },
     "metadata": {},
     "output_type": "display_data"
    },
    {
     "data": {
      "text/html": [
       "<ol class=list-inline>\n",
       "\t<li>0</li>\n",
       "\t<li>1</li>\n",
       "\t<li>2</li>\n",
       "\t<li>3</li>\n",
       "</ol>\n"
      ],
      "text/latex": [
       "\\begin{enumerate*}\n",
       "\\item 0\n",
       "\\item 1\n",
       "\\item 2\n",
       "\\item 3\n",
       "\\end{enumerate*}\n"
      ],
      "text/markdown": [
       "1. 0\n",
       "2. 1\n",
       "3. 2\n",
       "4. 3\n",
       "\n",
       "\n"
      ],
      "text/plain": [
       "[1] 0 1 2 3"
      ]
     },
     "metadata": {},
     "output_type": "display_data"
    },
    {
     "data": {
      "text/html": [
       "<ol class=list-inline>\n",
       "\t<li>2</li>\n",
       "\t<li>104</li>\n",
       "\t<li>4677</li>\n",
       "</ol>\n"
      ],
      "text/latex": [
       "\\begin{enumerate*}\n",
       "\\item 2\n",
       "\\item 104\n",
       "\\item 4677\n",
       "\\end{enumerate*}\n"
      ],
      "text/markdown": [
       "1. 2\n",
       "2. 104\n",
       "3. 4677\n",
       "\n",
       "\n"
      ],
      "text/plain": [
       "[1]    2  104 4677"
      ]
     },
     "metadata": {},
     "output_type": "display_data"
    },
    {
     "data": {
      "text/html": [
       "<ol class=list-inline>\n",
       "\t<li>0</li>\n",
       "\t<li>1</li>\n",
       "\t<li>2</li>\n",
       "\t<li>3</li>\n",
       "</ol>\n"
      ],
      "text/latex": [
       "\\begin{enumerate*}\n",
       "\\item 0\n",
       "\\item 1\n",
       "\\item 2\n",
       "\\item 3\n",
       "\\end{enumerate*}\n"
      ],
      "text/markdown": [
       "1. 0\n",
       "2. 1\n",
       "3. 2\n",
       "4. 3\n",
       "\n",
       "\n"
      ],
      "text/plain": [
       "[1] 0 1 2 3"
      ]
     },
     "metadata": {},
     "output_type": "display_data"
    }
   ],
   "source": [
    "# READ genotype AS R ARRAY, 3D\n",
    "genotype1<-dat1[['genotype']][,,]\n",
    "dim(genotype1)\n",
    "unique(as.numeric(genotype1))\n",
    "# DO THE SAME FOR 2015 HDF5\n",
    "genotype2<-dat2[['genotype']][,,]\n",
    "dim(genotype2)\n",
    "unique(as.numeric(genotype2))"
   ]
  },
  {
   "cell_type": "code",
   "execution_count": 5,
   "id": "b37f37c4",
   "metadata": {},
   "outputs": [],
   "source": [
    "POS<-dat1[['POS']][]"
   ]
  },
  {
   "cell_type": "code",
   "execution_count": 6,
   "id": "1cdb54f8",
   "metadata": {},
   "outputs": [],
   "source": [
    "# FUNCTION TO RETURN THE FOUR ALLELE COUNTS. PER LOCUS\n",
    "allele.count<-function(GT)\n",
    "{\n",
    "    a1<-GT[1,]\n",
    "    a2<-GT[2,]\n",
    "    a<-c(a1, a2)\n",
    "    return(c(sum(a=='0'), sum(a=='1'), sum(a=='2'), sum(a=='3')))\n",
    "}\n",
    "\n",
    "# FUNCTION TO RETURN NUMBER OF ALLELES. PER LOCUS\n",
    "allelism<-function(allele_count)\n",
    "{\n",
    "    return(sum(allele_count>0))\n",
    "}\n",
    "\n",
    "# FUNCTION TO CONVERT COUNT TO FREQUENCY, PER LOCUS\n",
    "allele.frequency<-function(allele_count)\n",
    "{\n",
    "    y<-allele_count[1]+allele_count[2]+allele_count[3]+allele_count[4]\n",
    "    return(allele_count/y)\n",
    "}\n",
    "\n",
    "# FUNCTION TO RETURN WHICH LARGEST FREQ? PER LOCUS\n",
    "# 1 RETURN THE LARGEST, 2 RETURN MAF, ETC\n",
    "cal.frequency<-function(allele_frequency, which=1)\n",
    "{\n",
    "    return(allele_frequency[order(allele_frequency, decreasing=T)[which]])\n",
    "}\n",
    "\n",
    "# FUNCTION TO RETURN THE WHICH LARGEST ALLELE (0, 1, 2, 3?) PER LOCUS\n",
    "# 1 RETURN THE LARGEST\n",
    "find.allele<-function(allele_count, which=1)\n",
    "{\n",
    "    return(order(allele_count, decreasing=T)[which]-1)\n",
    "}\n",
    "\n",
    "# FUNCTION TO CONVERT MULTIALLELIC LOCI INTO BIALLELIC (GROUP REMAINING THREE AS ALT)\n",
    "# RETURN NUMERIC. 0 (REF HOMOZYGOTE), 1 (HETEROZYGOTE), 2, MISSING IS NA\n",
    "to.biallelic<-function(GT, ref='0')\n",
    "{\n",
    "    a1<-GT[1,]\n",
    "    a2<-GT[2,]\n",
    "    b1<-1-(a1==ref)\n",
    "    b2<-1-(a2==ref)\n",
    "    return(b1+b2)\n",
    "}"
   ]
  },
  {
   "cell_type": "code",
   "execution_count": 7,
   "id": "f6b95f5c",
   "metadata": {},
   "outputs": [
    {
     "data": {
      "text/html": [
       "<ol class=list-inline>\n",
       "\t<li>4677</li>\n",
       "\t<li>4</li>\n",
       "</ol>\n"
      ],
      "text/latex": [
       "\\begin{enumerate*}\n",
       "\\item 4677\n",
       "\\item 4\n",
       "\\end{enumerate*}\n"
      ],
      "text/markdown": [
       "1. 4677\n",
       "2. 4\n",
       "\n",
       "\n"
      ],
      "text/plain": [
       "[1] 4677    4"
      ]
     },
     "metadata": {},
     "output_type": "display_data"
    },
    {
     "data": {
      "text/html": [
       "<ol class=list-inline>\n",
       "\t<li>32</li>\n",
       "\t<li>114</li>\n",
       "\t<li>0</li>\n",
       "\t<li>0</li>\n",
       "</ol>\n"
      ],
      "text/latex": [
       "\\begin{enumerate*}\n",
       "\\item 32\n",
       "\\item 114\n",
       "\\item 0\n",
       "\\item 0\n",
       "\\end{enumerate*}\n"
      ],
      "text/markdown": [
       "1. 32\n",
       "2. 114\n",
       "3. 0\n",
       "4. 0\n",
       "\n",
       "\n"
      ],
      "text/plain": [
       "[1]  32 114   0   0"
      ]
     },
     "metadata": {},
     "output_type": "display_data"
    },
    {
     "data": {
      "text/html": [
       "<ol class=list-inline>\n",
       "\t<li>4677</li>\n",
       "\t<li>4</li>\n",
       "</ol>\n"
      ],
      "text/latex": [
       "\\begin{enumerate*}\n",
       "\\item 4677\n",
       "\\item 4\n",
       "\\end{enumerate*}\n"
      ],
      "text/markdown": [
       "1. 4677\n",
       "2. 4\n",
       "\n",
       "\n"
      ],
      "text/plain": [
       "[1] 4677    4"
      ]
     },
     "metadata": {},
     "output_type": "display_data"
    },
    {
     "data": {
      "text/html": [
       "<ol class=list-inline>\n",
       "\t<li>0.219178082191781</li>\n",
       "\t<li>0.780821917808219</li>\n",
       "\t<li>0</li>\n",
       "\t<li>0</li>\n",
       "</ol>\n"
      ],
      "text/latex": [
       "\\begin{enumerate*}\n",
       "\\item 0.219178082191781\n",
       "\\item 0.780821917808219\n",
       "\\item 0\n",
       "\\item 0\n",
       "\\end{enumerate*}\n"
      ],
      "text/markdown": [
       "1. 0.219178082191781\n",
       "2. 0.780821917808219\n",
       "3. 0\n",
       "4. 0\n",
       "\n",
       "\n"
      ],
      "text/plain": [
       "[1] 0.2191781 0.7808219 0.0000000 0.0000000"
      ]
     },
     "metadata": {},
     "output_type": "display_data"
    },
    {
     "data": {
      "text/html": [
       "4677"
      ],
      "text/latex": [
       "4677"
      ],
      "text/markdown": [
       "4677"
      ],
      "text/plain": [
       "[1] 4677"
      ]
     },
     "metadata": {},
     "output_type": "display_data"
    }
   ],
   "source": [
    "# FIND ALLELE COUNT\n",
    "allele_count1<-t(apply(genotype1, 3, allele.count))\n",
    "dim(allele_count1)\n",
    "allele_count1[1,]\n",
    "# TO ALLELE FREQ\n",
    "af1<-t(apply(allele_count1, 1, allele.frequency))\n",
    "dim(af1)\n",
    "af1[1,]\n",
    "# FIND MAJOR ALeLE FREQ AND ITS SUMMARY\n",
    "major_f1<-apply(af1, 1, cal.frequency, which=1)\n",
    "length(major_f1)\n",
    "# FIND THE MAJOR ALLELE \n",
    "major_allele1<-apply(allele_count1, 1, find.allele, which=1)"
   ]
  },
  {
   "cell_type": "code",
   "execution_count": 8,
   "id": "cb96a2da",
   "metadata": {},
   "outputs": [
    {
     "data": {
      "text/html": [
       "<ol class=list-inline>\n",
       "\t<li>4677</li>\n",
       "\t<li>73</li>\n",
       "</ol>\n"
      ],
      "text/latex": [
       "\\begin{enumerate*}\n",
       "\\item 4677\n",
       "\\item 73\n",
       "\\end{enumerate*}\n"
      ],
      "text/markdown": [
       "1. 4677\n",
       "2. 73\n",
       "\n",
       "\n"
      ],
      "text/plain": [
       "[1] 4677   73"
      ]
     },
     "metadata": {},
     "output_type": "display_data"
    },
    {
     "data": {
      "text/html": [
       "<ol class=list-inline>\n",
       "\t<li>4677</li>\n",
       "\t<li>104</li>\n",
       "</ol>\n"
      ],
      "text/latex": [
       "\\begin{enumerate*}\n",
       "\\item 4677\n",
       "\\item 104\n",
       "\\end{enumerate*}\n"
      ],
      "text/markdown": [
       "1. 4677\n",
       "2. 104\n",
       "\n",
       "\n"
      ],
      "text/plain": [
       "[1] 4677  104"
      ]
     },
     "metadata": {},
     "output_type": "display_data"
    },
    {
     "data": {
      "text/html": [
       "<ol class=list-inline>\n",
       "\t<li>1</li>\n",
       "\t<li>0</li>\n",
       "\t<li>2</li>\n",
       "</ol>\n"
      ],
      "text/latex": [
       "\\begin{enumerate*}\n",
       "\\item 1\n",
       "\\item 0\n",
       "\\item 2\n",
       "\\end{enumerate*}\n"
      ],
      "text/markdown": [
       "1. 1\n",
       "2. 0\n",
       "3. 2\n",
       "\n",
       "\n"
      ],
      "text/plain": [
       "[1] 1 0 2"
      ]
     },
     "metadata": {},
     "output_type": "display_data"
    },
    {
     "data": {
      "text/html": [
       "<ol class=list-inline>\n",
       "\t<li>1</li>\n",
       "\t<li>0</li>\n",
       "\t<li>2</li>\n",
       "</ol>\n"
      ],
      "text/latex": [
       "\\begin{enumerate*}\n",
       "\\item 1\n",
       "\\item 0\n",
       "\\item 2\n",
       "\\end{enumerate*}\n"
      ],
      "text/markdown": [
       "1. 1\n",
       "2. 0\n",
       "3. 2\n",
       "\n",
       "\n"
      ],
      "text/plain": [
       "[1] 1 0 2"
      ]
     },
     "metadata": {},
     "output_type": "display_data"
    }
   ],
   "source": [
    "# CONVERT TO GENOTYPE MATRIX (WITH 0, 1, 2 ONLY, 0 IS THE MAJOR ALLELE)\n",
    "g1<-matrix(nc=dim(genotype1)[2], nr=dim(genotype1)[3])\n",
    "g2<-matrix(nc=dim(genotype2)[2], nr=dim(genotype2)[3])\n",
    "for (i in 1:nrow(g1))\n",
    "{\n",
    "    g1[i,]<-to.biallelic(genotype1[,,i], ref=major_allele1[i])\n",
    "    g2[i,]<-to.biallelic(genotype2[,,i], ref=major_allele1[i])\n",
    "}\n",
    "dim(g1)\n",
    "dim(g2)\n",
    "unique(as.numeric(g1))\n",
    "unique(as.numeric(g2))"
   ]
  },
  {
   "cell_type": "code",
   "execution_count": 9,
   "id": "9e35a479",
   "metadata": {},
   "outputs": [
    {
     "data": {
      "text/html": [
       "73"
      ],
      "text/latex": [
       "73"
      ],
      "text/markdown": [
       "73"
      ],
      "text/plain": [
       "[1] 73"
      ]
     },
     "metadata": {},
     "output_type": "display_data"
    },
    {
     "data": {
      "text/html": [
       "104"
      ],
      "text/latex": [
       "104"
      ],
      "text/markdown": [
       "104"
      ],
      "text/plain": [
       "[1] 104"
      ]
     },
     "metadata": {},
     "output_type": "display_data"
    },
    {
     "data": {
      "text/html": [
       "4677"
      ],
      "text/latex": [
       "4677"
      ],
      "text/markdown": [
       "4677"
      ],
      "text/plain": [
       "[1] 4677"
      ]
     },
     "metadata": {},
     "output_type": "display_data"
    }
   ],
   "source": [
    "# THE TWO SAMPLE SIZES\n",
    "s1<-ncol(g1)\n",
    "s2<-ncol(g2)\n",
    "s1\n",
    "s2\n",
    "# NUMBER OF LOCI \n",
    "K<-nrow(g1)\n",
    "K"
   ]
  },
  {
   "cell_type": "code",
   "execution_count": 10,
   "id": "72712a73",
   "metadata": {},
   "outputs": [
    {
     "data": {
      "text/html": [
       "0.0119131998627848"
      ],
      "text/latex": [
       "0.0119131998627848"
      ],
      "text/markdown": [
       "0.0119131998627848"
      ],
      "text/plain": [
       "[1] 0.0119132"
      ]
     },
     "metadata": {},
     "output_type": "display_data"
    },
    {
     "data": {
      "text/html": [
       "0.0116570073761855"
      ],
      "text/latex": [
       "0.0116570073761855"
      ],
      "text/markdown": [
       "0.0116570073761855"
      ],
      "text/plain": [
       "[1] 0.01165701"
      ]
     },
     "metadata": {},
     "output_type": "display_data"
    },
    {
     "data": {
      "text/html": [
       "0.000256192486599372"
      ],
      "text/latex": [
       "0.000256192486599372"
      ],
      "text/markdown": [
       "0.000256192486599372"
      ],
      "text/plain": [
       "[1] 0.0002561925"
      ]
     },
     "metadata": {},
     "output_type": "display_data"
    }
   ],
   "source": [
    "# RECALCULATE THE TWO ALLELE FREQ AGAIN\n",
    "f1<-apply(g1, 1, sum)/(2*s1)\n",
    "f2<-apply(g2, 1, sum)/(2*s2)\n",
    "\n",
    "# TEMPORAL F (WHICH VERSION?)\n",
    "F<-mean((f1-f2)^2)/mean(f1*(1-f1))\n",
    "F\n",
    "\n",
    "# SIZE OF SAMPLING ERROR \n",
    "0.5/s1+0.5/s2\n",
    "\n",
    "# MINUS SAMPLING ERROR\n",
    "F-0.5/s1-0.5/s2"
   ]
  },
  {
   "cell_type": "code",
   "execution_count": 11,
   "id": "19bf285c",
   "metadata": {},
   "outputs": [
    {
     "data": {
      "text/html": [
       "39033.1509434067"
      ],
      "text/latex": [
       "39033.1509434067"
      ],
      "text/markdown": [
       "39033.1509434067"
      ],
      "text/plain": [
       "[1] 39033.15"
      ]
     },
     "metadata": {},
     "output_type": "display_data"
    }
   ],
   "source": [
    "# Ne ESTIMATE, 20 GENERATIONS APART?\n",
    "t<-20\n",
    "N<-t/(2*(F-0.5/s1-0.5/s2))\n",
    "N"
   ]
  },
  {
   "cell_type": "code",
   "execution_count": 12,
   "id": "f8e014c6",
   "metadata": {},
   "outputs": [
    {
     "name": "stdout",
     "output_type": "stream",
     "text": [
      "Using 40 cores. \n"
     ]
    },
    {
     "data": {
      "text/html": [
       "<table>\n",
       "<thead><tr><th></th><th scope=col>used</th><th scope=col>(Mb)</th><th scope=col>gc trigger</th><th scope=col>(Mb)</th><th scope=col>max used</th><th scope=col>(Mb)</th></tr></thead>\n",
       "<tbody>\n",
       "\t<tr><th scope=row>Ncells</th><td>  716063 </td><td> 38.3    </td><td>  1358172</td><td> 72.6    </td><td>  1098477</td><td>  58.7   </td></tr>\n",
       "\t<tr><th scope=row>Vcells</th><td>24717699 </td><td>188.6    </td><td>109396317</td><td>834.7    </td><td>134292537</td><td>1024.6   </td></tr>\n",
       "</tbody>\n",
       "</table>\n"
      ],
      "text/latex": [
       "\\begin{tabular}{r|llllll}\n",
       "  & used & (Mb) & gc trigger & (Mb) & max used & (Mb)\\\\\n",
       "\\hline\n",
       "\tNcells &   716063  &  38.3     &   1358172 &  72.6     &   1098477 &   58.7   \\\\\n",
       "\tVcells & 24717699  & 188.6     & 109396317 & 834.7     & 134292537 & 1024.6   \\\\\n",
       "\\end{tabular}\n"
      ],
      "text/markdown": [
       "\n",
       "| <!--/--> | used | (Mb) | gc trigger | (Mb) | max used | (Mb) |\n",
       "|---|---|---|---|---|---|---|\n",
       "| Ncells |   716063  |  38.3     |   1358172 |  72.6     |   1098477 |   58.7    |\n",
       "| Vcells | 24717699  | 188.6     | 109396317 | 834.7     | 134292537 | 1024.6    |\n",
       "\n"
      ],
      "text/plain": [
       "       used     (Mb)  gc trigger (Mb)  max used  (Mb)  \n",
       "Ncells   716063  38.3   1358172   72.6   1098477   58.7\n",
       "Vcells 24717699 188.6 109396317  834.7 134292537 1024.6"
      ]
     },
     "metadata": {},
     "output_type": "display_data"
    }
   ],
   "source": [
    "# EXPLICITLY TELL R THAT g1 IS A MATRIX OF INTEGERS\n",
    "mode(g1)<-'integer'\n",
    "# CALCULATE R MATRIX AND EIGENVALUES FOR Fa\n",
    "# ONLY CHANGE THE 39033 TO YOUR Ne ESTIMATE. IF THE ESTIMATE IS NEGATIVE, JUST SAY 1e6 (ONE MILLION)\n",
    "dyn.load('../cpp/r_matrix.dll')\n",
    "R <- .Call('cal_corr_matrix_unphased', t(g1), as.integer(POS), 0.016, \n",
    "           as.integer(39033), \n",
    "           as.integer(s1), as.integer(s2), as.integer(t), 4)\n",
    "dyn.unload('../cpp/r_matrix.dll')\n",
    "e <- eigen(R, only.values=TRUE)\n",
    "gc()"
   ]
  },
  {
   "cell_type": "code",
   "execution_count": 13,
   "id": "fa77e3f9",
   "metadata": {},
   "outputs": [],
   "source": [
    "# C.I. WITH Fa\n",
    "gen_Q2 <- function(eigenvalues)\n",
    "{\n",
    "  working_eigenvalues <- eigenvalues[eigenvalues>0]\n",
    "  working_eigenvalues <- working_eigenvalues*sum(eigenvalues)/sum(working_eigenvalues)\n",
    "  dyn.load('../cpp/r_matrix.dll')\n",
    "  y <- .Call('generate_Q2', working_eigenvalues, 50000)\n",
    "  dyn.unload('../cpp/r_matrix.dll')\n",
    "  return(y)\n",
    "}\n",
    "# EMPIRICAL Q2 DISTRIBUTION. YOU WILL GET A SLIGHTLY DIFFERENT Q2 BECAUSE OF RANDOMNESS\n",
    "Q2<-gen_Q2(e$values)"
   ]
  },
  {
   "cell_type": "code",
   "execution_count": 14,
   "id": "1f798bfc",
   "metadata": {},
   "outputs": [
    {
     "data": {
      "image/png": "[encoded data removed]",
      "text/plain": [
       "Plot with title \"Histogram of Q2\""
      ]
     },
     "metadata": {},
     "output_type": "display_data"
    }
   ],
   "source": [
    "hist(Q2)"
   ]
  },
  {
   "cell_type": "code",
   "execution_count": 15,
   "id": "27e3999f",
   "metadata": {},
   "outputs": [
    {
     "data": {
      "text/html": [
       "<dl class=dl-horizontal>\n",
       "\t<dt>97.5%</dt>\n",
       "\t\t<dd>0.0106395853098717</dd>\n",
       "\t<dt>2</dt>\n",
       "\t\t<dd>0.0119131998627848</dd>\n",
       "\t<dt>2.5%</dt>\n",
       "\t\t<dd>0.0132672782348134</dd>\n",
       "</dl>\n"
      ],
      "text/latex": [
       "\\begin{description*}\n",
       "\\item[97.5\\textbackslash{}\\%] 0.0106395853098717\n",
       "\\item[2] 0.0119131998627848\n",
       "\\item[2.5\\textbackslash{}\\%] 0.0132672782348134\n",
       "\\end{description*}\n"
      ],
      "text/markdown": [
       "97.5%\n",
       ":   0.01063958530987172\n",
       ":   0.01191319986278482.5%\n",
       ":   0.0132672782348134\n",
       "\n"
      ],
      "text/plain": [
       "     97.5%                  2.5% \n",
       "0.01063959 0.01191320 0.01326728 "
      ]
     },
     "metadata": {},
     "output_type": "display_data"
    }
   ],
   "source": [
    "# LOWER CI FOR F\n",
    "F_lower<-K*F/quantile(Q2, 0.975)\n",
    "# UPPER CI FOR F\n",
    "F_upper<-K*F/quantile(Q2, 0.025)\n",
    "c(F_lower, F, F_upper)"
   ]
  },
  {
   "cell_type": "code",
   "execution_count": 17,
   "id": "e1a923c3",
   "metadata": {},
   "outputs": [
    {
     "data": {
      "text/html": [
       "<strong>2.5%:</strong> 6210.13536102922"
      ],
      "text/latex": [
       "\\textbf{2.5\\textbackslash{}\\%:} 6210.13536102922"
      ],
      "text/markdown": [
       "**2.5%:** 6210.13536102922"
      ],
      "text/plain": [
       "    2.5% \n",
       "6210.135 "
      ]
     },
     "metadata": {},
     "output_type": "display_data"
    },
    {
     "data": {
      "text/html": [
       "<strong>97.5%:</strong> -9828.76264540926"
      ],
      "text/latex": [
       "\\textbf{97.5\\textbackslash{}\\%:} -9828.76264540926"
      ],
      "text/markdown": [
       "**97.5%:** -9828.76264540926"
      ],
      "text/plain": [
       "    97.5% \n",
       "-9828.763 "
      ]
     },
     "metadata": {},
     "output_type": "display_data"
    }
   ],
   "source": [
    "# LOWER CI FOR Ne, FROM THE UPPER CI F\n",
    "N_lower<-t/(2*(F_upper-0.5/s1-0.5/s2))\n",
    "N_lower\n",
    "\n",
    "N_upper<-t/(2*(F_lower-0.5/s1-0.5/s2))\n",
    "N_upper"
   ]
  },
  {
   "cell_type": "code",
   "execution_count": 18,
   "id": "9287b836",
   "metadata": {},
   "outputs": [
    {
     "data": {
      "image/png": "[encoded data removed]",
      "text/plain": [
       "Plot with title \"Histogram of rchisq(50000, df = K)\""
      ]
     },
     "metadata": {},
     "output_type": "display_data"
    }
   ],
   "source": [
    "# COMPARISON, CHI-SQUARE WITH K DEGREES OF FREEDOM\n",
    "# IT IS MUCH NARROWER THAN THE ONE ABOVE\n",
    "hist(rchisq(50000, df=K))"
   ]
  },
  {
   "cell_type": "code",
   "execution_count": null,
   "id": "10b84685",
   "metadata": {},
   "outputs": [],
   "source": []
  }
 ],
 "metadata": {
  "kernelspec": {
   "display_name": "R",
   "language": "R",
   "name": "ir"
  },
  "language_info": {
   "codemirror_mode": "r",
   "file_extension": ".r",
   "mimetype": "text/x-r-source",
   "name": "R",
   "pygments_lexer": "r",
   "version": "3.6.1"
  }
 },
 "nbformat": 4,
 "nbformat_minor": 5
}
