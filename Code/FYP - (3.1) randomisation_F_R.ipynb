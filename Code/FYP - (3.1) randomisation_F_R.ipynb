{
 "cells": [
  {
   "cell_type": "markdown",
   "metadata": {},
   "source": [
    "### Conducting the randomisation test from FYP - (3) Drift\n",
    "\n",
    "NOTE: The code below was not written by me but by my supervisor Tin-Yu Hui."
   ]
  },
  {
   "cell_type": "code",
   "execution_count": 1,
   "id": "a2519a36",
   "metadata": {
    "vscode": {
     "languageId": "r"
    }
   },
   "outputs": [
    {
     "name": "stderr",
     "output_type": "stream",
     "text": [
      "Loading required package: hdf5r\n",
      "Warning message:\n",
      "\"package 'hdf5r' was built under R version 3.6.3\"Loading required package: compiler\n"
     ]
    }
   ],
   "source": [
    "#install.packages(\"hdf5r\")\n",
    "require(hdf5r)\n",
    "require(compiler)"
   ]
  },
  {
   "cell_type": "markdown",
   "id": "e5bbea87",
   "metadata": {},
   "source": [
    "#### Randomisation F\n",
    "\n",
    "\n",
    "#### Change only the tab below"
   ]
  },
  {
   "cell_type": "code",
   "execution_count": 14,
   "id": "f1f8e4b2",
   "metadata": {
    "vscode": {
     "languageId": "r"
    }
   },
   "outputs": [],
   "source": [
    "# LOAD THE FIRST POPULATION. 2013 HDF5\n",
    "dat1<-H5File$new('2013_X_int_10.hdf5', 'r')\n",
    "# LOAD THE SECOND POPULATION. 2015 HDF5\n",
    "dat2<-H5File$new('2015_X_int_10.hdf5', 'r')"
   ]
  },
  {
   "cell_type": "markdown",
   "id": "05d3a5ba",
   "metadata": {},
   "source": [
    "#### Do not change anything below"
   ]
  },
  {
   "cell_type": "code",
   "execution_count": 15,
   "id": "12a12161",
   "metadata": {
    "vscode": {
     "languageId": "r"
    }
   },
   "outputs": [
    {
     "data": {
      "text/plain": [
       "Class: H5File\n",
       "Filename: C:\\Users\\isabe\\OneDrive - Imperial College London\\Final Year Project\\2013_X_int_10.hdf5\n",
       "Access type: H5F_ACC_RDONLY\n",
       "Listing:\n",
       "     name    obj_type  dataset.dims dataset.type_class\n",
       "      POS H5I_DATASET          4677        H5T_INTEGER\n",
       " genotype H5I_DATASET 2 x 73 x 4677        H5T_INTEGER"
      ]
     },
     "metadata": {},
     "output_type": "display_data"
    },
    {
     "data": {
      "text/plain": [
       "Class: H5File\n",
       "Filename: C:\\Users\\isabe\\OneDrive - Imperial College London\\Final Year Project\\2015_X_int_10.hdf5\n",
       "Access type: H5F_ACC_RDONLY\n",
       "Listing:\n",
       "     name    obj_type   dataset.dims dataset.type_class\n",
       "      POS H5I_DATASET           4677        H5T_INTEGER\n",
       " genotype H5I_DATASET 2 x 104 x 4677        H5T_INTEGER"
      ]
     },
     "metadata": {},
     "output_type": "display_data"
    }
   ],
   "source": [
    "dat1\n",
    "dat2"
   ]
  },
  {
   "cell_type": "code",
   "execution_count": 16,
   "id": "22e158c2",
   "metadata": {
    "vscode": {
     "languageId": "r"
    }
   },
   "outputs": [
    {
     "data": {
      "text/html": [
       "<ol class=list-inline>\n",
       "\t<li>2</li>\n",
       "\t<li>73</li>\n",
       "\t<li>4677</li>\n",
       "</ol>\n"
      ],
      "text/latex": [
       "\\begin{enumerate*}\n",
       "\\item 2\n",
       "\\item 73\n",
       "\\item 4677\n",
       "\\end{enumerate*}\n"
      ],
      "text/markdown": [
       "1. 2\n",
       "2. 73\n",
       "3. 4677\n",
       "\n",
       "\n"
      ],
      "text/plain": [
       "[1]    2   73 4677"
      ]
     },
     "metadata": {},
     "output_type": "display_data"
    },
    {
     "data": {
      "text/html": [
       "<ol class=list-inline>\n",
       "\t<li>0</li>\n",
       "\t<li>1</li>\n",
       "\t<li>2</li>\n",
       "\t<li>3</li>\n",
       "</ol>\n"
      ],
      "text/latex": [
       "\\begin{enumerate*}\n",
       "\\item 0\n",
       "\\item 1\n",
       "\\item 2\n",
       "\\item 3\n",
       "\\end{enumerate*}\n"
      ],
      "text/markdown": [
       "1. 0\n",
       "2. 1\n",
       "3. 2\n",
       "4. 3\n",
       "\n",
       "\n"
      ],
      "text/plain": [
       "[1] 0 1 2 3"
      ]
     },
     "metadata": {},
     "output_type": "display_data"
    }
   ],
   "source": [
    "# READ genotype AS R ARRAY, 3D\n",
    "genotype1<-dat1[['genotype']][,,]\n",
    "dim(genotype1)\n",
    "unique(as.numeric(genotype1))"
   ]
  },
  {
   "cell_type": "code",
   "execution_count": 17,
   "id": "0cf8f9d4",
   "metadata": {
    "vscode": {
     "languageId": "r"
    }
   },
   "outputs": [
    {
     "data": {
      "text/html": [
       "<ol class=list-inline>\n",
       "\t<li>2</li>\n",
       "\t<li>104</li>\n",
       "\t<li>4677</li>\n",
       "</ol>\n"
      ],
      "text/latex": [
       "\\begin{enumerate*}\n",
       "\\item 2\n",
       "\\item 104\n",
       "\\item 4677\n",
       "\\end{enumerate*}\n"
      ],
      "text/markdown": [
       "1. 2\n",
       "2. 104\n",
       "3. 4677\n",
       "\n",
       "\n"
      ],
      "text/plain": [
       "[1]    2  104 4677"
      ]
     },
     "metadata": {},
     "output_type": "display_data"
    },
    {
     "data": {
      "text/html": [
       "<ol class=list-inline>\n",
       "\t<li>0</li>\n",
       "\t<li>1</li>\n",
       "\t<li>2</li>\n",
       "\t<li>3</li>\n",
       "</ol>\n"
      ],
      "text/latex": [
       "\\begin{enumerate*}\n",
       "\\item 0\n",
       "\\item 1\n",
       "\\item 2\n",
       "\\item 3\n",
       "\\end{enumerate*}\n"
      ],
      "text/markdown": [
       "1. 0\n",
       "2. 1\n",
       "3. 2\n",
       "4. 3\n",
       "\n",
       "\n"
      ],
      "text/plain": [
       "[1] 0 1 2 3"
      ]
     },
     "metadata": {},
     "output_type": "display_data"
    }
   ],
   "source": [
    "# DO THE SAME FOR 2015 HDF5\n",
    "genotype2<-dat2[['genotype']][,,]\n",
    "dim(genotype2)\n",
    "unique(as.numeric(genotype2))"
   ]
  },
  {
   "cell_type": "code",
   "execution_count": 6,
   "id": "a79ca69e",
   "metadata": {
    "vscode": {
     "languageId": "r"
    }
   },
   "outputs": [],
   "source": [
    "# FUNCTION TO RETURN THE FOUR ALLELE COUNTS. PER LOCUS\n",
    "allele.count<-function(GT)\n",
    "{\n",
    "    a1<-GT[1,]\n",
    "    a2<-GT[2,]\n",
    "    a<-c(a1, a2)\n",
    "    return(c(sum(a=='0'), sum(a=='1'), sum(a=='2'), sum(a=='3')))\n",
    "}\n",
    "\n",
    "# FUNCTION TO RETURN NUMBER OF ALLELES. PER LOCUS\n",
    "allelism<-function(allele_count)\n",
    "{\n",
    "    return(sum(allele_count>0))\n",
    "}\n",
    "\n",
    "# FUNCTION TO CONVERT COUNT TO FREQUENCY, PER LOCUS\n",
    "allele.frequency<-function(allele_count)\n",
    "{\n",
    "    y<-allele_count[1]+allele_count[2]+allele_count[3]+allele_count[4]\n",
    "    return(allele_count/y)\n",
    "}\n",
    "\n",
    "# FUNCTION TO RETURN WHICH LARGEST FREQ? PER LOCUS\n",
    "# 1 RETURN THE LARGEST, 2 RETURN MAF, ETC\n",
    "cal.frequency<-function(allele_frequency, which=1)\n",
    "{\n",
    "    return(allele_frequency[order(allele_frequency, decreasing=T)[which]])\n",
    "}\n",
    "\n",
    "# FUNCTION TO RETURN THE WHICH LARGEST ALLELE (0, 1, 2, 3?) PER LOCUS\n",
    "# 1 RETURN THE LARGEST\n",
    "find.allele<-function(allele_count, which=1)\n",
    "{\n",
    "    return(order(allele_count, decreasing=T)[which]-1)\n",
    "}\n",
    "\n",
    "# FUNCTION TO CONVERT MULTIALLELIC LOCI INTO BIALLELIC (GROUP REMAINING THREE AS ALT)\n",
    "# RETURN NUMERIC. 0 (REF HOMOZYGOTE), 1 (HETEROZYGOTE), 2, MISSING IS NA\n",
    "to.biallelic<-function(GT, ref='0')\n",
    "{\n",
    "    a1<-GT[1,]\n",
    "    a2<-GT[2,]\n",
    "    b1<-1-(a1==ref)\n",
    "    b2<-1-(a2==ref)\n",
    "    return(b1+b2)\n",
    "}"
   ]
  },
  {
   "cell_type": "code",
   "execution_count": 18,
   "id": "8bdf9d85",
   "metadata": {
    "vscode": {
     "languageId": "r"
    }
   },
   "outputs": [
    {
     "data": {
      "text/html": [
       "<ol class=list-inline>\n",
       "\t<li>4677</li>\n",
       "\t<li>4</li>\n",
       "</ol>\n"
      ],
      "text/latex": [
       "\\begin{enumerate*}\n",
       "\\item 4677\n",
       "\\item 4\n",
       "\\end{enumerate*}\n"
      ],
      "text/markdown": [
       "1. 4677\n",
       "2. 4\n",
       "\n",
       "\n"
      ],
      "text/plain": [
       "[1] 4677    4"
      ]
     },
     "metadata": {},
     "output_type": "display_data"
    },
    {
     "data": {
      "text/html": [
       "<ol class=list-inline>\n",
       "\t<li>32</li>\n",
       "\t<li>114</li>\n",
       "\t<li>0</li>\n",
       "\t<li>0</li>\n",
       "</ol>\n"
      ],
      "text/latex": [
       "\\begin{enumerate*}\n",
       "\\item 32\n",
       "\\item 114\n",
       "\\item 0\n",
       "\\item 0\n",
       "\\end{enumerate*}\n"
      ],
      "text/markdown": [
       "1. 32\n",
       "2. 114\n",
       "3. 0\n",
       "4. 0\n",
       "\n",
       "\n"
      ],
      "text/plain": [
       "[1]  32 114   0   0"
      ]
     },
     "metadata": {},
     "output_type": "display_data"
    }
   ],
   "source": [
    "# FIND ALLELE COUNT\n",
    "allele_count1<-t(apply(genotype1, 3, allele.count))\n",
    "dim(allele_count1)\n",
    "allele_count1[1,]"
   ]
  },
  {
   "cell_type": "code",
   "execution_count": 19,
   "id": "c924155a",
   "metadata": {
    "vscode": {
     "languageId": "r"
    }
   },
   "outputs": [
    {
     "data": {
      "text/html": [
       "2"
      ],
      "text/latex": [
       "2"
      ],
      "text/markdown": [
       "2"
      ],
      "text/plain": [
       "[1] 2"
      ]
     },
     "metadata": {},
     "output_type": "display_data"
    }
   ],
   "source": [
    "# ALL BIALLELIC?\n",
    "num_alleles1<-apply(allele_count1, 1, allelism)\n",
    "unique(num_alleles1)"
   ]
  },
  {
   "cell_type": "code",
   "execution_count": 20,
   "id": "f75206e0",
   "metadata": {
    "vscode": {
     "languageId": "r"
    }
   },
   "outputs": [
    {
     "data": {
      "text/html": [
       "<ol class=list-inline>\n",
       "\t<li>4677</li>\n",
       "\t<li>4</li>\n",
       "</ol>\n"
      ],
      "text/latex": [
       "\\begin{enumerate*}\n",
       "\\item 4677\n",
       "\\item 4\n",
       "\\end{enumerate*}\n"
      ],
      "text/markdown": [
       "1. 4677\n",
       "2. 4\n",
       "\n",
       "\n"
      ],
      "text/plain": [
       "[1] 4677    4"
      ]
     },
     "metadata": {},
     "output_type": "display_data"
    },
    {
     "data": {
      "text/html": [
       "<ol class=list-inline>\n",
       "\t<li>0.219178082191781</li>\n",
       "\t<li>0.780821917808219</li>\n",
       "\t<li>0</li>\n",
       "\t<li>0</li>\n",
       "</ol>\n"
      ],
      "text/latex": [
       "\\begin{enumerate*}\n",
       "\\item 0.219178082191781\n",
       "\\item 0.780821917808219\n",
       "\\item 0\n",
       "\\item 0\n",
       "\\end{enumerate*}\n"
      ],
      "text/markdown": [
       "1. 0.219178082191781\n",
       "2. 0.780821917808219\n",
       "3. 0\n",
       "4. 0\n",
       "\n",
       "\n"
      ],
      "text/plain": [
       "[1] 0.2191781 0.7808219 0.0000000 0.0000000"
      ]
     },
     "metadata": {},
     "output_type": "display_data"
    }
   ],
   "source": [
    "# TO ALLELE FREQ\n",
    "af1<-t(apply(allele_count1, 1, allele.frequency))\n",
    "dim(af1)\n",
    "af1[1,]"
   ]
  },
  {
   "cell_type": "code",
   "execution_count": 21,
   "id": "82696168",
   "metadata": {
    "vscode": {
     "languageId": "r"
    }
   },
   "outputs": [
    {
     "data": {
      "text/html": [
       "4677"
      ],
      "text/latex": [
       "4677"
      ],
      "text/markdown": [
       "4677"
      ],
      "text/plain": [
       "[1] 4677"
      ]
     },
     "metadata": {},
     "output_type": "display_data"
    },
    {
     "data": {
      "text/plain": [
       "   Min. 1st Qu.  Median    Mean 3rd Qu.    Max. \n",
       " 0.5000  0.6986  0.8082  0.7710  0.8699  0.8973 "
      ]
     },
     "metadata": {},
     "output_type": "display_data"
    }
   ],
   "source": [
    "# FIND MAJOR ALELE FREQ AND ITS SUMMARY\n",
    "major_f1<-apply(af1, 1, cal.frequency, which=1)\n",
    "length(major_f1)\n",
    "summary(major_f1)"
   ]
  },
  {
   "cell_type": "code",
   "execution_count": 22,
   "id": "3fae139f",
   "metadata": {
    "vscode": {
     "languageId": "r"
    }
   },
   "outputs": [
    {
     "data": {
      "text/html": [
       "4677"
      ],
      "text/latex": [
       "4677"
      ],
      "text/markdown": [
       "4677"
      ],
      "text/plain": [
       "[1] 4677"
      ]
     },
     "metadata": {},
     "output_type": "display_data"
    }
   ],
   "source": [
    "# FIND THE MAJOR ALLELE \n",
    "major_allele1<-apply(allele_count1, 1, find.allele, which=1)\n",
    "length(major_allele1)"
   ]
  },
  {
   "cell_type": "code",
   "execution_count": 23,
   "id": "5f51c27e",
   "metadata": {
    "vscode": {
     "languageId": "r"
    }
   },
   "outputs": [
    {
     "data": {
      "text/html": [
       "<ol class=list-inline>\n",
       "\t<li>4677</li>\n",
       "\t<li>73</li>\n",
       "</ol>\n"
      ],
      "text/latex": [
       "\\begin{enumerate*}\n",
       "\\item 4677\n",
       "\\item 73\n",
       "\\end{enumerate*}\n"
      ],
      "text/markdown": [
       "1. 4677\n",
       "2. 73\n",
       "\n",
       "\n"
      ],
      "text/plain": [
       "[1] 4677   73"
      ]
     },
     "metadata": {},
     "output_type": "display_data"
    },
    {
     "data": {
      "text/html": [
       "<ol class=list-inline>\n",
       "\t<li>4677</li>\n",
       "\t<li>104</li>\n",
       "</ol>\n"
      ],
      "text/latex": [
       "\\begin{enumerate*}\n",
       "\\item 4677\n",
       "\\item 104\n",
       "\\end{enumerate*}\n"
      ],
      "text/markdown": [
       "1. 4677\n",
       "2. 104\n",
       "\n",
       "\n"
      ],
      "text/plain": [
       "[1] 4677  104"
      ]
     },
     "metadata": {},
     "output_type": "display_data"
    },
    {
     "data": {
      "text/html": [
       "<ol class=list-inline>\n",
       "\t<li>1</li>\n",
       "\t<li>0</li>\n",
       "\t<li>2</li>\n",
       "</ol>\n"
      ],
      "text/latex": [
       "\\begin{enumerate*}\n",
       "\\item 1\n",
       "\\item 0\n",
       "\\item 2\n",
       "\\end{enumerate*}\n"
      ],
      "text/markdown": [
       "1. 1\n",
       "2. 0\n",
       "3. 2\n",
       "\n",
       "\n"
      ],
      "text/plain": [
       "[1] 1 0 2"
      ]
     },
     "metadata": {},
     "output_type": "display_data"
    },
    {
     "data": {
      "text/html": [
       "<ol class=list-inline>\n",
       "\t<li>1</li>\n",
       "\t<li>0</li>\n",
       "\t<li>2</li>\n",
       "</ol>\n"
      ],
      "text/latex": [
       "\\begin{enumerate*}\n",
       "\\item 1\n",
       "\\item 0\n",
       "\\item 2\n",
       "\\end{enumerate*}\n"
      ],
      "text/markdown": [
       "1. 1\n",
       "2. 0\n",
       "3. 2\n",
       "\n",
       "\n"
      ],
      "text/plain": [
       "[1] 1 0 2"
      ]
     },
     "metadata": {},
     "output_type": "display_data"
    }
   ],
   "source": [
    "# CONVERT TO GENOTYPE MATRIX (WITH 0, 1, 2 ONLY, 0 IS THE MAJOR ALLELE)\n",
    "g1<-matrix(nc=dim(genotype1)[2], nr=dim(genotype1)[3])\n",
    "g2<-matrix(nc=dim(genotype2)[2], nr=dim(genotype2)[3])\n",
    "for (i in 1:nrow(g1))\n",
    "{\n",
    "    g1[i,]<-to.biallelic(genotype1[,,i], ref=major_allele1[i])\n",
    "    g2[i,]<-to.biallelic(genotype2[,,i], ref=major_allele1[i])\n",
    "}\n",
    "dim(g1)\n",
    "dim(g2)\n",
    "unique(as.numeric(g1))\n",
    "unique(as.numeric(g2))"
   ]
  },
  {
   "cell_type": "code",
   "execution_count": 24,
   "id": "40c05f79",
   "metadata": {
    "vscode": {
     "languageId": "r"
    }
   },
   "outputs": [
    {
     "data": {
      "text/html": [
       "0.0118885280123931"
      ],
      "text/latex": [
       "0.0118885280123931"
      ],
      "text/markdown": [
       "0.0118885280123931"
      ],
      "text/plain": [
       "[1] 0.01188853"
      ]
     },
     "metadata": {},
     "output_type": "display_data"
    },
    {
     "data": {
      "text/html": [
       "0.000231520636207599"
      ],
      "text/latex": [
       "0.000231520636207599"
      ],
      "text/markdown": [
       "0.000231520636207599"
      ],
      "text/plain": [
       "[1] 0.0002315206"
      ]
     },
     "metadata": {},
     "output_type": "display_data"
    }
   ],
   "source": [
    "# THE TWO SAMPLE SIZES\n",
    "s1<-ncol(g1)\n",
    "s2<-ncol(g2)\n",
    "\n",
    "# RECALCULATE THE TWO ALLELE FREQ AGAIN\n",
    "f1<-apply(g1, 1, sum)/(2*s1)\n",
    "f2<-apply(g2, 1, sum)/(2*s2)\n",
    "\n",
    "# TEMPORAL Fc\n",
    "Fa<-mean((f1-f2)^2/(f1*(1-f1)))\n",
    "Fa\n",
    "\n",
    "# MINUS SAMPLING ERROR\n",
    "Fa-0.5/s1-0.5/s2"
   ]
  },
  {
   "cell_type": "markdown",
   "id": "da4a83af",
   "metadata": {},
   "source": [
    "Fa:\n",
    "- X_4: 0.0111445581858069\n",
    "- X_int: 0.0118885280123931 (positive Fa after sampling! But, within the distribution?)\n",
    "- 3R_int: 0.0112564541599081 (Fa outside of null_Fa distribution and has inf values in null_Fa)\n",
    "- 3R_4: 0.0112449825807431"
   ]
  },
  {
   "cell_type": "code",
   "execution_count": 25,
   "id": "53882526",
   "metadata": {
    "vscode": {
     "languageId": "r"
    }
   },
   "outputs": [],
   "source": [
    "# RANDOMISATION\n",
    "randomise<-function(g1, g2)\n",
    "{\n",
    "    s1<-ncol(g1)\n",
    "    s2<-ncol(g2)\n",
    "    # SHUFFLE. y IS A VECTOR OF RANDOM NUMBERS\n",
    "    y<-sample(1:(s1+s2), size=s1)\n",
    "    rg1<-cbind(g1, g2)[,y]\n",
    "    rg2<-cbind(g1, g2)[,-y]\n",
    "    # RECALCULATE ALLELE FREQ, USING THE RANDOMISED POPULATIONS\n",
    "    rf1<-apply(rg1, 1, .Primitive('sum'))/(2*s1)\n",
    "    rf2<-apply(rg2, 1, .Primitive('sum'))/(2*s2)\n",
    "    # RECALCULATE TEMPORAL Fa\n",
    "    return(mean((rf1-rf2)^2/(rf1*(1-rf1))))\n",
    "}"
   ]
  },
  {
   "cell_type": "code",
   "execution_count": 26,
   "id": "3b6212e1",
   "metadata": {
    "vscode": {
     "languageId": "r"
    }
   },
   "outputs": [],
   "source": [
    "# RANDOMISE 1000 TIMES\n",
    "null_Fa<-rep(NA, 1000)\n",
    "for (i in 1:length(null_Fa))\n",
    "{\n",
    "    null_Fa[i]<-randomise(g1, g2)\n",
    "}"
   ]
  },
  {
   "cell_type": "code",
   "execution_count": 27,
   "id": "be33c99c",
   "metadata": {
    "scrolled": true,
    "vscode": {
     "languageId": "r"
    }
   },
   "outputs": [
    {
     "name": "stdout",
     "output_type": "stream",
     "text": [
      " [1] 0.01285148 0.01258651 0.01122100 0.01122314 0.01262367 0.01206594\n",
      " [7] 0.01180002 0.01154722 0.01277506 0.01212149\n"
     ]
    },
    {
     "data": {
      "text/html": [
       "0.0141983090725956"
      ],
      "text/latex": [
       "0.0141983090725956"
      ],
      "text/markdown": [
       "0.0141983090725956"
      ],
      "text/plain": [
       "[1] 0.01419831"
      ]
     },
     "metadata": {},
     "output_type": "display_data"
    },
    {
     "data": {
      "text/html": [
       "0.010385450575797"
      ],
      "text/latex": [
       "0.010385450575797"
      ],
      "text/markdown": [
       "0.010385450575797"
      ],
      "text/plain": [
       "[1] 0.01038545"
      ]
     },
     "metadata": {},
     "output_type": "display_data"
    }
   ],
   "source": [
    "# PRINT NULL_FA\n",
    "print(null_Fa[1:10])\n",
    "max(null_Fa) #Inf value for 3R_int only\n",
    "min(null_Fa)"
   ]
  },
  {
   "cell_type": "code",
   "execution_count": 193,
   "id": "ec6e4dda",
   "metadata": {
    "vscode": {
     "languageId": "r"
    }
   },
   "outputs": [],
   "source": [
    "# SAVE THE FILES\n",
    "\n",
    "#write.table(null_Fa, file = \"null_Fa_3R_int_10.txt\", row.names = FALSE, col.names = FALSE)\n",
    "#write.table(null_Fa, file = \"null_Fa_3R_4_10.txt\", row.names = FALSE, col.names = FALSE)\n",
    "#write.table(null_Fa, file = \"null_Fa_X_int_10.txt\", row.names = FALSE, col.names = FALSE)\n",
    "#write.table(null_Fa, file = \"null_Fa_X_4_10.txt\", row.names = FALSE, col.names = FALSE)"
   ]
  },
  {
   "cell_type": "code",
   "execution_count": 28,
   "id": "3e125a6f",
   "metadata": {
    "vscode": {
     "languageId": "r"
    }
   },
   "outputs": [
    {
     "data": {
      "image/png": "[encoded data removed]",
      "text/plain": [
       "Plot with title \"Histogram of null_Fa\""
      ]
     },
     "metadata": {},
     "output_type": "display_data"
    }
   ],
   "source": [
    "# HISTOGRAM OF NULL\n",
    "hist(null_Fa)\n",
    "abline(v=Fa, col='red', lty=2) # Outside the range for 3R_int"
   ]
  },
  {
   "cell_type": "code",
   "execution_count": null,
   "id": "c8211299",
   "metadata": {
    "vscode": {
     "languageId": "r"
    }
   },
   "outputs": [],
   "source": []
  }
 ],
 "metadata": {
  "kernelspec": {
   "display_name": "R",
   "language": "R",
   "name": "ir"
  },
  "language_info": {
   "codemirror_mode": "r",
   "file_extension": ".r",
   "mimetype": "text/x-r-source",
   "name": "R",
   "pygments_lexer": "r",
   "version": "3.6.1"
  }
 },
 "nbformat": 4,
 "nbformat_minor": 5
}
