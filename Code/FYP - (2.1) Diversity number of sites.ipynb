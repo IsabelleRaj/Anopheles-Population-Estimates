{
 "cells": [
  {
   "cell_type": "markdown",
   "metadata": {},
   "source": [
    "### Calculating the number of sites used in the FYP - (2) Diversity calculations"
   ]
  },
  {
   "cell_type": "code",
   "execution_count": 2,
   "id": "69a7655f",
   "metadata": {},
   "outputs": [
    {
     "name": "stdout",
     "output_type": "stream",
     "text": [
      "scikit-allel 1.3.5\n"
     ]
    }
   ],
   "source": [
    "# INSTALLING AND IMPORTING PACKAGES\n",
    "\n",
    "#!pip install -q malariagen_data\n",
    "#!pip install ipyleaflet\n",
    "\n",
    "import numpy as np\n",
    "import matplotlib.pyplot as plt\n",
    "import dask\n",
    "import dask.array as da\n",
    "from dask.diagnostics.progress import ProgressBar\n",
    "# silence some warnings\n",
    "dask.config.set(**{'array.slicing.split_large_chunks': False})\n",
    "import allel; print('scikit-allel', allel.__version__)\n",
    "import malariagen_data\n",
    "import pandas as pd\n",
    "import pickle "
   ]
  },
  {
   "cell_type": "code",
   "execution_count": 3,
   "id": "4f5f5dfd",
   "metadata": {},
   "outputs": [
    {
     "data": {
      "application/javascript": "(function(root) {\n  function now() {\n    return new Date();\n  }\n\n  const force = true;\n\n  if (typeof root._bokeh_onload_callbacks === \"undefined\" || force === true) {\n    root._bokeh_onload_callbacks = [];\n    root._bokeh_is_loading = undefined;\n  }\n\nconst JS_MIME_TYPE = 'application/javascript';\n  const HTML_MIME_TYPE = 'text/html';\n  const EXEC_MIME_TYPE = 'application/vnd.bokehjs_exec.v0+json';\n  const CLASS_NAME = 'output_bokeh rendered_html';\n\n  /**\n   * Render data to the DOM node\n   */\n  function render(props, node) {\n    const script = document.createElement(\"script\");\n    node.appendChild(script);\n  }\n\n  /**\n   * Handle when an output is cleared or removed\n   */\n  function handleClearOutput(event, handle) {\n    const cell = handle.cell;\n\n    const id = cell.output_area._bokeh_element_id;\n    const server_id = cell.output_area._bokeh_server_id;\n    // Clean up Bokeh references\n    if (id != null && id in Bokeh.index) {\n      Bokeh.index[id].model.document.clear();\n      delete Bokeh.index[id];\n    }\n\n    if (server_id !== undefined) {\n      // Clean up Bokeh references\n      const cmd_clean = \"from bokeh.io.state import curstate; print(curstate().uuid_to_server['\" + server_id + \"'].get_sessions()[0].document.roots[0]._id)\";\n      cell.notebook.kernel.execute(cmd_clean, {\n        iopub: {\n          output: function(msg) {\n            const id = msg.content.text.trim();\n            if (id in Bokeh.index) {\n              Bokeh.index[id].model.document.clear();\n              delete Bokeh.index[id];\n            }\n          }\n        }\n      });\n      // Destroy server and session\n      const cmd_destroy = \"import bokeh.io.notebook as ion; ion.destroy_server('\" + server_id + \"')\";\n      cell.notebook.kernel.execute(cmd_destroy);\n    }\n  }\n\n  /**\n   * Handle when a new output is added\n   */\n  function handleAddOutput(event, handle) {\n    const output_area = handle.output_area;\n    const output = handle.output;\n\n    // limit handleAddOutput to display_data with EXEC_MIME_TYPE content only\n    if ((output.output_type != \"display_data\") || (!Object.prototype.hasOwnProperty.call(output.data, EXEC_MIME_TYPE))) {\n      return\n    }\n\n    const toinsert = output_area.element.find(\".\" + CLASS_NAME.split(' ')[0]);\n\n    if (output.metadata[EXEC_MIME_TYPE][\"id\"] !== undefined) {\n      toinsert[toinsert.length - 1].firstChild.textContent = output.data[JS_MIME_TYPE];\n      // store reference to embed id on output_area\n      output_area._bokeh_element_id = output.metadata[EXEC_MIME_TYPE][\"id\"];\n    }\n    if (output.metadata[EXEC_MIME_TYPE][\"server_id\"] !== undefined) {\n      const bk_div = document.createElement(\"div\");\n      bk_div.innerHTML = output.data[HTML_MIME_TYPE];\n      const script_attrs = bk_div.children[0].attributes;\n      for (let i = 0; i < script_attrs.length; i++) {\n        toinsert[toinsert.length - 1].firstChild.setAttribute(script_attrs[i].name, script_attrs[i].value);\n        toinsert[toinsert.length - 1].firstChild.textContent = bk_div.children[0].textContent\n      }\n      // store reference to server id on output_area\n      output_area._bokeh_server_id = output.metadata[EXEC_MIME_TYPE][\"server_id\"];\n    }\n  }\n\n  function register_renderer(events, OutputArea) {\n\n    function append_mime(data, metadata, element) {\n      // create a DOM node to render to\n      const toinsert = this.create_output_subarea(\n        metadata,\n        CLASS_NAME,\n        EXEC_MIME_TYPE\n      );\n      this.keyboard_manager.register_events(toinsert);\n      // Render to node\n      const props = {data: data, metadata: metadata[EXEC_MIME_TYPE]};\n      render(props, toinsert[toinsert.length - 1]);\n      element.append(toinsert);\n      return toinsert\n    }\n\n    /* Handle when an output is cleared or removed */\n    events.on('clear_output.CodeCell', handleClearOutput);\n    events.on('delete.Cell', handleClearOutput);\n\n    /* Handle when a new output is added */\n    events.on('output_added.OutputArea', handleAddOutput);\n\n    /**\n     * Register the mime type and append_mime function with output_area\n     */\n    OutputArea.prototype.register_mime_type(EXEC_MIME_TYPE, append_mime, {\n      /* Is output safe? */\n      safe: true,\n      /* Index of renderer in `output_area.display_order` */\n      index: 0\n    });\n  }\n\n  // register the mime type if in Jupyter Notebook environment and previously unregistered\n  if (root.Jupyter !== undefined) {\n    const events = require('base/js/events');\n    const OutputArea = require('notebook/js/outputarea').OutputArea;\n\n    if (OutputArea.prototype.mime_types().indexOf(EXEC_MIME_TYPE) == -1) {\n      register_renderer(events, OutputArea);\n    }\n  }\n  if (typeof (root._bokeh_timeout) === \"undefined\" || force === true) {\n    root._bokeh_timeout = Date.now() + 5000;\n    root._bokeh_failed_load = false;\n  }\n\n  const NB_LOAD_WARNING = {'data': {'text/html':\n     \"<div style='background-color: #fdd'>\\n\"+\n     \"<p>\\n\"+\n     \"BokehJS does not appear to have successfully loaded. If loading BokehJS from CDN, this \\n\"+\n     \"may be due to a slow or bad network connection. Possible fixes:\\n\"+\n     \"</p>\\n\"+\n     \"<ul>\\n\"+\n     \"<li>re-rerun `output_notebook()` to attempt to load from CDN again, or</li>\\n\"+\n     \"<li>use INLINE resources instead, as so:</li>\\n\"+\n     \"</ul>\\n\"+\n     \"<code>\\n\"+\n     \"from bokeh.resources import INLINE\\n\"+\n     \"output_notebook(resources=INLINE)\\n\"+\n     \"</code>\\n\"+\n     \"</div>\"}};\n\n  function display_loaded() {\n    const el = document.getElementById(null);\n    if (el != null) {\n      el.textContent = \"BokehJS is loading...\";\n    }\n    if (root.Bokeh !== undefined) {\n      if (el != null) {\n        el.textContent = \"BokehJS \" + root.Bokeh.version + \" successfully loaded.\";\n      }\n    } else if (Date.now() < root._bokeh_timeout) {\n      setTimeout(display_loaded, 100)\n    }\n  }\n\n  function run_callbacks() {\n    try {\n      root._bokeh_onload_callbacks.forEach(function(callback) {\n        if (callback != null)\n          callback();\n      });\n    } finally {\n      delete root._bokeh_onload_callbacks\n    }\n    console.debug(\"Bokeh: all callbacks have finished\");\n  }\n\n  function load_libs(css_urls, js_urls, callback) {\n    if (css_urls == null) css_urls = [];\n    if (js_urls == null) js_urls = [];\n\n    root._bokeh_onload_callbacks.push(callback);\n    if (root._bokeh_is_loading > 0) {\n      console.debug(\"Bokeh: BokehJS is being loaded, scheduling callback at\", now());\n      return null;\n    }\n    if (js_urls == null || js_urls.length === 0) {\n      run_callbacks();\n      return null;\n    }\n    console.debug(\"Bokeh: BokehJS not loaded, scheduling load and callback at\", now());\n    root._bokeh_is_loading = css_urls.length + js_urls.length;\n\n    function on_load() {\n      root._bokeh_is_loading--;\n      if (root._bokeh_is_loading === 0) {\n        console.debug(\"Bokeh: all BokehJS libraries/stylesheets loaded\");\n        run_callbacks()\n      }\n    }\n\n    function on_error(url) {\n      console.error(\"failed to load \" + url);\n    }\n\n    for (let i = 0; i < css_urls.length; i++) {\n      const url = css_urls[i];\n      const element = document.createElement(\"link\");\n      element.onload = on_load;\n      element.onerror = on_error.bind(null, url);\n      element.rel = \"stylesheet\";\n      element.type = \"text/css\";\n      element.href = url;\n      console.debug(\"Bokeh: injecting link tag for BokehJS stylesheet: \", url);\n      document.body.appendChild(element);\n    }\n\n    for (let i = 0; i < js_urls.length; i++) {\n      const url = js_urls[i];\n      const element = document.createElement('script');\n      element.onload = on_load;\n      element.onerror = on_error.bind(null, url);\n      element.async = false;\n      element.src = url;\n      console.debug(\"Bokeh: injecting script tag for BokehJS library: \", url);\n      document.head.appendChild(element);\n    }\n  };\n\n  function inject_raw_css(css) {\n    const element = document.createElement(\"style\");\n    element.appendChild(document.createTextNode(css));\n    document.body.appendChild(element);\n  }\n\n  const js_urls = [\"https://cdn.bokeh.org/bokeh/release/bokeh-2.4.3.min.js\", \"https://cdn.bokeh.org/bokeh/release/bokeh-gl-2.4.3.min.js\", \"https://cdn.bokeh.org/bokeh/release/bokeh-widgets-2.4.3.min.js\", \"https://cdn.bokeh.org/bokeh/release/bokeh-tables-2.4.3.min.js\", \"https://cdn.bokeh.org/bokeh/release/bokeh-mathjax-2.4.3.min.js\"];\n  const css_urls = [];\n\n  const inline_js = [    function(Bokeh) {\n      Bokeh.set_log_level(\"info\");\n    },\nfunction(Bokeh) {\n    }\n  ];\n\n  function run_inline_js() {\n    if (root.Bokeh !== undefined || force === true) {\n          for (let i = 0; i < inline_js.length; i++) {\n      inline_js[i].call(root, root.Bokeh);\n    }\n} else if (Date.now() < root._bokeh_timeout) {\n      setTimeout(run_inline_js, 100);\n    } else if (!root._bokeh_failed_load) {\n      console.log(\"Bokeh: BokehJS failed to load within specified timeout.\");\n      root._bokeh_failed_load = true;\n    } else if (force !== true) {\n      const cell = $(document.getElementById(null)).parents('.cell').data().cell;\n      cell.output_area.append_execute_result(NB_LOAD_WARNING)\n    }\n  }\n\n  if (root._bokeh_is_loading === 0) {\n    console.debug(\"Bokeh: BokehJS loaded, going straight to plotting\");\n    run_inline_js();\n  } else {\n    load_libs(css_urls, js_urls, function() {\n      console.debug(\"Bokeh: BokehJS plotting callback run at\", now());\n      run_inline_js();\n    });\n  }\n}(window));",
      "application/vnd.bokehjs_load.v0+json": ""
     },
     "metadata": {},
     "output_type": "display_data"
    },
    {
     "data": {
      "text/html": [
       "\n",
       "            <table class=\"malariagen-ag3\">\n",
       "                <thead>\n",
       "                    <tr>\n",
       "                        <th style=\"text-align: left\" colspan=\"2\">MalariaGEN Ag3 API client</th>\n",
       "                    </tr>\n",
       "                    <tr><td colspan=\"2\" style=\"text-align: left\">\n",
       "                        Please note that data are subject to terms of use,\n",
       "                        for more information see <a href=\"https://www.malariagen.net/data\">\n",
       "                        the MalariaGEN website</a> or contact data@malariagen.net.\n",
       "                        See also the <a href=\"https://malariagen.github.io/vector-data/ag3/api.html\">Ag3 API docs</a>.\n",
       "                    </td></tr>\n",
       "                </thead>\n",
       "                <tbody>\n",
       "                    <tr>\n",
       "                        <th style=\"text-align: left\">\n",
       "                            Storage URL\n",
       "                        </th>\n",
       "                        <td>gs://vo_agam_release/</td>\n",
       "                    </tr>\n",
       "                    <tr>\n",
       "                        <th style=\"text-align: left\">\n",
       "                            Data releases available\n",
       "                        </th>\n",
       "                        <td>3.0, 3.1, 3.2, 3.3, 3.4, 3.5, 3.6, 3.7, 3.8</td>\n",
       "                    </tr>\n",
       "                    <tr>\n",
       "                        <th style=\"text-align: left\">\n",
       "                            Results cache\n",
       "                        </th>\n",
       "                        <td>None</td>\n",
       "                    </tr>\n",
       "                    <tr>\n",
       "                        <th style=\"text-align: left\">\n",
       "                            Cohorts analysis\n",
       "                        </th>\n",
       "                        <td>20230223</td>\n",
       "                    </tr>\n",
       "                    <tr>\n",
       "                        <th style=\"text-align: left\">\n",
       "                            Species analysis\n",
       "                        </th>\n",
       "                        <td>aim_20220528</td>\n",
       "                    </tr>\n",
       "                    <tr>\n",
       "                        <th style=\"text-align: left\">\n",
       "                            Site filters analysis\n",
       "                        </th>\n",
       "                        <td>dt_20200416</td>\n",
       "                    </tr>\n",
       "                    <tr>\n",
       "                        <th style=\"text-align: left\">\n",
       "                            Software version\n",
       "                        </th>\n",
       "                        <td>malariagen_data 7.3.1</td>\n",
       "                    </tr>\n",
       "                    <tr>\n",
       "                        <th style=\"text-align: left\">\n",
       "                            Client location\n",
       "                        </th>\n",
       "                        <td>Wales, GB</td>\n",
       "                    </tr>\n",
       "                </tbody>\n",
       "            </table>\n",
       "        "
      ],
      "text/plain": [
       "<MalariaGEN Ag3 API client>\n",
       "Storage URL             : gs://vo_agam_release/\n",
       "Data releases available : 3.0, 3.1, 3.2, 3.3, 3.4, 3.5, 3.6, 3.7, 3.8\n",
       "Results cache           : None\n",
       "Cohorts analysis        : 20230223\n",
       "Species analysis        : aim_20220528\n",
       "Site filters analysis   : dt_20200416\n",
       "Software version        : malariagen_data 7.3.1\n",
       "Client location         : Wales, GB\n",
       "---\n",
       "Please note that data are subject to terms of use,\n",
       "for more information see https://www.malariagen.net/data\n",
       "or contact data@malariagen.net. For API documentation see \n",
       "https://malariagen.github.io/vector-data/ag3/api.html"
      ]
     },
     "execution_count": 3,
     "metadata": {},
     "output_type": "execute_result"
    }
   ],
   "source": [
    "# IMPORT API\n",
    "# AG3 DATA ACCESS FROM GOOGLE CLOUD\n",
    "\n",
    "ag3 = malariagen_data.Ag3(pre='True') # Pre=True is needed to include data from all data beyond 3.0 release/phase (3.0-3.8)\n",
    "ag3"
   ]
  },
  {
   "cell_type": "markdown",
   "id": "cca3b699",
   "metadata": {},
   "source": [
    "#### Calculating the number of sites used for the original chromosome positions"
   ]
  },
  {
   "cell_type": "markdown",
   "id": "105c2054",
   "metadata": {},
   "source": [
    "Given that the diversity_stats() function requires the region to be specified, you can use snp_calls() to count the number of SNPs in that region to get the number of sites that were used. This can be used to count the number of polymorphic sites too."
   ]
  },
  {
   "cell_type": "code",
   "execution_count": null,
   "id": "a68b875e",
   "metadata": {
    "scrolled": true
   },
   "outputs": [],
   "source": [
    "# COUNTING THE NUMBER OF SITES USED TO COMPUTE THE DIVERSITY STATISTICS\n",
    "\n",
    "# Conducting snp_calls for the desired samples\n",
    "snps_X_4_2013 = ag3.snp_calls(cohort_size=70, region= \"X\", site_mask=\"gamb_colu\", site_class=\"CDS_DEG_4\", sample_query = \"(country == 'Mali') and (taxon == 'coluzzii') and (year == 2013) and (location == 'Sokourani (Niono)')\")\n",
    "snps_3R_4_2013 = ag3.snp_calls(cohort_size=70,region= \"3R\", site_mask=\"gamb_colu\", site_class=\"CDS_DEG_4\", sample_query = \"(country == 'Mali') and (taxon == 'coluzzii') and (year == 2013) and (location == 'Sokourani (Niono)')\")\n",
    "snps_X_int_2013 = ag3.snp_calls(cohort_size=70,region= \"X\", site_mask=\"gamb_colu\", site_class=\"INTERGENIC\", sample_query = \"(country == 'Mali') and (taxon == 'coluzzii') and (year == 2013) and (location == 'Sokourani (Niono)')\")\n",
    "snps_3R_int_2013 = ag3.snp_calls(cohort_size=70, region= \"3R\", site_mask=\"gamb_colu\", site_class=\"INTERGENIC\", sample_query = \"(country == 'Mali') and (taxon == 'coluzzii') and (year == 2013) and (location == 'Sokourani (Niono)')\")\n",
    "\n",
    "snps_X_4_2015 = ag3.snp_calls(cohort_size=70, region= \"X\", site_mask=\"gamb_colu\", site_class=\"CDS_DEG_4\", sample_query = \"(country == 'Mali') and (taxon == 'coluzzii') and (year == 2015) and (location == 'Sokourani (Niono)')\")\n",
    "snps_3R_4_2015 = ag3.snp_calls(cohort_size=70,region= \"3R\", site_mask=\"gamb_colu\", site_class=\"CDS_DEG_4\", sample_query = \"(country == 'Mali') and (taxon == 'coluzzii') and (year == 2015) and (location == 'Sokourani (Niono)')\")\n",
    "snps_X_int_2015 = ag3.snp_calls(cohort_size=70,region= \"X\", site_mask=\"gamb_colu\", site_class=\"INTERGENIC\", sample_query = \"(country == 'Mali') and (taxon == 'coluzzii') and (year == 2015) and (location == 'Sokourani (Niono)')\")\n",
    "snps_3R_int_2015 = ag3.snp_calls(cohort_size=70, region= \"3R\", site_mask=\"gamb_colu\", site_class=\"INTERGENIC\", sample_query = \"(country == 'Mali') and (taxon == 'coluzzii') and (year == 2015) and (location == 'Sokourani (Niono)')\")"
   ]
  },
  {
   "cell_type": "code",
   "execution_count": null,
   "id": "4e130fa5",
   "metadata": {},
   "outputs": [],
   "source": [
    "# Computing genotype calls with the SNP datasets\n",
    "snps_X_4_2013_gt = allel.GenotypeDaskArray(snps_X_4_2013[\"call_genotype\"].data)\n",
    "snps_3R_4_2013_gt = allel.GenotypeDaskArray(snps_3R_4_2013[\"call_genotype\"].data)\n",
    "snps_X_int_2013_gt = allel.GenotypeDaskArray(snps_X_int_2013[\"call_genotype\"].data)\n",
    "snps_3R_int_2013_gt = allel.GenotypeDaskArray(snps_3R_int_2013[\"call_genotype\"].data)\n",
    "\n",
    "snps_X_4_2015_gt = allel.GenotypeDaskArray(snps_X_4_2015[\"call_genotype\"].data)\n",
    "snps_3R_4_2015_gt = allel.GenotypeDaskArray(snps_3R_4_2015[\"call_genotype\"].data)\n",
    "snps_X_int_2015_gt = allel.GenotypeDaskArray(snps_X_int_2015[\"call_genotype\"].data)\n",
    "snps_3R_int_2015_gt = allel.GenotypeDaskArray(snps_3R_int_2015[\"call_genotype\"].data)"
   ]
  },
  {
   "cell_type": "code",
   "execution_count": 1,
   "id": "88ed87d0",
   "metadata": {},
   "outputs": [],
   "source": [
    "# REMOVE MISSING GENOTYPES\n",
    "\n",
    "def remove_missing(snps, gt):\n",
    "    # Create a 2D boolean array where TRUE indicates missing genotypes \n",
    "    missing = gt.is_missing() \n",
    "    # Create a 1D boolean array where it is TRUE if any of the genotypes per row is TRUE i.e., missing genotype for even 1 indivdual\n",
    "    missing = np.any(missing, axis=1)\n",
    "    mask = missing.compute()\n",
    "    # Create an index array of the variant positions with no missing genotypes\n",
    "    index = np.where(mask==False)[0] \n",
    "    # Subset the snp dataset to only contain non-missing sites\n",
    "    new_snps = snps.isel(variants=index)\n",
    "    return new_snps\n"
   ]
  },
  {
   "cell_type": "code",
   "execution_count": null,
   "id": "c74c21aa",
   "metadata": {},
   "outputs": [],
   "source": [
    "# Filter the snps for non-missing snps only\n",
    "snps_X_4_2013_no_nan = remove_missing(snps_X_4_2013, snps_X_4_2013_gt)\n",
    "snps_X_int_2013_no_nan = remove_missing(snps_X_int_2013, snps_X_int_2013_gt)\n",
    "snps_3R_4_2013_no_nan = remove_missing(snps_3R_4_2013, snps_3R_4_2013_gt)\n",
    "snps_3R_int_2013_no_nan = remove_missing(snps_3R_int_2013, snps_3R_int_2013_gt)\n",
    "\n",
    "snps_X_4_2015_no_nan = remove_missing(snps_X_4_2015, snps_X_4_2015_gt)\n",
    "snps_X_int_2015_no_nan = remove_missing(snps_X_int_2015, snps_X_int_2015_gt)\n",
    "snps_3R_4_2015_no_nan = remove_missing(snps_3R_4_2015, snps_3R_4_2015_gt)\n",
    "snps_3R_int_2015_no_nan = remove_missing(snps_3R_int_2015, snps_3R_int_2015_gt)"
   ]
  },
  {
   "cell_type": "code",
   "execution_count": null,
   "id": "46539e39",
   "metadata": {},
   "outputs": [],
   "source": [
    "# EXPORT THE DATASETS USING AS .PKL\n",
    "\n",
    "with open('snps_X_4_2013_no_nan.pkl', 'wb') as f:\n",
    "    pickle.dump(snps_X_4_2013_no_nan, f)\n",
    "\n",
    "with open('snps_X_int_2013_no_nan.pkl', 'wb') as f:\n",
    "    pickle.dump(snps_X_int_2013_no_nan, f)\n",
    "    \n",
    "with open('snps_3R_4_2013_no_nan.pkl', 'wb') as f:\n",
    "    pickle.dump(snps_3R_4_2013_no_nan, f)\n",
    "\n",
    "with open('snps_3R_int_2013_no_nan.pkl', 'wb') as f:\n",
    "    pickle.dump(snps_3R_int_2013_no_nan, f)\n",
    "    \n",
    "    \n",
    "with open('snps_X_4_2015_no_nan.pkl', 'wb') as f:\n",
    "    pickle.dump(snps_X_4_2015_no_nan, f)\n",
    "\n",
    "with open('snps_X_int_2015_no_nan.pkl', 'wb') as f:\n",
    "    pickle.dump(snps_X_int_2015_no_nan, f)\n",
    "    \n",
    "with open('snps_3R_4_2015_no_nan.pkl', 'wb') as f:\n",
    "    pickle.dump(snps_3R_4_2015_no_nan, f)\n",
    "\n",
    "with open('snps_3R_int_2015_no_nan.pkl', 'wb') as f:\n",
    "    pickle.dump(snps_3R_int_2015_no_nan, f)"
   ]
  },
  {
   "cell_type": "code",
   "execution_count": null,
   "id": "d72afdcf",
   "metadata": {},
   "outputs": [],
   "source": [
    "# RE-COMPUTE GENOTYPE CALLS\n",
    "\n",
    "snps_X_4_2013_no_nan_gt = allel.GenotypeDaskArray(snps_X_4_2013_no_nan[\"call_genotype\"].data)\n",
    "snps_X_int_2013_no_nan_gt = allel.GenotypeDaskArray(snps_X_int_2013_no_nan[\"call_genotype\"].data)\n",
    "snps_3R_4_2013_no_nan_gt = allel.GenotypeDaskArray(snps_3R_4_2013_no_nan[\"call_genotype\"].data)\n",
    "snps_3R_int_2013_no_nan_gt = allel.GenotypeDaskArray(snps_3R_int_2013_no_nan[\"call_genotype\"].data)\n",
    "\n",
    "snps_X_4_2015_no_nan_gt = allel.GenotypeDaskArray(snps_X_4_2015_no_nan[\"call_genotype\"].data)\n",
    "snps_X_int_2015_no_nan_gt = allel.GenotypeDaskArray(snps_X_int_2015_no_nan[\"call_genotype\"].data)\n",
    "snps_3R_4_2015_no_nan_gt = allel.GenotypeDaskArray(snps_3R_4_2015_no_nan[\"call_genotype\"].data)\n",
    "snps_3R_int_2015_no_nan_gt = allel.GenotypeDaskArray(snps_3R_int_2015_no_nan[\"call_genotype\"].data)"
   ]
  },
  {
   "cell_type": "code",
   "execution_count": null,
   "id": "92661736",
   "metadata": {},
   "outputs": [],
   "source": [
    "# COMPUTE ALLELE COUNTS\n",
    "\n",
    "snps_X_4_2013_no_nan_ac = snps_X_4_2013_no_nan_gt.count_alleles(max_allele=3).compute()\n",
    "snps_X_int_2013_no_nan_ac = snps_X_int_2013_no_nan_gt.count_alleles(max_allele=3).compute()\n",
    "snps_3R_4_2013_no_nan_ac = snps_3R_4_2013_no_nan_gt.count_alleles(max_allele=3).compute()\n",
    "snps_3R_int_2013_no_nan_ac = snps_3R_int_2013_no_nan_gt.count_alleles(max_allele=3).compute()\n",
    "\n",
    "snps_X_4_2015_no_nan_ac = snps_X_4_2015_no_nan_gt.count_alleles(max_allele=3).compute()\n",
    "snps_X_int_2015_no_nan_ac = snps_X_int_2015_no_nan_gt.count_alleles(max_allele=3).compute()\n",
    "snps_3R_4_2015_no_nan_ac = snps_3R_4_2015_no_nan_gt.count_alleles(max_allele=3).compute()\n",
    "snps_3R_int_2015_no_nan_ac = snps_3R_int_2015_no_nan_gt.count_alleles(max_allele=3).compute()"
   ]
  },
  {
   "cell_type": "code",
   "execution_count": null,
   "id": "dd48bd83",
   "metadata": {},
   "outputs": [],
   "source": [
    "# COUNT THE NUMBER OF VARIANTS (BIALLELIC, MULTIALLELIC AND FIXED)\n",
    "\n",
    "print(\"Number of variants 2013 (X_4):\", len(snps_X_4_2013_no_nan.variants)) # Total number of sites\n",
    "print(\"Number of fixed sites 2013 (X_4):\", np.count_nonzero(~snps_X_4_2013_no_nan_ac.is_variant())) #~ needed to count where it is false\n",
    "print(\"Number of segregating SNPs 2013 (X_4):\", (snps_X_4_2013_no_nan_ac.is_segregating().sum()))\n",
    "print(\"Number of biallelic SNPs 2013 (X_4):\", snps_X_4_2013_no_nan_ac.is_biallelic().sum())\n",
    "print(\"Number of multiallelic SNPs 2013 (X_4):\", (snps_X_4_2013_no_nan_ac.is_segregating().sum()- snps_X_4_2013_no_nan_ac.is_biallelic().sum()))\n",
    "# Biallelic + multiallelic = segregating\n",
    "\n",
    "print(\"\\nNumber of variants 2015 (X_4):\", len(snps_X_4_2015_no_nan.variants))\n",
    "print(\"Number of fixed sites 2015 (X_4):\", np.count_nonzero(~snps_X_4_2015_no_nan_ac.is_variant()))\n",
    "print(\"Number of segregating SNPs 2015 (X_4):\", (snps_X_4_2015_no_nan_ac.is_segregating().sum()))\n",
    "print(\"Number of biallelic SNPs 2015 (X_4):\", snps_X_4_2015_no_nan_ac.is_biallelic().sum())\n",
    "print(\"Number of multiallelic SNPs 2015 (X_4):\", (snps_X_4_2015_no_nan_ac.is_segregating().sum()- snps_X_4_2015_no_nan_ac.is_biallelic().sum()))\n",
    "\n",
    "print(\"\\nNumber of variants 2013 (X_int):\", len(snps_X_int_2013_no_nan.variants))\n",
    "print(\"Number of fixed sites 2013 (X_int):\", np.count_nonzero(~snps_X_int_2013_no_nan_ac.is_variant()))\n",
    "print(\"Number of segregating SNPs 2013 (X_int):\", (snps_X_int_2013_no_nan_ac.is_segregating().sum()))\n",
    "print(\"Number of biallelic SNPs 2013 (X_int):\", snps_X_int_2013_no_nan_ac.is_biallelic().sum())\n",
    "print(\"Number of multiallelic SNPs 2013 (X_int):\", (snps_X_int_2013_no_nan_ac.is_segregating().sum()- snps_X_int_2013_no_nan_ac.is_biallelic().sum()))\n",
    "\n",
    "\n",
    "print(\"\\nNumber of variants 2015 (X_int):\", len(snps_X_int_2015_no_nan.variants))\n",
    "print(\"Number of fixed sites 2015 (X_int):\", np.count_nonzero(~snps_X_int_2015_no_nan_ac.is_variant()))\n",
    "print(\"Number of segregating SNPs 2015 (X_int):\", (snps_X_int_2015_no_nan_ac.is_segregating().sum()))\n",
    "print(\"Number of biallelic SNPs 2015 (X_int):\", snps_X_int_2015_no_nan_ac.is_biallelic().sum())\n",
    "print(\"Number of multiallelic SNPs 2015 (X_int):\", (snps_X_int_2015_no_nan_ac.is_segregating().sum()- snps_X_int_2015_no_nan_ac.is_biallelic().sum()))\n",
    "\n",
    "print(\"\\nNumber of variants 2013 (3R_4):\", len(snps_3R_4_2013_no_nan.variants))\n",
    "print(\"Number of fixed sites 2013 (3R_4):\", np.count_nonzero(~snps_3R_4_2013_no_nan_ac.is_variant()))\n",
    "print(\"Number of segregating SNPs 2013 (3R_4):\", (snps_3R_4_2013_no_nan_ac.is_segregating().sum()))\n",
    "print(\"Number of biallelic SNPs 2013 (3R_4):\", snps_3R_4_2013_no_nan_ac.is_biallelic().sum())\n",
    "print(\"Number of multiallelic SNPs 2013 (3R_4):\", (snps_3R_4_2013_no_nan_ac.is_segregating().sum()- snps_3R_4_2013_no_nan_ac.is_biallelic().sum()))\n",
    "\n",
    "print(\"\\nNumber of variants 2015 (3R_4):\", len(snps_3R_4_2015_no_nan.variants))\n",
    "print(\"Number of fixed sites 2015 (3R_4):\", np.count_nonzero(~snps_3R_4_2015_no_nan_ac.is_variant()))\n",
    "print(\"Number of segregating SNPs 2015 (3R_4):\", (snps_3R_4_2015_no_nan_ac.is_segregating().sum()))\n",
    "print(\"Number of biallelic SNPs 2015 (3R_4):\", snps_3R_4_2015_no_nan_ac.is_biallelic().sum())\n",
    "print(\"Number of multiallelic SNPs 2015 (3R_4):\", (snps_3R_4_2015_no_nan_ac.is_segregating().sum()- snps_3R_4_2015_no_nan_ac.is_biallelic().sum()))\n",
    "\n",
    "print(\"\\nNumber of variants 2013 (3R_int):\", len(snps_3R_int_2013_no_nan.variants))\n",
    "print(\"Number of fixed sites 2013 (3R_int):\", np.count_nonzero(~snps_3R_int_2013_no_nan_ac.is_variant()))\n",
    "print(\"Number of segregating SNPs 2013 (3R_int):\", (snps_3R_int_2013_no_nan_ac.is_segregating().sum()))\n",
    "print(\"Number of biallelic SNPs 2013 (3R_int):\", snps_3R_int_2013_no_nan_ac.is_biallelic().sum())\n",
    "print(\"Number of multiallelic SNPs 2013 (3R_int):\", (snps_3R_int_2013_no_nan_ac.is_segregating().sum()- snps_3R_int_2013_no_nan_ac.is_biallelic().sum()))\n",
    "\n",
    "print(\"\\nNumber of variants 2015 (3R_int):\", len(snps_3R_int_2015_no_nan.variants))\n",
    "print(\"Number of fixed sites 2015 (3R_int):\", np.count_nonzero(~snps_3R_int_2015_no_nan_ac.is_variant()))\n",
    "print(\"Number of segregating SNPs 2015 (3R_int):\", (snps_3R_int_2015_no_nan_ac.is_segregating().sum()))\n",
    "print(\"Number of biallelic SNPs 2015 (3R_int):\", snps_3R_int_2015_no_nan_ac.is_biallelic().sum())\n",
    "print(\"Number of multiallelic SNPs 2015 (3R_int):\", (snps_3R_int_2015_no_nan_ac.is_segregating().sum()- snps_3R_int_2015_no_nan_ac.is_biallelic().sum()))"
   ]
  },
  {
   "cell_type": "markdown",
   "id": "aacd187b",
   "metadata": {},
   "source": [
    "#### For the new chromosome positions"
   ]
  },
  {
   "cell_type": "code",
   "execution_count": null,
   "id": "c8869020",
   "metadata": {},
   "outputs": [],
   "source": [
    "# Conducting snp_calls for the desired samples\n",
    "snps_X_4_2013_new = ag3.snp_calls(cohort_size=70, region= \"X:1-14000000\", site_mask=\"gamb_colu\", site_class=\"CDS_DEG_4\", sample_query = \"(country == 'Mali') and (taxon == 'coluzzii') and (year == 2013) and (location == 'Sokourani (Niono)')\")\n",
    "snps_3R_4_2013_new = ag3.snp_calls(cohort_size=70,region= \"3R:1-35000000\", site_mask=\"gamb_colu\", site_class=\"CDS_DEG_4\", sample_query = \"(country == 'Mali') and (taxon == 'coluzzii') and (year == 2013) and (location == 'Sokourani (Niono)')\")\n",
    "snps_X_int_2013_new = ag3.snp_calls(cohort_size=70,region= \"X:1-14000000\", site_mask=\"gamb_colu\", site_class=\"INTERGENIC\", sample_query = \"(country == 'Mali') and (taxon == 'coluzzii') and (year == 2013) and (location == 'Sokourani (Niono)')\")\n",
    "snps_3R_int_2013_new = ag3.snp_calls(cohort_size=70, region= \"3R:1-35000000\", site_mask=\"gamb_colu\", site_class=\"INTERGENIC\", sample_query = \"(country == 'Mali') and (taxon == 'coluzzii') and (year == 2013) and (location == 'Sokourani (Niono)')\")"
   ]
  },
  {
   "cell_type": "code",
   "execution_count": null,
   "id": "cc0183d8",
   "metadata": {},
   "outputs": [],
   "source": [
    "snps_X_4_2015_new = ag3.snp_calls(cohort_size=70, region= \"X:1-14000000\", site_mask=\"gamb_colu\", site_class=\"CDS_DEG_4\", sample_query = \"(country == 'Mali') and (taxon == 'coluzzii') and (year == 2015) and (location == 'Sokourani (Niono)')\")\n",
    "snps_3R_4_2015_new = ag3.snp_calls(cohort_size=70,region= \"3R:1-35000000\", site_mask=\"gamb_colu\", site_class=\"CDS_DEG_4\", sample_query = \"(country == 'Mali') and (taxon == 'coluzzii') and (year == 2015) and (location == 'Sokourani (Niono)')\")\n",
    "snps_X_int_2015_new = ag3.snp_calls(cohort_size=70,region= \"X:1-14000000\", site_mask=\"gamb_colu\", site_class=\"INTERGENIC\", sample_query = \"(country == 'Mali') and (taxon == 'coluzzii') and (year == 2015) and (location == 'Sokourani (Niono)')\")\n",
    "snps_3R_int_2015_new = ag3.snp_calls(cohort_size=70, region= \"3R:1-35000000\", site_mask=\"gamb_colu\", site_class=\"INTERGENIC\", sample_query = \"(country == 'Mali') and (taxon == 'coluzzii') and (year == 2015) and (location == 'Sokourani (Niono)')\")"
   ]
  },
  {
   "cell_type": "code",
   "execution_count": null,
   "id": "4d9e4baf",
   "metadata": {},
   "outputs": [],
   "source": [
    "# Computing genotype calls with the SNP datasets\n",
    "snps_X_4_2013_new_gt = allel.GenotypeDaskArray(snps_X_4_2013_new[\"call_genotype\"].data)\n",
    "snps_3R_4_2013_new_gt = allel.GenotypeDaskArray(snps_3R_4_2013_new[\"call_genotype\"].data)\n",
    "snps_X_int_2013_new_gt= allel.GenotypeDaskArray(snps_X_int_2013_new[\"call_genotype\"].data)\n",
    "snps_3R_int_2013_new_gt = allel.GenotypeDaskArray(snps_3R_int_2013_new[\"call_genotype\"].data)\n",
    "\n",
    "snps_X_4_2015_new_gt = allel.GenotypeDaskArray(snps_X_4_2015_new[\"call_genotype\"].data)\n",
    "snps_3R_4_2015_new_gt  = allel.GenotypeDaskArray(snps_3R_4_2015_new[\"call_genotype\"].data)\n",
    "snps_X_int_2015_new_gt  = allel.GenotypeDaskArray(snps_X_int_2015_new[\"call_genotype\"].data)\n",
    "snps_3R_int_2015_new_gt  = allel.GenotypeDaskArray(snps_3R_int_2015_new[\"call_genotype\"].data)"
   ]
  },
  {
   "cell_type": "code",
   "execution_count": null,
   "id": "0948f1ec",
   "metadata": {},
   "outputs": [],
   "source": [
    "# Filter the snps for non-missing snps only\n",
    "snps_X_4_2013_new_no_nan = remove_missing(snps_X_4_2013_new, snps_X_4_2013_new_gt)\n",
    "snps_X_int_2013_new_no_nan = remove_missing(snps_X_int_2013_new, snps_X_int_2013_new_gt)\n",
    "snps_3R_4_2013_new_no_nan = remove_missing(snps_3R_4_2013_new, snps_3R_4_2013_new_gt)\n",
    "snps_3R_int_2013_new_no_nan = remove_missing(snps_3R_int_2013_new, snps_3R_int_2013_new_gt)\n",
    "\n",
    "snps_X_4_2015_new_no_nan = remove_missing(snps_X_4_2015_new, snps_X_4_2015_new_gt)\n",
    "snps_X_int_2015_new_no_nan = remove_missing(snps_X_int_2015_new, snps_X_int_2015_new_gt)\n",
    "snps_3R_4_2015_new_no_nan = remove_missing(snps_3R_4_2015_new, snps_3R_4_2015_new_gt)\n",
    "snps_3R_int_2015_new_no_nan = remove_missing(snps_3R_int_2015_new, snps_3R_int_2015_new_gt)"
   ]
  },
  {
   "cell_type": "code",
   "execution_count": null,
   "id": "62d71e75",
   "metadata": {},
   "outputs": [],
   "source": [
    "# RE-COMPUTE GENOTYPE CALLS\n",
    "\n",
    "snps_X_4_2013_new_no_nan_gt = allel.GenotypeDaskArray(snps_X_4_2013_new_no_nan[\"call_genotype\"].data)\n",
    "snps_X_int_2013_new_no_nan_gt = allel.GenotypeDaskArray(snps_X_int_2013_new_no_nan[\"call_genotype\"].data)\n",
    "snps_3R_4_2013_new_no_nan_gt = allel.GenotypeDaskArray(snps_3R_4_2013_new_no_nan[\"call_genotype\"].data)\n",
    "snps_3R_int_2013_new_no_nan_gt = allel.GenotypeDaskArray(snps_3R_int_2013_new_no_nan[\"call_genotype\"].data)\n",
    "\n",
    "snps_X_4_2015_new_no_nan_gt = allel.GenotypeDaskArray(snps_X_4_2015_new_no_nan[\"call_genotype\"].data)\n",
    "snps_X_int_2015_new_no_nan_gt = allel.GenotypeDaskArray(snps_X_int_2015_new_no_nan[\"call_genotype\"].data)\n",
    "snps_3R_4_2015_new_no_nan_gt = allel.GenotypeDaskArray(snps_3R_4_2015_new_no_nan[\"call_genotype\"].data)\n",
    "snps_3R_int_2015_new_no_nan_gt = allel.GenotypeDaskArray(snps_3R_int_2015_new_no_nan[\"call_genotype\"].data)"
   ]
  },
  {
   "cell_type": "code",
   "execution_count": null,
   "id": "7de79cd5",
   "metadata": {},
   "outputs": [],
   "source": [
    "# COMPUTE ALLELE COUNTS\n",
    "\n",
    "snps_X_4_2013_new_no_nan_ac = snps_X_4_2013_new_no_nan_gt.count_alleles(max_allele=3).compute()\n",
    "snps_X_int_2013_new_no_nan_ac = snps_X_int_2013_new_no_nan_gt.count_alleles(max_allele=3).compute()\n",
    "snps_3R_4_2013_new_no_nan_ac = snps_3R_4_2013_new_no_nan_gt.count_alleles(max_allele=3).compute()\n",
    "snps_3R_int_2013_new_no_nan_ac = snps_3R_int_2013_new_no_nan_gt.count_alleles(max_allele=3).compute()\n",
    "\n",
    "snps_X_4_2015_new_no_nan_ac = snps_X_4_2015_new_no_nan_gt.count_alleles(max_allele=3).compute()\n",
    "snps_X_int_2015_new_no_nan_ac = snps_X_int_2015_new_no_nan_gt.count_alleles(max_allele=3).compute()\n",
    "snps_3R_4_2015_new_no_nan_ac = snps_3R_4_2015_new_no_nan_gt.count_alleles(max_allele=3).compute()\n",
    "snps_3R_int_2015_new_no_nan_ac = snps_3R_int_2015_new_no_nan_gt.count_alleles(max_allele=3).compute()"
   ]
  },
  {
   "cell_type": "code",
   "execution_count": null,
   "id": "7b5c1b64",
   "metadata": {},
   "outputs": [],
   "source": [
    "# COUNT THE NUMBER OF VARIANTS (BIALLELIC, MULTIALLELIC AND FIXED) FOR THE NEW CHROMOSOME POSITIONS\n",
    "\n",
    "print(\"Number of variants 2013 (X_4):\", len(snps_X_4_2013_new_no_nan)) # Total number of sites\n",
    "print(\"Number of fixed sites 2013 (X_4):\", np.count_nonzero(~snps_X_4_2013_new_no_nan_ac.is_variant())) #~ needed to count where it is false\n",
    "print(\"Number of segregating SNPs 2013 (X_4):\", (snps_X_4_2013_new_no_nan_ac.is_segregating().sum()))\n",
    "print(\"Number of biallelic SNPs 2013 (X_4):\", snps_X_4_2013_new_no_nan_ac.is_biallelic().sum())\n",
    "print(\"Number of multiallelic SNPs 2013 (X_4):\", (snps_X_4_2013_new_no_nan_ac.is_segregating().sum()- snps_X_4_2013_new_no_nan_ac.is_biallelic().sum()))\n",
    "\n",
    "print(\"\\nNumber of variants 2015 (X_4):\", len(snps_X_4_2015_new_no_nan))\n",
    "print(\"Number of fixed sites 2015 (X_4):\", np.count_nonzero(~snps_X_4_2015_new_no_nan_ac.is_variant()))\n",
    "print(\"Number of segregating SNPs 2015 (X_4):\", (snps_X_4_2015_new_no_nan_ac.is_segregating().sum()))\n",
    "print(\"Number of biallelic SNPs 2015 (X_4):\", snps_X_4_2015_new_no_nan_ac.is_biallelic().sum())\n",
    "print(\"Number of multiallelic SNPs 2015 (X_4):\", (snps_X_4_2015_new_no_nan_ac.is_segregating().sum()- snps_X_4_2015_new_no_nan_ac.is_biallelic().sum()))\n",
    "\n",
    "print(\"\\nNumber of variants 2013 (X_int):\", len(snps_X_int_2013_new_no_nan))\n",
    "print(\"Number of fixed sites 2013 (X_int):\", np.count_nonzero(~snps_X_int_2013_new_no_nan_ac.is_variant()))\n",
    "print(\"Number of segregating SNPs 2013 (X_int):\", (snps_X_int_2013_new_no_nan_ac.is_segregating().sum()))\n",
    "print(\"Number of biallelic SNPs 2013 (X_int):\", snps_X_int_2013_new_no_nan_ac.is_biallelic().sum())\n",
    "print(\"Number of multiallelic SNPs 2013 (X_int):\", (snps_X_int_2013_new_no_nan_ac.is_segregating().sum()- snps_X_int_2013_new_no_nan_ac.is_biallelic().sum()))\n",
    "\n",
    "\n",
    "print(\"\\nNumber of variants 2015 (X_int):\", len(snps_X_int_2015_new_no_nan))\n",
    "print(\"Number of fixed sites 2015 (X_int):\", np.count_nonzero(~snps_X_int_2015_new_no_nan_ac.is_variant()))\n",
    "print(\"Number of segregating SNPs 2015 (X_int):\", (snps_X_int_2015_new_no_nan_ac.is_segregating().sum()))\n",
    "print(\"Number of biallelic SNPs 2015 (X_int):\", snps_X_int_2015_new_no_nan_ac.is_biallelic().sum())\n",
    "print(\"Number of multiallelic SNPs 2015 (X_int):\", (snps_X_int_2015_new_no_nan_ac.is_segregating().sum()- snps_X_int_2015_new_no_nan_ac.is_biallelic().sum()))\n",
    "\n",
    "print(\"\\nNumber of variants 2013 (3R_4):\", len(snps_3R_4_2013_new_no_nan))\n",
    "print(\"Number of fixed sites 2013 (3R_4):\", np.count_nonzero(~snps_3R_4_2013_new_no_nan_ac.is_variant()))\n",
    "print(\"Number of segregating SNPs 2013 (3R_4):\", (snps_3R_4_2013_new_no_nan_ac.is_segregating().sum()))\n",
    "print(\"Number of biallelic SNPs 2013 (3R_4):\", snps_3R_4_2013_new_no_nan_ac.is_biallelic().sum())\n",
    "print(\"Number of multiallelic SNPs 2013 (3R_4):\", (snps_3R_4_2013_new_no_nan_ac.is_segregating().sum()- snps_3R_4_2013_new_no_nan_ac.is_biallelic().sum()))\n",
    "\n",
    "print(\"\\nNumber of variants 2015 (3R_4):\", len(snps_3R_4_2015_new_no_nan))\n",
    "print(\"Number of fixed sites 2015 (3R_4):\", np.count_nonzero(~snps_3R_4_2015_new_no_nan_ac.is_variant()))\n",
    "print(\"Number of segregating SNPs 2015 (3R_4):\", (snps_3R_4_2015_new_no_nan_ac.is_segregating().sum()))\n",
    "print(\"Number of biallelic SNPs 2015 (3R_4):\", snps_3R_4_2015_new_no_nan_ac.is_biallelic().sum())\n",
    "print(\"Number of multiallelic SNPs 2015 (3R_4):\", (snps_3R_4_2015_new_no_nan_ac.is_segregating().sum()- snps_3R_4_2015_new_no_nan_ac.is_biallelic().sum()))\n",
    "\n",
    "print(\"\\nNumber of variants 2013 (3R_int):\", len(snps_3R_int_2013_new_no_nan))\n",
    "print(\"Number of fixed sites 2013 (3R_int):\", np.count_nonzero(~snps_3R_int_2013_new_no_nan_ac.is_variant()))\n",
    "print(\"Number of segregating SNPs 2013 (3R_int):\", (snps_3R_int_2013_new_no_nan_ac.is_segregating().sum()))\n",
    "print(\"Number of biallelic SNPs 2013 (3R_int):\", snps_3R_int_2013_new_no_nan_ac.is_biallelic().sum())\n",
    "print(\"Number of multiallelic SNPs 2013 (3R_int):\", (snps_3R_int_2013_new_no_nan_ac.is_segregating().sum()- snps_3R_int_2013_new_no_nan_ac.is_biallelic().sum()))\n",
    "\n",
    "print(\"\\nNumber of variants 2015 (3R_int):\", len(snps_3R_int_2015_new_no_nan))\n",
    "print(\"Number of fixed sites 2015 (3R_int):\", np.count_nonzero(~snps_3R_int_2015_new_no_nan_ac.is_variant()))\n",
    "print(\"Number of segregating SNPs 2015 (3R_int):\", (snps_3R_int_2015_new_no_nan_ac.is_segregating().sum()))\n",
    "print(\"Number of biallelic SNPs 2015 (3R_int):\", snps_3R_int_2015_new_no_nan_ac.is_biallelic().sum())\n",
    "print(\"Number of multiallelic SNPs 2015 (3R_int):\", (snps_3R_int_2015_new_no_nan_ac.is_segregating().sum()- snps_3R_int_2015_new_no_nan_ac.is_biallelic().sum()))"
   ]
  },
  {
   "cell_type": "code",
   "execution_count": null,
   "id": "fbae5623",
   "metadata": {},
   "outputs": [],
   "source": []
  }
 ],
 "metadata": {
  "kernelspec": {
   "display_name": "Python 3 (ipykernel)",
   "language": "python",
   "name": "python3"
  },
  "language_info": {
   "codemirror_mode": {
    "name": "ipython",
    "version": 3
   },
   "file_extension": ".py",
   "mimetype": "text/x-python",
   "name": "python",
   "nbconvert_exporter": "python",
   "pygments_lexer": "ipython3",
   "version": "3.9.13"
  }
 },
 "nbformat": 4,
 "nbformat_minor": 5
}
